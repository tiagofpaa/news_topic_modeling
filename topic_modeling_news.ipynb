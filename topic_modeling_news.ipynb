{
 "cells": [
  {
   "cell_type": "markdown",
   "metadata": {},
   "source": [
    "# Imports\n",
    "\n",
    "Zona em que são definidos os imports necessários."
   ]
  },
  {
   "cell_type": "code",
   "execution_count": 1,
   "metadata": {},
   "outputs": [],
   "source": [
    "import warnings\n",
    "warnings.filterwarnings(\"ignore\", category=DeprecationWarning) \n",
    "import json\n",
    "import re\n",
    "import numpy as np\n",
    "import random\n",
    "import spacy\n",
    "import nltk\n",
    "from nltk.stem import PorterStemmer\n",
    "from nltk.stem import WordNetLemmatizer\n",
    "from nltk.corpus import stopwords\n",
    "from nltk.tokenize import word_tokenize\n",
    "from nltk import chunk\n",
    "import gensim\n",
    "from gensim import corpora\n",
    "from gensim.models import CoherenceModel\n",
    "from gensim.models import HdpModel\n",
    "import matplotlib.pyplot as plt\n",
    "from wordcloud import WordCloud\n",
    "import collections\n",
    "import unicodedata\n",
    "import pandas as pd\n",
    "from operator import itemgetter"
   ]
  },
  {
   "cell_type": "markdown",
   "metadata": {},
   "source": [
    "# Funções auxiliares\n",
    "\n",
    "Funções que são utilizadas ao longo do código."
   ]
  },
  {
   "cell_type": "markdown",
   "metadata": {},
   "source": [
    "Função que ordena um dicionário descendentemente de acordo com os seus values."
   ]
  },
  {
   "cell_type": "code",
   "execution_count": 2,
   "metadata": {},
   "outputs": [],
   "source": [
    "def sort_dict(dictionary):\n",
    "    sorted_dict = sorted(dictionary.items(), key=lambda item: item[1], reverse=True)\n",
    "    sorted_dict = collections.OrderedDict(sorted_dict)\n",
    "    sorted_dict = dict(sorted_dict)\n",
    "    return sorted_dict"
   ]
  },
  {
   "cell_type": "markdown",
   "metadata": {},
   "source": [
    "Função que devolve uma lista com as palavras dos tópicos."
   ]
  },
  {
   "cell_type": "code",
   "execution_count": 3,
   "metadata": {},
   "outputs": [],
   "source": [
    "def words_per_topic(topics):\n",
    "    topics_list = []\n",
    "    for topicid, topic in topics:\n",
    "        words_per_topic = []\n",
    "        for word, weight in topic:\n",
    "            words_per_topic.append(word)\n",
    "        topics_list.append(words_per_topic)\n",
    "    return topics_list"
   ]
  },
  {
   "cell_type": "markdown",
   "metadata": {},
   "source": [
    "Função que devolve uma lista dicionários de das palavras e pesos por tópicos tópicos."
   ]
  },
  {
   "cell_type": "code",
   "execution_count": 4,
   "metadata": {},
   "outputs": [],
   "source": [
    "def words_weigths_per_topic(topics):\n",
    "    topics_list = []\n",
    "    for topicid, topic in topics:\n",
    "        words_weigths_per_topic = {}\n",
    "        for word, weight in topic:\n",
    "            words_weigths_per_topic.update({word:weight})\n",
    "        topics_list.append(words_weigths_per_topic)\n",
    "    return topics_list"
   ]
  },
  {
   "cell_type": "markdown",
   "metadata": {},
   "source": [
    "Função que devolve um dicionário com o key igual ao id do topico e o value como o nome do topico.\n",
    "Baseia-se a partir dos ficheiros/bibliotecas importados. Para cada ficheiro/biblioteca é criado um incrementador, é verificado quantas palavras de cada tópico existem, e para cada palavra igual, incrementa o peso associado.\n",
    "No final verifica qual é o nome do tópico que tem maior número de incremetador e adiciona a um dicionário o id desse tópico e o respectivo nome.\n",
    "É possivel verificar com maior detalhe o funcionamento desta função de busca, descomentando o que está comentado."
   ]
  },
  {
   "cell_type": "code",
   "execution_count": 5,
   "metadata": {},
   "outputs": [],
   "source": [
    "def define_topics_names(words_weigths_per_topic, books_words_list, cars_words_list, computers_words_list, cookware_words_list, hotels_words_list, movies_words_list, music_words_list, phones_words_list):\n",
    "    topics_weight = {}\n",
    "    id_topics_weight = {}\n",
    "    id_topic = -1\n",
    "    for topics in words_weigths_per_topic:\n",
    "        id_topic += 1\n",
    "        #print(\"Palavras do tópico {}:\".format(id_topic))\n",
    "        #print(topics)\n",
    "        books_weight = 0\n",
    "        cars_weight = 0\n",
    "        computers_weight = 0\n",
    "        cookware_weight = 0\n",
    "        hotels_weight = 0\n",
    "        movies_weight = 0\n",
    "        music_weight = 0\n",
    "        phones_weight = 0\n",
    "        for word_in_topic, weight_in_topic in topics.items():\n",
    "            for word_books_list in books_words_list:\n",
    "                if word_in_topic == word_books_list:\n",
    "                    books_weight += abs(weight_in_topic)\n",
    "                    #print(\"Para a biblioteca Books encontrou as palavras: \" + str(word_in_topic))\n",
    "            for word_cars_list in cars_words_list:\n",
    "                if word_in_topic == word_cars_list:\n",
    "                    cars_weight += abs(weight_in_topic)\n",
    "                    #print(\"Para a biblioteca Cars encontrou as palavras: \" + str(word_cars_list))\n",
    "            for word_computers_list in computers_words_list:\n",
    "                if word_in_topic == word_computers_list:\n",
    "                    computers_weight += abs(weight_in_topic)\n",
    "                    #print(\"Para a biblioteca Computers encontrou as palavras: \" + str(word_computers_list))\n",
    "            for word_cookware_list in cookware_words_list:\n",
    "                if word_in_topic == word_cookware_list:\n",
    "                    cookware_weight += abs(weight_in_topic)\n",
    "                    #print(\"Para a biblioteca Cookware encontrou as palavras: \" + str(word_cookware_list))\n",
    "            for word_hotels_list in hotels_words_list:\n",
    "                if word_in_topic == word_hotels_list:\n",
    "                    hotels_weight += abs(weight_in_topic)\n",
    "                    #print(\"Para a biblioteca Hotels encontrou as palavras: \" + str(word_hotels_list))\n",
    "            for word_movies_list in movies_words_list:\n",
    "                if word_in_topic == word_movies_list:\n",
    "                    movies_weight += abs(weight_in_topic)\n",
    "                    #print(\"Para a biblioteca Movies encontrou as palavras: \" + str(word_movies_list))\n",
    "            for word_music_list in music_words_list:\n",
    "                if word_in_topic == word_music_list:\n",
    "                    music_weight += abs(weight_in_topic)\n",
    "                    #print(\"Para a biblioteca Music encontrou as palavras: \" + str(word_music_list))\n",
    "            for word_phones_list in phones_words_list:\n",
    "                if word_in_topic == word_phones_list:\n",
    "                    phones_weight += abs(weight_in_topic)\n",
    "                    #print(\"Para a biblioteca Phones encontrou as palavras: \" + str(word_phones_list))\n",
    "                    \n",
    "                      \n",
    "        topics_weight = {'Books':books_weight, 'Cars':cars_weight, 'Computers':computers_weight, 'Cookware':cookware_weight, 'Hotels':hotels_weight, 'Movies':movies_weight, 'Music':music_weight, 'Phones':phones_weight}\n",
    "        sorted_topics_weight = sort_dict(topics_weight)\n",
    "        id_topics_weight.update({id_topic:sorted_topics_weight})\n",
    "    #print(id_topics_weight)\n",
    "    #print(\"\")\n",
    "    \n",
    "    final_dict = {}\n",
    "    for key, value in id_topics_weight.items():\n",
    "        id_topic = key\n",
    "        iterate_items = 0\n",
    "        for topic, weight in value.items():\n",
    "            if iterate_items == 0:\n",
    "                topic_name_1 = topic\n",
    "                max_value_1 = weight\n",
    "            if iterate_items == 1:\n",
    "                if max_value_1 == weight:\n",
    "                    topic_name_2 = topic\n",
    "                    max_value_2 = weight\n",
    "                    topics_names = str(topic_name_1) + \", \" + str(topic_name_2)\n",
    "                    final_dict.update({id_topic:topics_names})\n",
    "                else:\n",
    "                    final_dict.update({id_topic:topic_name_1})\n",
    "                if max_value_1 == 0:\n",
    "                    final_dict.update({id_topic:\"???\"})\n",
    "            iterate_items += 1\n",
    "    #print(final_dict)\n",
    "    #print(\"\")\n",
    "    return final_dict"
   ]
  },
  {
   "cell_type": "markdown",
   "metadata": {},
   "source": [
    "# Importação dos dados\n",
    "\n",
    "Importação dos dados para um dicionário.\n",
    "Visualização das keys dos mesmos.\n",
    "Criação de uma lista apenas com \"text\".\n",
    "É excluido \"recommended\" porque não nos interessa.\n",
    "Não é realizado o baralhamento dos mesmos porque na inferência é necessário verificar manualmente a que tópicos correspondem."
   ]
  },
  {
   "cell_type": "code",
   "execution_count": 6,
   "metadata": {},
   "outputs": [
    {
     "name": "stdout",
     "output_type": "stream",
     "text": [
      "dict_keys(['text', 'recommended'])\n",
      "Existem 400 reviews\n"
     ]
    }
   ],
   "source": [
    "dataset = []\n",
    "for review in open(\"../TM/data/en/SFU_Review_Corpus.json\", \"r\"):\n",
    "    dataset.append(json.loads(review))\n",
    "print(dataset[0].keys())\n",
    "\n",
    "reviews = []\n",
    "for review in dataset:\n",
    "    reviews.append(review[\"text\"])\n",
    "    \n",
    "print(\"Existem \" + str(len(reviews)) + \" reviews\")"
   ]
  },
  {
   "cell_type": "markdown",
   "metadata": {},
   "source": [
    "# Importação dos ficheiros\n",
    "\n",
    "Importação dos ficheiros/bibliotecas com as palarvas mais relacionadas com os tópicos."
   ]
  },
  {
   "cell_type": "markdown",
   "metadata": {},
   "source": [
    "## Books"
   ]
  },
  {
   "cell_type": "code",
   "execution_count": 7,
   "metadata": {},
   "outputs": [],
   "source": [
    "books_words_list = []\n",
    "with open('../TM_Trabalho_2/Topics/books.csv', encoding='ISO-8859-1') as csvfile:\n",
    "    for row in csvfile:\n",
    "        row = re.sub(\"[\\n]\", \"\", row)\n",
    "        books_words_list.append(row)"
   ]
  },
  {
   "cell_type": "markdown",
   "metadata": {},
   "source": [
    "## Cars"
   ]
  },
  {
   "cell_type": "code",
   "execution_count": 8,
   "metadata": {},
   "outputs": [],
   "source": [
    "cars_words_list = []\n",
    "with open('../TM_Trabalho_2/Topics/cars.csv', encoding='ISO-8859-1') as csvfile:\n",
    "    for row in csvfile:\n",
    "        row = re.sub(\"[\\n]\", \"\", row)\n",
    "        cars_words_list.append(row)"
   ]
  },
  {
   "cell_type": "markdown",
   "metadata": {},
   "source": [
    "## Computers"
   ]
  },
  {
   "cell_type": "code",
   "execution_count": 9,
   "metadata": {},
   "outputs": [],
   "source": [
    "computers_words_list = []\n",
    "with open('../TM_Trabalho_2/Topics/computers.csv', encoding='ISO-8859-1') as csvfile:\n",
    "    for row in csvfile:\n",
    "        row = re.sub(\"[\\n]\", \"\", row)\n",
    "        computers_words_list.append(row)"
   ]
  },
  {
   "cell_type": "markdown",
   "metadata": {},
   "source": [
    "## Cookware"
   ]
  },
  {
   "cell_type": "code",
   "execution_count": 10,
   "metadata": {},
   "outputs": [],
   "source": [
    "cookware_words_list = []\n",
    "with open('../TM_Trabalho_2/Topics/cookware.csv', encoding='ISO-8859-1') as csvfile:\n",
    "    for row in csvfile:\n",
    "        row = re.sub(\"[\\n]\", \"\", row)\n",
    "        cookware_words_list.append(row)"
   ]
  },
  {
   "cell_type": "markdown",
   "metadata": {},
   "source": [
    "## Hotels"
   ]
  },
  {
   "cell_type": "code",
   "execution_count": 11,
   "metadata": {},
   "outputs": [],
   "source": [
    "hotels_words_list = []\n",
    "with open('../TM_Trabalho_2/Topics/hotels.csv', encoding='ISO-8859-1') as csvfile:\n",
    "    for row in csvfile:\n",
    "        row = re.sub(\"[\\n]\", \"\", row)\n",
    "        hotels_words_list.append(row)"
   ]
  },
  {
   "cell_type": "markdown",
   "metadata": {},
   "source": [
    "## Movies"
   ]
  },
  {
   "cell_type": "code",
   "execution_count": 12,
   "metadata": {},
   "outputs": [],
   "source": [
    "movies_words_list = []\n",
    "with open('../TM_Trabalho_2/Topics/movies.csv', encoding='ISO-8859-1') as csvfile:\n",
    "    for row in csvfile:\n",
    "        row = re.sub(\"[\\n]\", \"\", row)\n",
    "        movies_words_list.append(row)"
   ]
  },
  {
   "cell_type": "markdown",
   "metadata": {},
   "source": [
    "## Musics"
   ]
  },
  {
   "cell_type": "code",
   "execution_count": 13,
   "metadata": {},
   "outputs": [],
   "source": [
    "music_words_list = []\n",
    "with open('../TM_Trabalho_2/Topics/musics.csv', encoding='ISO-8859-1') as csvfile:\n",
    "    for row in csvfile:\n",
    "        row = re.sub(\"[\\n]\", \"\", row)\n",
    "        music_words_list.append(row)"
   ]
  },
  {
   "cell_type": "markdown",
   "metadata": {},
   "source": [
    "## Phones"
   ]
  },
  {
   "cell_type": "code",
   "execution_count": 14,
   "metadata": {},
   "outputs": [],
   "source": [
    "phones_words_list = []\n",
    "with open('../TM_Trabalho_2/Topics/phones.csv', encoding='ISO-8859-1') as csvfile:\n",
    "    for row in csvfile:\n",
    "        row = re.sub(\"[\\n]\", \"\", row)\n",
    "        phones_words_list.append(row)"
   ]
  },
  {
   "cell_type": "markdown",
   "metadata": {},
   "source": [
    "# Remoção da pontuação\n",
    "\n",
    "Função que remove a pontuação."
   ]
  },
  {
   "cell_type": "code",
   "execution_count": 15,
   "metadata": {},
   "outputs": [],
   "source": [
    "def punctuation_treatment(review):\n",
    "    review = re.sub(r\"[^\\w\\s]|_\", \" \", review)\n",
    "    review = re.sub(\"[\\n\\r]\", \" \", review)\n",
    "    review = re.sub(\"_\",\" \", review)\n",
    "    review = re.sub(\" +\",\" \",review)\n",
    "    review = re.sub(\" +$\",\"\",review)\n",
    "    review = re.sub(\"^ +\",\"\",review)\n",
    "    return review"
   ]
  },
  {
   "cell_type": "markdown",
   "metadata": {},
   "source": [
    "# Minúsculas\n",
    "\n",
    "Função que altera todos os caracteres da review para minúsculas."
   ]
  },
  {
   "cell_type": "code",
   "execution_count": 16,
   "metadata": {},
   "outputs": [],
   "source": [
    "def lower_case_treatment(review):\n",
    "    return review.lower()"
   ]
  },
  {
   "cell_type": "markdown",
   "metadata": {},
   "source": [
    "# Stop words\n",
    "\n",
    "Função que remove as stop words."
   ]
  },
  {
   "cell_type": "code",
   "execution_count": 17,
   "metadata": {},
   "outputs": [],
   "source": [
    "def stop_words_treatment(review):\n",
    "    stop_words = set(stopwords.words('english'))\n",
    "    words = word_tokenize(review)\n",
    "    correct_review = [] \n",
    "    for word in words: \n",
    "        if word not in stop_words: \n",
    "            correct_review.append(word)\n",
    "    return \" \".join(correct_review)"
   ]
  },
  {
   "cell_type": "markdown",
   "metadata": {},
   "source": [
    "# Números\n",
    "\n",
    "Função que remove todos os números."
   ]
  },
  {
   "cell_type": "code",
   "execution_count": 18,
   "metadata": {},
   "outputs": [],
   "source": [
    "def numbers_treatment(review):\n",
    "    review = re.sub(r\"[0-9]\", \"\", review)\n",
    "    return review"
   ]
  },
  {
   "cell_type": "markdown",
   "metadata": {},
   "source": [
    "# Números cardinais e ordinais\n",
    "\n",
    "Função que remove todos os números cardinais e ordinais."
   ]
  },
  {
   "cell_type": "code",
   "execution_count": 19,
   "metadata": {},
   "outputs": [],
   "source": [
    "def cardinal_ordinal_numbers_treatment(review):\n",
    "    review = re.sub(r\"\\b((?i)(one|two|three|four|five|six|seven|eight|nine|ten|eleven|twelve|thirteen|fourteen|fifteen|sixteen|seventeen|eighteen|nineteen|twenty|thirty|forty|fifty|sixty|seventy|eighty|ninety|first|second|third|fourth|fifth|sixth|seventh|eighth|ninth|tenth))\\b\", \"\", review)\n",
    "    return review"
   ]
  },
  {
   "cell_type": "markdown",
   "metadata": {},
   "source": [
    "# Um Caracter\n",
    "\n",
    "Função que remove todas as palavras com apenas 1 caracter."
   ]
  },
  {
   "cell_type": "code",
   "execution_count": 20,
   "metadata": {},
   "outputs": [],
   "source": [
    "def one_character_treatment(review):\n",
    "    review = re.sub(r\"(?<!\\S).(?!\\S)\\s*\", \"\", review)\n",
    "    return review"
   ]
  },
  {
   "cell_type": "markdown",
   "metadata": {},
   "source": [
    "# Lemmatization"
   ]
  },
  {
   "cell_type": "code",
   "execution_count": 21,
   "metadata": {},
   "outputs": [],
   "source": [
    "def lemmatizer_treatment(review):\n",
    "    lemmatizer = WordNetLemmatizer()\n",
    "    lemmatizer_list = [lemmatizer.lemmatize(word) for word in review.split()]\n",
    "    new_text = \" \".join(lemmatizer_list)\n",
    "    return new_text"
   ]
  },
  {
   "cell_type": "markdown",
   "metadata": {},
   "source": [
    "# POS tagging\n",
    "\n",
    "Apenas guarda os Nomes."
   ]
  },
  {
   "cell_type": "code",
   "execution_count": 22,
   "metadata": {},
   "outputs": [],
   "source": [
    "def pos_treatment(review):\n",
    "    words = word_tokenize(review)\n",
    "    pos_tag_text = nltk.pos_tag(words)\n",
    "    review = \" \".join([word[0] for word in pos_tag_text if word[1] in ['NN', 'NNS', 'NNP', 'NNPS']])\n",
    "    return review"
   ]
  },
  {
   "cell_type": "markdown",
   "metadata": {},
   "source": [
    "# Noun Phrase Chunking"
   ]
  },
  {
   "cell_type": "code",
   "execution_count": 23,
   "metadata": {},
   "outputs": [],
   "source": [
    "def chunking_treatment(review):\n",
    "    nlp = spacy.load(\"en_core_web_sm\")\n",
    "    review = \" \".join(word.text for word in nlp(review).noun_chunks)\n",
    "    return review"
   ]
  },
  {
   "cell_type": "markdown",
   "metadata": {},
   "source": [
    "# Tratamento dos dados\n",
    "\n",
    "Função para o tratamento dos dados.\n"
   ]
  },
  {
   "cell_type": "code",
   "execution_count": 24,
   "metadata": {},
   "outputs": [],
   "source": [
    "def data_treatment(review, with_lower_case, with_lemmatizer, with_pos, with_chuncking):\n",
    "    if with_lower_case:\n",
    "        review = lower_case_treatment(review)\n",
    "    review = numbers_treatment(review)\n",
    "    review = cardinal_ordinal_numbers_treatment(review)\n",
    "    review = punctuation_treatment(review)\n",
    "    review = one_character_treatment(review)\n",
    "    review = stop_words_treatment(review)\n",
    "    if with_lemmatizer:\n",
    "        review = lemmatizer_treatment(review)\n",
    "    if with_chuncking:   \n",
    "        review = chunking_treatment(review)\n",
    "    if with_pos:\n",
    "        review = pos_treatment(review)\n",
    "    return review"
   ]
  },
  {
   "cell_type": "markdown",
   "metadata": {},
   "source": [
    "# Preparação dos dados\n",
    "\n",
    "Tratamento das reviews e divisão de dados em 10 reviews para inferência de tópicos e os restantes para treino."
   ]
  },
  {
   "cell_type": "markdown",
   "metadata": {},
   "source": [
    "Nesta fase o tratamento dos dados irá se basear em:\n",
    "\n",
    "- Converter todas as palavras para minúsculas;\n",
    "- Remover todos os números;\n",
    "- Remover todos os números cardinais e ordinais;\n",
    "- Remover toda a pontuação;\n",
    "- Remover todas as palavras com apenas 1 caracter;\n",
    "- Remover todas stop words.\n",
    "\n",
    "Neste caso não é realizado o tratamento das minúsculas e portanto nesta fase iremos obter piores resultados porque as palavras nos ficheiros/bibliotecas estão em minúsculas, logo não encontra essas palavras."
   ]
  },
  {
   "cell_type": "code",
   "execution_count": 25,
   "metadata": {},
   "outputs": [
    {
     "name": "stdout",
     "output_type": "stream",
     "text": [
      "390 documentos para treino\n",
      "10 documentos para teste\n"
     ]
    }
   ],
   "source": [
    "train_list = [data_treatment(review, True, False, False, False).split() for review in reviews[10:]]\n",
    "test_list = [data_treatment(review, True, False, False, False).split() for review in reviews[:10]]\n",
    "\n",
    "print(str(len(train_list)) + \" documentos para treino\")\n",
    "print(str(len(test_list)) + \" documentos para teste\")"
   ]
  },
  {
   "cell_type": "markdown",
   "metadata": {},
   "source": [
    "# Document-Term Matrix\n",
    "\n",
    "Construção da matriz de documentos por termos necessária à construção dos modelos de tópicos.\n",
    "Modelos com 8 tópicos e 15 palavras por tópico."
   ]
  },
  {
   "cell_type": "code",
   "execution_count": 26,
   "metadata": {},
   "outputs": [],
   "source": [
    "dictionary = corpora.Dictionary(train_list)\n",
    "doc_term_matrix = [dictionary.doc2bow(review) for review in train_list]\n",
    "topics = [\"Books\", \"Cars\", \"Computers\", \"Cookware\", \"Hotels\", \"Movies\", \"Music\", \"Phones\"]\n",
    "\n",
    "num_of_words = 15\n",
    "num_of_topics = len(topics)\n",
    "passes_lda = 40"
   ]
  },
  {
   "cell_type": "markdown",
   "metadata": {},
   "source": [
    "Função para visualizar o resultado dos modelos, por tópico e respectivas palavras e pesos."
   ]
  },
  {
   "cell_type": "code",
   "execution_count": 27,
   "metadata": {},
   "outputs": [],
   "source": [
    "def view_topics(topics):\n",
    "    list_of_topics_names = []\n",
    "    list_of_words_per_topic = words_weigths_per_topic(topics)\n",
    "    names_topics_dict = define_topics_names(list_of_words_per_topic, books_words_list, cars_words_list, computers_words_list, cookware_words_list, hotels_words_list, movies_words_list, music_words_list, phones_words_list)\n",
    "    for id_topic, words in topics:\n",
    "        words_weights = {}\n",
    "        for word, weight in words:\n",
    "            words_weights.update({word: weight})\n",
    "        words_by_topic = \"\"\n",
    "        iterator = 1\n",
    "        for key, value in words_weights.items():\n",
    "            if iterator < num_of_words:\n",
    "                    words_by_topic = words_by_topic + \"'\" + str(key) + \"'\" + \":\" + str(value) + \", \"\n",
    "            else:\n",
    "                words_by_topic = words_by_topic + \"'\" + str(key) + \"'\" + \":\" + str(value)\n",
    "            iterator+=1\n",
    "        for identifier, name in names_topics_dict.items():\n",
    "            if id_topic == identifier:\n",
    "                name_of_topic = name\n",
    "        print(\"Topico: {} -> Palavras e pesos = {}\\n\".format(name_of_topic, words_by_topic))\n",
    "        list_of_topics_names.append(name_of_topic)\n",
    "    \n",
    "    return list_of_topics_names"
   ]
  },
  {
   "cell_type": "markdown",
   "metadata": {},
   "source": [
    "# Construção dos modelos de tópicos\n",
    "\n",
    "Modelos com 8 tópicos e 15 palavras por tópico."
   ]
  },
  {
   "cell_type": "markdown",
   "metadata": {},
   "source": [
    "### LSA"
   ]
  },
  {
   "cell_type": "code",
   "execution_count": 28,
   "metadata": {},
   "outputs": [],
   "source": [
    "def create_lsa(doc_term_matrix, dictionary, num_of_topics):\n",
    "    lsa = gensim.models.lsimodel.LsiModel\n",
    "    lsamodel = lsa(doc_term_matrix, num_topics = num_of_topics, id2word = dictionary)\n",
    "    return lsamodel"
   ]
  },
  {
   "cell_type": "code",
   "execution_count": 29,
   "metadata": {},
   "outputs": [
    {
     "name": "stdout",
     "output_type": "stream",
     "text": [
      "Topico: Computers -> Palavras e pesos = 'like':0.2405021262884673, 'car':0.2252304643919244, 'also':0.17604853333436205, 'would':0.1592805482554067, 'get':0.15250152996284425, 'even':0.1291936318626981, 'imac':0.12074211451420663, 'good':0.12040740152598797, 'much':0.11944355588636, 'well':0.11853546625431016, 'time':0.11477806914466036, 'dell':0.1063291716176804, 'new':0.10428272171587713, 'really':0.10336641889782588, 'system':0.10286061489447614\n",
      "\n",
      "Topico: Computers -> Palavras e pesos = 'car':-0.4359802108031394, 'imac':0.26379140357803865, 'dell':0.2131531562841011, 'mac':0.2094866232692194, 'pc':0.1814001286493412, 'apple':0.17013418846335018, 'computer':0.13953661705087156, 'rear':-0.11256032621897889, 'photos':0.10911196199889785, 'applications':0.10516112004972153, 'seat':-0.10498120350430122, 'mail':0.10156661512687708, 'iphoto':0.1000209516204644, 'mouse':0.09774813369576177, 'engine':-0.09447243223196863\n",
      "\n",
      "Topico: Music -> Palavras e pesos = 'car':0.3343736789199912, 'track':-0.27514803590855474, 'song':-0.25698517341172855, 'beat':-0.21833352583492935, 'album':-0.2059015319346637, 'lyrics':-0.1693733840552418, 'dell':0.15896799324399394, 'like':-0.12344873254729365, 'system':0.11998004508132612, 'drive':0.09745026501991891, 'murphy':-0.09116591554130091, 'chorus':-0.08979556848403221, 'hip':-0.08951668167314611, 'spits':-0.08727752846725778, 'hop':-0.08707905579403358\n",
      "\n",
      "Topico: Computers -> Palavras e pesos = 'dell':-0.5460005362750773, 'imac':0.2544561602299698, 'system':-0.25434911740707583, 'mac':0.20429755654427184, 'customer':-0.1412835896898224, 'apple':0.12950428613837586, 'pc':0.11946526071747883, 'software':-0.11872171343158743, 'care':-0.11782390190538106, 'photos':0.1086395952750704, 'may':-0.10101280257434946, 'iphoto':0.10078064851275112, 'applications':0.09655282355366845, 'order':-0.08825145281756316, 'dtc':-0.08236354216295252\n",
      "\n",
      "Topico: Cookware -> Palavras e pesos = 'clad':0.327589327105795, 'pan':0.2750602569541243, 'stainless':0.27464858952761756, 'steel':0.1944925215155364, 'pans':0.1718492819095316, 'song':-0.17127965042968787, 'car':-0.1697213661023759, 'track':-0.1689043343589801, 'cookware':0.1400873920867892, 'fry':0.13683078877150281, 'album':-0.1281180109784529, 'set':0.12509473399393223, 'beat':-0.12470534027665375, 'room':0.12042889945749495, 'lyrics':-0.10470528434168971\n",
      "\n",
      "Topico: Cookware -> Palavras e pesos = 'clad':0.3041744301799366, 'stainless':0.25823290361239365, 'pan':0.23740520358047326, 'room':-0.20823607082489187, 'steel':0.18602162899454605, 'hotel':-0.16742090584888056, 'pans':0.1546436672102273, 'fry':0.13409564228456597, 'disney':-0.13192690224445597, 'resort':-0.12815374700790194, 'car':0.12324765402490791, 'movie':-0.12114031522572548, 'cookware':0.11927524408263446, 'song':0.1148021612506684, 'film':-0.11228465245825746\n",
      "\n",
      "Topico: Phones -> Palavras e pesos = 'phone':-0.5061441104153116, 'room':0.22684346465305907, 'handset':-0.18340042944302065, 'panasonic':-0.18001635348874373, 'hotel':0.16708433414302956, 'battery':-0.13684873441911374, 'base':-0.1343916643764582, 'resort':0.13433765709843065, 'disney':0.13154450223984418, 'phones':-0.1311026939846599, 'cordless':-0.12740095195746187, 'handsets':-0.11280417493055128, 'caller':-0.09849546763290548, 'beach':0.09799506971484061, 'pool':0.09759575820734691\n",
      "\n",
      "Topico: Movies -> Palavras e pesos = 'phone':-0.2981808849915066, 'movie':0.26510444059867283, 'film':0.2570387463198904, 'room':-0.2011758807357762, 'hotel':-0.15925566473820402, 'book':0.14316105154993788, 'story':0.13803661098310463, 'plot':0.1305731318804849, 'resort':-0.12411278262180081, 'santa':0.10810535273996294, 'also':-0.10712191350302296, 'handset':-0.10433562363571917, 'disney':-0.10429607467172147, 'panasonic':-0.09969389722879998, 'beach':-0.09099486919189707\n",
      "\n"
     ]
    },
    {
     "data": {
      "text/plain": [
       "['Computers',\n",
       " 'Computers',\n",
       " 'Music',\n",
       " 'Computers',\n",
       " 'Cookware',\n",
       " 'Cookware',\n",
       " 'Phones',\n",
       " 'Movies']"
      ]
     },
     "execution_count": 29,
     "metadata": {},
     "output_type": "execute_result"
    }
   ],
   "source": [
    "lsamodel = create_lsa(doc_term_matrix, dictionary, num_of_topics)\n",
    "lsa_topics = lsamodel.show_topics(num_topics = num_of_topics, num_words = num_of_words, formatted=False)\n",
    "view_topics(lsa_topics)"
   ]
  },
  {
   "cell_type": "markdown",
   "metadata": {},
   "source": [
    "### LDA"
   ]
  },
  {
   "cell_type": "code",
   "execution_count": 30,
   "metadata": {},
   "outputs": [],
   "source": [
    "def create_lda(doc_term_matrix, dictionary, num_of_topics):\n",
    "    lda = gensim.models.ldamodel.LdaModel\n",
    "    ldamodel = lda(doc_term_matrix, num_topics = num_of_topics, id2word = dictionary, passes = passes_lda)\n",
    "    return ldamodel"
   ]
  },
  {
   "cell_type": "code",
   "execution_count": 31,
   "metadata": {},
   "outputs": [
    {
     "name": "stdout",
     "output_type": "stream",
     "text": [
      "Topico: Computers -> Palavras e pesos = 'computer':0.009540813, 'apple':0.0069972207, 'dell':0.0065722964, 'imac':0.006156721, 'system':0.005296183, 'also':0.0052266587, 'like':0.0050522797, 'pc':0.004971988, 'drive':0.004683175, 'new':0.0046688044, 'mac':0.00450365, 'machine':0.0043331212, 'get':0.004330745, 'would':0.0043129795, 'dvd':0.0041261176\n",
      "\n",
      "Topico: Cookware -> Palavras e pesos = 'pan':0.01248899, 'pans':0.012455554, 'stainless':0.011102913, 'cookware':0.0106142275, 'clad':0.0102039315, 'set':0.0097349435, 'steel':0.0095555335, 'use':0.009151501, 'heat':0.0058786166, 'like':0.0055310996, 'non':0.0049639014, 'pots':0.0049057654, 'stick':0.0048664366, 'dishwasher':0.004740795, 'pot':0.0045700264\n",
      "\n",
      "Topico: Cars -> Palavras e pesos = 'car':0.014513536, 'like':0.0066421744, 'cl':0.004949842, 'type':0.004581522, 'bmw':0.0044056135, 'also':0.004076486, 'engine':0.0036272104, 'acura':0.0036132669, 'drive':0.0035161169, 'much':0.0034330443, 'driver':0.0033464686, 'would':0.0033020542, 'rear':0.0032831845, 'well':0.0032707923, 'seats':0.0032134093\n",
      "\n",
      "Topico: Cars -> Palavras e pesos = 'car':0.017185349, 'like':0.007597553, 'engine':0.004574087, 'ford':0.004395953, 'rear':0.0043689716, 'also':0.004137955, 'seat':0.0041321637, 'much':0.004086691, 'cars':0.003983535, 'good':0.0039539402, 'front':0.0037776064, 'power':0.0037013923, 'well':0.0035182002, 'would':0.0035119685, 'driving':0.0034908236\n",
      "\n",
      "Topico: Phones -> Palavras e pesos = 'phone':0.025920125, 'handset':0.008384163, 'phones':0.007278864, 'panasonic':0.0071153105, 'system':0.0065502278, 'like':0.005937145, 'good':0.005908532, 'base':0.0057421997, 'use':0.005663872, 'handsets':0.005000846, 'cordless':0.0048311367, 'great':0.0048203524, 'ghz':0.0044942657, 'also':0.004421965, 'would':0.004351269\n",
      "\n",
      "Topico: Movies -> Palavras e pesos = 'movie':0.013991782, 'film':0.007887894, 'like':0.0062133293, 'plot':0.004999846, 'even':0.004920899, 'cat':0.0043072565, 'santa':0.0039202953, 'make':0.0037961074, 'would':0.0036986019, 'get':0.0035603277, 'see':0.0035590478, 'details':0.0033868083, 'good':0.0033034792, 'story':0.0032126454, 'time':0.0031367242\n",
      "\n",
      "Topico: Hotels -> Palavras e pesos = 'room':0.010777556, 'hotel':0.009914783, 'resort':0.0055077886, 'disney':0.005351195, 'time':0.0052361777, 'stay':0.004611461, 'rooms':0.0043713786, 'pool':0.004309258, 'also':0.0042158393, 'like':0.004119697, 'would':0.0039808205, 'beach':0.0037329851, 'get':0.0037003092, 'night':0.0036143495, 'us':0.003404288\n",
      "\n",
      "Topico: Music -> Palavras e pesos = 'book':0.008133308, 'album':0.007855984, 'track':0.0075114113, 'like':0.007230697, 'song':0.0071443515, 'beat':0.0054845354, 'story':0.004464008, 'lyrics':0.004427366, 'would':0.0041561, 'time':0.0039574266, 'get':0.0037691342, 'read':0.0036933061, 'good':0.0036882046, 'even':0.0035588439, 'hip':0.003508827\n",
      "\n"
     ]
    },
    {
     "data": {
      "text/plain": [
       "['Computers',\n",
       " 'Cookware',\n",
       " 'Cars',\n",
       " 'Cars',\n",
       " 'Phones',\n",
       " 'Movies',\n",
       " 'Hotels',\n",
       " 'Music']"
      ]
     },
     "execution_count": 31,
     "metadata": {},
     "output_type": "execute_result"
    }
   ],
   "source": [
    "ldamodel = create_lda(doc_term_matrix, dictionary, num_of_topics)\n",
    "lda_topics = ldamodel.show_topics(num_topics = num_of_topics, num_words = num_of_words, formatted=False)\n",
    "view_topics(lda_topics)"
   ]
  },
  {
   "cell_type": "markdown",
   "metadata": {},
   "source": [
    "# Os 3 tópicos mais importantes por modelo\n",
    "\n",
    "Funções que devolvem uma lista com os 3 tópicos mais importantes por modelo."
   ]
  },
  {
   "cell_type": "markdown",
   "metadata": {},
   "source": [
    "### LSA\n",
    "\n",
    "Devolve os 3 primeiros tópicos."
   ]
  },
  {
   "cell_type": "code",
   "execution_count": 32,
   "metadata": {},
   "outputs": [],
   "source": [
    "def get_3_topics_most_important_lsa(lsa_topics):\n",
    "    count_most_important_topics = 0\n",
    "    topics_most_important_list = []\n",
    "    for topic, words in lsa_topics:\n",
    "        topics_most_important_list.append(topic)\n",
    "        count_most_important_topics += 1\n",
    "        if count_most_important_topics == 3:\n",
    "            break\n",
    "            \n",
    "    return topics_most_important_list"
   ]
  },
  {
   "cell_type": "markdown",
   "metadata": {},
   "source": [
    "### LDA\n",
    "\n",
    "Devolve os 3 tópicos mais importantes, i.e., os tópicos com maiores pesos por documentos."
   ]
  },
  {
   "cell_type": "code",
   "execution_count": 33,
   "metadata": {},
   "outputs": [],
   "source": [
    "def get_3_topics_most_important_lda(ldamodel):\n",
    "    increment_0 = 0\n",
    "    increment_1 = 0\n",
    "    increment_2 = 0\n",
    "    increment_3 = 0\n",
    "    increment_4 = 0\n",
    "    increment_5 = 0\n",
    "    increment_6 = 0\n",
    "    increment_7 = 0\n",
    "    increments_dict = {}\n",
    "    \n",
    "    for doc in doc_term_matrix:\n",
    "        dict_topics = {}\n",
    "        if len(ldamodel[doc]) > 1:\n",
    "            for topic, weight in ldamodel[doc]:\n",
    "                dict_topics.update({topic:weight})\n",
    "            dict_topics = sort_dict(dict_topics)\n",
    "            topic_most_important = next(iter(dict_topics))\n",
    "            \n",
    "            if topic_most_important == 0:\n",
    "                increment_0 += 1\n",
    "            if topic_most_important == 1:\n",
    "                increment_1 += 1\n",
    "            if topic_most_important == 2:\n",
    "                increment_2 += 1\n",
    "            if topic_most_important == 3:\n",
    "                increment_3 += 1\n",
    "            if topic_most_important == 4:\n",
    "                increment_4 += 1\n",
    "            if topic_most_important == 5:\n",
    "                increment_5 += 1\n",
    "            if topic_most_important == 6:\n",
    "                increment_6 += 1\n",
    "            if topic_most_important == 7:\n",
    "                increment_7 += 1\n",
    "                \n",
    "    increments_dict = {0:increment_0, 1:increment_1, 2:increment_2, 3:increment_3, 4:increment_4, 5:increment_5, 6:increment_6, 7:increment_7}\n",
    "    increments_dict = sort_dict(increments_dict)\n",
    "    topics_most_important_list = []\n",
    "    count_most_important_topics = 0\n",
    "    for key in increments_dict:\n",
    "        topics_most_important_list.append(key)\n",
    "        count_most_important_topics += 1\n",
    "        if count_most_important_topics == 3:\n",
    "            break\n",
    "            \n",
    "    return topics_most_important_list"
   ]
  },
  {
   "cell_type": "markdown",
   "metadata": {},
   "source": [
    "# Word Cloud\n",
    "\n",
    "Funções para a criação da Word Cloud de acordo com o modelo dado como parâmetro."
   ]
  },
  {
   "cell_type": "code",
   "execution_count": 34,
   "metadata": {},
   "outputs": [],
   "source": [
    "def get_words_and_weights(most_important_topics, topics):\n",
    "    wordcloud_topics = {}\n",
    "    for most_important in most_important_topics:\n",
    "        for topic in topics:\n",
    "            if most_important == topic[0]:\n",
    "                for weight in topic[1]:\n",
    "                    if weight[0] in wordcloud_topics:\n",
    "                        wordcloud_topics[weight[0]] = max(wordcloud_topics[weight[0]], abs(weight[1]))\n",
    "                    else:\n",
    "                        wordcloud_topics[weight[0]] = abs(weight[1])                  \n",
    "    return wordcloud_topics\n",
    "\n",
    "\n",
    "def create_word_cloud(model):\n",
    "    wordCloud = WordCloud(background_color=\"white\")\n",
    "    if model == \"lsa\":\n",
    "        most_important_topics = get_3_topics_most_important_lsa(lsa_topics)\n",
    "        wordcloud_topics = get_words_and_weights(most_important_topics, lsa_topics)\n",
    "    if model == \"lda\":\n",
    "        most_important_topics = get_3_topics_most_important_lda(ldamodel)\n",
    "        wordcloud_topics = get_words_and_weights(most_important_topics, lda_topics)\n",
    "    wordCloud.generate_from_frequencies(wordcloud_topics)\n",
    "    plt.figure()\n",
    "    plt.imshow(wordCloud)\n",
    "    plt.axis(\"off\")\n",
    "    plt.show()"
   ]
  },
  {
   "cell_type": "markdown",
   "metadata": {},
   "source": [
    "### LSA - Word Cloud"
   ]
  },
  {
   "cell_type": "code",
   "execution_count": 35,
   "metadata": {},
   "outputs": [
    {
     "data": {
      "image/png": "[encoded data removed]",
      "text/plain": [
       "<Figure size 432x288 with 1 Axes>"
      ]
     },
     "metadata": {
      "needs_background": "light"
     },
     "output_type": "display_data"
    }
   ],
   "source": [
    "create_word_cloud(\"lsa\")"
   ]
  },
  {
   "cell_type": "markdown",
   "metadata": {},
   "source": [
    "### LDA - Word Cloud"
   ]
  },
  {
   "cell_type": "code",
   "execution_count": 36,
   "metadata": {},
   "outputs": [
    {
     "data": {
      "image/png": "[encoded data removed]",
      "text/plain": [
       "<Figure size 432x288 with 1 Axes>"
      ]
     },
     "metadata": {
      "needs_background": "light"
     },
     "output_type": "display_data"
    }
   ],
   "source": [
    "create_word_cloud(\"lda\")"
   ]
  },
  {
   "cell_type": "markdown",
   "metadata": {},
   "source": [
    "# Número de tópicos variados\n",
    "\n",
    "Para cada modelo iremos testar com 3, 8 e 13 tópicos."
   ]
  },
  {
   "cell_type": "markdown",
   "metadata": {},
   "source": [
    "### Métricas LSA"
   ]
  },
  {
   "cell_type": "code",
   "execution_count": 37,
   "metadata": {},
   "outputs": [],
   "source": [
    "def lsa_num_topics(num_topics):\n",
    "    lsamodel = create_lsa(doc_term_matrix, dictionary, num_topics)\n",
    "    lsamodel_topics = lsamodel.show_topics(num_topics=num_topics, num_words=num_of_words, formatted=False)\n",
    "    topics_list = words_per_topic(lsamodel_topics)\n",
    "    lsamodel_coherence = CoherenceModel(topics=topics_list, texts=train_list, dictionary=dictionary, coherence='c_v').get_coherence()\n",
    "    print(\"LSA com {} tópicos: {}\".format(num_topics, lsamodel_coherence))\n",
    "    \n",
    "    return lsamodel_topics, lsamodel_coherence"
   ]
  },
  {
   "cell_type": "code",
   "execution_count": 38,
   "metadata": {},
   "outputs": [
    {
     "name": "stdout",
     "output_type": "stream",
     "text": [
      "Coherence\n",
      "\n",
      "LSA com 3 tópicos: 0.3558812801827133\n",
      "LSA com 8 tópicos: 0.3331597250608737\n",
      "LSA com 13 tópicos: 0.3867826298179698\n"
     ]
    }
   ],
   "source": [
    "print(\"Coherence\\n\")\n",
    "lsamodel_3_topics, lsamodel_3_coherence = lsa_num_topics(3)\n",
    "lsamodel_8_topics,lsamodel_8_coherence = lsa_num_topics(8)\n",
    "lsamodel_13_topics, lsamodel_13_coherence = lsa_num_topics(13)"
   ]
  },
  {
   "cell_type": "markdown",
   "metadata": {},
   "source": [
    "#### LSA com 3 tópicos"
   ]
  },
  {
   "cell_type": "code",
   "execution_count": 39,
   "metadata": {},
   "outputs": [
    {
     "name": "stdout",
     "output_type": "stream",
     "text": [
      "Topico: Computers -> Palavras e pesos = 'like':0.24050266909995796, 'car':0.22523053910504878, 'also':0.17604889214413214, 'would':0.15927907834722715, 'get':0.15250153850286227, 'even':0.12919278549564944, 'imac':0.12074306023385563, 'good':0.1204064112793116, 'much':0.11944338226102952, 'well':0.11853506457531889, 'time':0.11477937964131828, 'dell':0.106329303636167, 'new':0.10428459343496442, 'really':0.10336732440687982, 'system':0.10285883742908544\n",
      "\n",
      "Topico: Computers -> Palavras e pesos = 'car':-0.435978952554661, 'imac':0.26379198638156065, 'dell':0.21314763699613534, 'mac':0.20948651245227196, 'pc':0.18137229473966934, 'apple':0.17012249713741662, 'computer':0.13952166315419376, 'rear':-0.11255781402746959, 'photos':0.10910958904534533, 'applications':0.10516695767070038, 'seat':-0.10499994532840715, 'mail':0.10156750430229237, 'iphoto':0.10002117530228768, 'mouse':0.0977453518311236, 'engine':-0.09448074922552231\n",
      "\n",
      "Topico: Music -> Palavras e pesos = 'car':-0.33438100498976014, 'track':0.2751629372779747, 'song':0.2569808480277689, 'beat':0.2183319021196537, 'album':0.20590264121000187, 'lyrics':0.1693971062637981, 'dell':-0.15897811466593742, 'like':0.12344447543186576, 'system':-0.11992736889921662, 'drive':-0.09744803919628701, 'murphy':0.09118371935289084, 'chorus':0.08979236990897004, 'hip':0.08952122286929459, 'spits':0.08728669244031931, 'hop':0.08708205141528445\n",
      "\n"
     ]
    },
    {
     "data": {
      "text/plain": [
       "['Computers', 'Computers', 'Music']"
      ]
     },
     "execution_count": 39,
     "metadata": {},
     "output_type": "execute_result"
    }
   ],
   "source": [
    "view_topics(lsamodel_3_topics)"
   ]
  },
  {
   "cell_type": "markdown",
   "metadata": {},
   "source": [
    "#### LSA com 13 tópicos"
   ]
  },
  {
   "cell_type": "code",
   "execution_count": 40,
   "metadata": {},
   "outputs": [
    {
     "name": "stdout",
     "output_type": "stream",
     "text": [
      "Topico: Computers -> Palavras e pesos = 'like':0.2405030660927398, 'car':0.22523048375270552, 'also':0.17604938362503766, 'would':0.15927977328012718, 'get':0.1525006318105525, 'even':0.1291928512176498, 'imac':0.12074129272719156, 'good':0.12040711407419989, 'much':0.11944498791392248, 'well':0.11853636714039206, 'time':0.11477748318052816, 'dell':0.10632897375903427, 'new':0.10428249835817333, 'really':0.10336693395594683, 'system':0.10286058390831579\n",
      "\n",
      "Topico: Computers -> Palavras e pesos = 'car':-0.4359797358252071, 'imac':0.26378766433070994, 'dell':0.21315272376535566, 'mac':0.209486991351017, 'pc':0.18138613325041614, 'apple':0.17013037039628703, 'computer':0.13952196521574017, 'rear':-0.1125577015492235, 'photos':0.10911161978149167, 'applications':0.1051658709648525, 'seat':-0.10499755350614988, 'mail':0.10156756245226474, 'iphoto':0.10002115655334835, 'mouse':0.09773705162776254, 'engine':-0.0944739759463011\n",
      "\n",
      "Topico: Music -> Palavras e pesos = 'car':-0.3343783976423928, 'track':0.27513553425924786, 'song':0.2569749549238763, 'beat':0.21833977234683255, 'album':0.20586047410027694, 'lyrics':0.16936337778033297, 'dell':-0.15897808771058475, 'like':0.12345935965296992, 'system':-0.11994370033938322, 'drive':-0.09744064108151049, 'murphy':0.09117657171906751, 'chorus':0.08979912319263705, 'hip':0.08950597746916047, 'spits':0.08728448059837862, 'hop':0.08706910645051325\n",
      "\n",
      "Topico: Computers -> Palavras e pesos = 'dell':-0.545960887202449, 'imac':0.2544869554664322, 'system':-0.25442611238660634, 'mac':0.2042835748400729, 'customer':-0.1412949835565236, 'apple':0.12951280394888184, 'pc':0.11956913677469913, 'software':-0.11869634167554424, 'care':-0.11785657821220241, 'photos':0.10863358014746932, 'may':-0.10093147508243731, 'iphoto':0.10077233559875332, 'applications':0.09651072162892116, 'order':-0.08825287714627274, 'dtc':-0.0823647850263206\n",
      "\n",
      "Topico: Cookware -> Palavras e pesos = 'clad':0.32750139904995085, 'pan':0.2751091570750651, 'stainless':0.27467549232543353, 'steel':0.19450063141641996, 'pans':0.1718185892126559, 'song':-0.1713353211736673, 'car':-0.16967656809679224, 'track':-0.168943843466164, 'cookware':0.14005402717770368, 'fry':0.13687535683824428, 'album':-0.12814045030505636, 'set':0.1250210720412965, 'beat':-0.12470287764573049, 'room':0.12042331454626433, 'lyrics':-0.10469108827991103\n",
      "\n",
      "Topico: Cookware -> Palavras e pesos = 'clad':-0.3040756615906233, 'stainless':-0.25837000210037275, 'pan':-0.23732782399204877, 'room':0.20828146129452496, 'steel':-0.18603500326631162, 'hotel':0.1673311693333841, 'pans':-0.15475168264168876, 'fry':-0.1340787892678859, 'disney':0.13197728399790543, 'resort':0.1281825167168963, 'car':-0.12311981773885929, 'movie':0.12116172424038021, 'cookware':-0.11904379696654538, 'song':-0.11482111563843747, 'film':0.112257446481255\n",
      "\n",
      "Topico: Phones -> Palavras e pesos = 'phone':0.5062144985097405, 'room':-0.2263749869684699, 'handset':0.18337350077162398, 'panasonic':0.18003647504205772, 'hotel':-0.1670740278392513, 'battery':0.13675469131214996, 'resort':-0.1344042405420599, 'base':0.13436134276110237, 'disney':-0.1316556380741995, 'phones':0.131296280359871, 'cordless':0.12740559860301592, 'handsets':0.112722386728117, 'caller':0.09862782917821476, 'beach':-0.0980758404647251, 'pool':-0.09778375798311703\n",
      "\n",
      "Topico: Movies -> Palavras e pesos = 'phone':-0.2982999841600815, 'movie':0.26519821912877023, 'film':0.2571959907962746, 'room':-0.20122629483559604, 'hotel':-0.15927930793452785, 'book':0.14301461072245275, 'story':0.13822920517076398, 'plot':0.13055835139086697, 'resort':-0.12428459334918468, 'santa':0.10809139985191975, 'also':-0.10694505214975948, 'disney':-0.10460245251623106, 'handset':-0.10420491392064378, 'panasonic':-0.0994583814892478, 'beach':-0.09084441494328238\n",
      "\n",
      "Topico: Music -> Palavras e pesos = 'murphy':0.34151490544886637, 'lee':0.27407116657209135, 'sh':0.19183190386556556, 'chorus':0.18994543897299093, 'spits':0.18169960229555843, 'track':-0.17151906312218024, 'verse':0.1583194162596095, 'nelly':0.1531225578315525, 'feat':0.14640118702938765, 'st':0.14308397823714358, 'album':-0.13580007640887967, 'bad':0.12050446047054288, 'stars':-0.1179484025191283, 'neptunes':-0.11686759724912604, 'hop':-0.11542438718632758\n",
      "\n",
      "Topico: Computers -> Palavras e pesos = 'computer':-0.3806240911918421, 'new':-0.3053662389526698, 'imac':-0.19962147923881646, 'apple':-0.19152796762256455, 'dell':0.1710642185411505, 'mac':0.1410352517622885, 'pc':0.12184530870328804, 'though':-0.114225783897964, 'drive':-0.11070439795322132, 'keyboard':-0.10856257212799494, 'photos':0.10830859589012241, 'phone':0.10542181901720744, 'iphoto':0.09918457161345418, 'screen':-0.09721540835426318, 'page':0.09610219392278792\n",
      "\n",
      "Topico: Cars -> Palavras e pesos = 'xterra':0.4444658726151959, 'car':-0.3068695799332433, 'taurus':0.16387857790411475, 'rear':0.14993004806552165, 'like':0.14292761242532123, 'vehicle':0.13389193254136478, 'engine':0.11860600009762667, 'cd':-0.11384495802718025, 'time':-0.10608615163843149, 'truck':0.10235857319305251, 'room':0.0991893520084207, 'ford':0.09713205175400351, 'air':-0.09703195065183234, 'ride':0.0925317754523577, 'book':-0.08971997559653076\n",
      "\n",
      "Topico: Books -> Palavras e pesos = 'book':0.3934516787640456, 'film':-0.3230070379789017, 'luke':0.1978884329299231, 'grisham':0.18870611373953133, 'read':0.1557465262407843, 'novel':0.13685658189358188, 'story':0.13631060141214058, 'performance':-0.13328883662168953, 'movie':-0.13286990609042795, 'cotton':0.127361999449864, 'xterra':0.12198162063649612, 'betty':-0.12102326527225155, 'katherine':-0.11535441147327564, 'school':-0.11388356961686248, 'family':0.10461366748683512\n",
      "\n",
      "Topico: Cars -> Palavras e pesos = 'xterra':-0.40177066255732163, 'like':-0.26073149919838245, 'focus':0.2099233313788443, 'svt':0.19226317296766393, 'nissan':-0.1870882432911346, 'cd':-0.12430040050956935, 'book':0.11171921320194325, 'truck':-0.09290406676077137, 'ford':0.09241260027594896, 'mph':-0.09129477861382776, 'cl':0.09111923154780183, 'rear':0.09011295229116234, 'drive':0.08836117109799753, 'engine':0.08814902155026941, 'suv':-0.08777306266576447\n",
      "\n"
     ]
    },
    {
     "data": {
      "text/plain": [
       "['Computers',\n",
       " 'Computers',\n",
       " 'Music',\n",
       " 'Computers',\n",
       " 'Cookware',\n",
       " 'Cookware',\n",
       " 'Phones',\n",
       " 'Movies',\n",
       " 'Music',\n",
       " 'Computers',\n",
       " 'Cars',\n",
       " 'Books',\n",
       " 'Cars']"
      ]
     },
     "execution_count": 40,
     "metadata": {},
     "output_type": "execute_result"
    }
   ],
   "source": [
    "view_topics(lsamodel_13_topics)"
   ]
  },
  {
   "cell_type": "markdown",
   "metadata": {},
   "source": [
    "### Métricas LDA"
   ]
  },
  {
   "cell_type": "code",
   "execution_count": 41,
   "metadata": {},
   "outputs": [],
   "source": [
    "def lda_num_topics(num_topics):\n",
    "    ldamodel = create_lda(doc_term_matrix, dictionary, num_topics)\n",
    "    ldamodel_topics = ldamodel.show_topics(num_topics=num_topics, num_words=num_of_words, formatted=False)\n",
    "    topics_list = words_per_topic(ldamodel_topics)\n",
    "    ldamodel_coherence = CoherenceModel(topics=topics_list, texts=train_list, dictionary=dictionary, coherence='c_v').get_coherence()\n",
    "    print(\"LDA com {} tópicos\\n\".format(num_topics))\n",
    "    print(\"Perplexity: {}\".format(ldamodel.log_perplexity(doc_term_matrix)))\n",
    "    print(\"Bound: {}\".format(ldamodel.bound(doc_term_matrix)))\n",
    "    print(\"Coherence: {}\\n\".format(ldamodel_coherence))\n",
    "    \n",
    "    return ldamodel_topics, ldamodel_coherence"
   ]
  },
  {
   "cell_type": "code",
   "execution_count": 42,
   "metadata": {},
   "outputs": [
    {
     "name": "stdout",
     "output_type": "stream",
     "text": [
      "LDA com 3 tópicos\n",
      "\n",
      "Perplexity: -8.368466809638557\n",
      "Bound: -1150505.1829820871\n",
      "Coherence: 0.2737542596561644\n",
      "\n",
      "LDA com 8 tópicos\n",
      "\n",
      "Perplexity: -8.364402462414237\n",
      "Bound: -1149946.421697557\n",
      "Coherence: 0.481575804577855\n",
      "\n",
      "LDA com 13 tópicos\n",
      "\n",
      "Perplexity: -8.41331371920079\n",
      "Bound: -1156670.792320609\n",
      "Coherence: 0.4560876713912937\n",
      "\n"
     ]
    }
   ],
   "source": [
    "ldamodel_3_topics, ldamodel_3_coherence = lda_num_topics(3)\n",
    "ldamodel_8_topics, ldamodel_8_coherence = lda_num_topics(8)\n",
    "ldamodel_13_topics, ldamodel_13_coherence = lda_num_topics(13)"
   ]
  },
  {
   "cell_type": "markdown",
   "metadata": {},
   "source": [
    "#### LDA com 3 tópicos"
   ]
  },
  {
   "cell_type": "code",
   "execution_count": 43,
   "metadata": {},
   "outputs": [
    {
     "name": "stdout",
     "output_type": "stream",
     "text": [
      "Topico: Music -> Palavras e pesos = 'like':0.0060561826, 'album':0.0045450847, 'room':0.0044886614, 'track':0.0044678273, 'time':0.0042824387, 'song':0.0041543506, 'hotel':0.004070792, 'would':0.0038838845, 'get':0.0036312873, 'good':0.0034325863, 'book':0.0033611122, 'beat':0.0031814128, 'even':0.003126791, 'also':0.0030614126, 'well':0.0029572695\n",
      "\n",
      "Topico: Computers -> Palavras e pesos = 'phone':0.006444511, 'like':0.0055465745, 'use':0.005302512, 'computer':0.004978966, 'also':0.004844573, 'system':0.0044922284, 'would':0.0041941525, 'get':0.003963333, 'apple':0.0036358952, 'new':0.0034996415, 'dell':0.00341616, 'even':0.0033593406, 'pan':0.0033175685, 'set':0.0032530576, 'good':0.0032429132\n",
      "\n",
      "Topico: Cars -> Palavras e pesos = 'car':0.011131218, 'like':0.006742625, 'movie':0.0055019245, 'would':0.0037605264, 'even':0.0036379306, 'good':0.0035029463, 'film':0.0032027282, 'get':0.0031759704, 'much':0.0031722481, 'well':0.0030926242, 'also':0.002937975, 'engine':0.0029249587, 'rear':0.002720116, 'many':0.0026903758, 'really':0.0026276791\n",
      "\n"
     ]
    },
    {
     "data": {
      "text/plain": [
       "['Music', 'Computers', 'Cars']"
      ]
     },
     "execution_count": 43,
     "metadata": {},
     "output_type": "execute_result"
    }
   ],
   "source": [
    "view_topics(ldamodel_3_topics)"
   ]
  },
  {
   "cell_type": "markdown",
   "metadata": {},
   "source": [
    "#### LDA com 13 tópicos"
   ]
  },
  {
   "cell_type": "code",
   "execution_count": 44,
   "metadata": {},
   "outputs": [
    {
     "name": "stdout",
     "output_type": "stream",
     "text": [
      "Topico: Books -> Palavras e pesos = 'book':0.023798484, 'read':0.010605986, 'story':0.010131007, 'grisham':0.009639771, 'luke':0.008682904, 'novel':0.0065333205, 'like':0.006426781, 'would':0.006037008, 'cotton':0.0053704223, 'time':0.005338822, 'get':0.0052669635, 'plot':0.004745358, 'books':0.0047129905, 'king':0.004652398, 'much':0.0045904294\n",
      "\n",
      "Topico: Music -> Palavras e pesos = 'album':0.019323615, 'track':0.016593486, 'hop':0.009644187, 'hip':0.009537932, 'beat':0.008392906, 'lyrics':0.0073835105, 'like':0.0069149444, 'production':0.0062548467, 'stars':0.005498484, 'rap':0.005355239, 'song':0.0052266554, 'club':0.0039617093, 'even':0.0039484594, 'bass':0.0038928266, 'best':0.0036647646\n",
      "\n",
      "Topico: Cookware -> Palavras e pesos = 'pan':0.00901016, 'clad':0.0073095616, 'pans':0.0072165295, 'stainless':0.0070715295, 'set':0.0063033397, 'use':0.006132024, 'cookware':0.006026338, 'like':0.0050533204, 'car':0.0047068875, 'steel':0.004554512, 'would':0.0044640987, 'also':0.004295856, 'even':0.0038491623, 'good':0.0036942738, 'heat':0.00364125\n",
      "\n",
      "Topico: Books -> Palavras e pesos = 'book':0.007647088, 'stephanie':0.007534488, 'read':0.0040427297, 'even':0.0036697746, 'would':0.0035878762, 'many':0.003543248, 'hot':0.0034687642, 'much':0.0033706892, 'time':0.0033251955, 'find':0.0032140783, 'also':0.0031511153, 'make':0.0030309157, 'people':0.0027868273, 'buddy':0.0026451359, 'way':0.002625271\n",
      "\n",
      "Topico: Cars -> Palavras e pesos = 'car':0.015162089, 'like':0.009561969, 'good':0.0049160947, 'also':0.0046176338, 'song':0.0044966987, 'get':0.0043992484, 'would':0.003866809, 'much':0.0037581653, 'well':0.0037001793, 'even':0.0035842785, 'engine':0.0034354064, 'cd':0.0034316787, 'new':0.003430628, 'rear':0.0033900908, 'driving':0.0033466183\n",
      "\n",
      "Topico: Hotels -> Palavras e pesos = 'tea':0.0054600076, 'treasure':0.005014437, 'island':0.0048359255, 'time':0.0031088735, 'willie':0.0027773257, 'service':0.0026765817, 'little':0.0026476188, 'billy':0.002566015, 'room':0.002556308, 'another':0.0024996703, 'film':0.002461346, 'feel':0.0023647828, 'afternoon':0.0023023093, 'nudity':0.0022758273, 'calendar':0.0022758245\n",
      "\n",
      "Topico: Hotels -> Palavras e pesos = 'room':0.02001507, 'hotel':0.018886438, 'stay':0.0067969454, 'large':0.0062965164, 'us':0.0057092975, 'service':0.00484173, 'rooms':0.0046737147, 'like':0.004558074, 'would':0.00451537, 'night':0.0040402026, 'casino':0.0040339986, 'little':0.0037694299, 'stayed':0.0037532437, 'get':0.003634338, 'place':0.00342498\n",
      "\n",
      "Topico: Movies -> Palavras e pesos = 'movie':0.011588706, 'like':0.006708967, 'film':0.006539287, 'disney':0.005458513, 'resort':0.004776816, 'would':0.0043046013, 'time':0.004252555, 'even':0.0041369633, 'plot':0.004117467, 'good':0.003938355, 'see':0.0037640196, 'cat':0.0036497687, 'kids':0.0036307797, 'way':0.0035067392, 'beach':0.003420758\n",
      "\n",
      "Topico: Computers -> Palavras e pesos = 'computer':0.011121572, 'apple':0.00810427, 'dell':0.007936116, 'imac':0.007179004, 'pc':0.0056814086, 'also':0.0054524126, 'like':0.005438825, 'mac':0.005354034, 'system':0.005351104, 'get':0.0052697607, 'drive':0.005092391, 'new':0.0048537105, 'dvd':0.004823542, 'machine':0.0045563895, 'would':0.0043927673\n",
      "\n",
      "Topico: Cars -> Palavras e pesos = 'like':0.007581214, 'zx':0.006624249, 'steel':0.005667433, 'peeler':0.005524898, 'dre':0.005006515, 'swivel':0.004425528, 'oxo':0.004059071, 'blade':0.003692617, 'back':0.0034673808, 'something':0.002641862, 'looking':0.002625321, 'escort':0.0025932465, 'bought':0.002532586, 'large':0.0025287513, 'way':0.0025017362\n",
      "\n",
      "Topico: Music -> Palavras e pesos = 'popcorn':0.009501464, 'song':0.007902569, 'pop':0.006710216, 'spits':0.00648978, 'popper':0.005844931, 'chorus':0.0056533446, 'verse':0.0053867153, 'whirley':0.004961194, 'beat':0.0045740227, 'bad':0.0045424467, 'like':0.0040915683, 'comes':0.0039056956, 'corn':0.0038994213, 'time':0.0035176447, 'feat':0.0034242186\n",
      "\n",
      "Topico: Phones -> Palavras e pesos = 'phone':0.025391977, 'handset':0.008254283, 'phones':0.0071546705, 'panasonic':0.0070045954, 'system':0.0067704916, 'use':0.0058364905, 'like':0.0058040973, 'base':0.005644514, 'good':0.0052402383, 'handsets':0.0049217804, 'cordless':0.0047551095, 'ghz':0.004723801, 'time':0.0046227537, 'also':0.0045493166, 'battery':0.004368256\n",
      "\n",
      "Topico: Cars -> Palavras e pesos = 'car':0.012431877, 'lancer':0.006572495, 'focus':0.006547413, 'svt':0.006355556, 'mitsubishi':0.006118418, 'even':0.0044209287, 'power':0.0044092033, 'rear':0.0043225745, 'seat':0.0037390487, 'engine':0.0036645965, 'drive':0.0036093856, 'enough':0.0033452704, 'going':0.0032718414, 'handling':0.0031308357, 'get':0.0029944184\n",
      "\n"
     ]
    },
    {
     "data": {
      "text/plain": [
       "['Books',\n",
       " 'Music',\n",
       " 'Cookware',\n",
       " 'Books',\n",
       " 'Cars',\n",
       " 'Hotels',\n",
       " 'Hotels',\n",
       " 'Movies',\n",
       " 'Computers',\n",
       " 'Cars',\n",
       " 'Music',\n",
       " 'Phones',\n",
       " 'Cars']"
      ]
     },
     "execution_count": 44,
     "metadata": {},
     "output_type": "execute_result"
    }
   ],
   "source": [
    "view_topics(ldamodel_13_topics)"
   ]
  },
  {
   "cell_type": "markdown",
   "metadata": {},
   "source": [
    "## Gráfico com a comparação da Coherence entre o modelo e o número de tópicos"
   ]
  },
  {
   "cell_type": "code",
   "execution_count": 45,
   "metadata": {},
   "outputs": [],
   "source": [
    "def create_histogram(model_list, coherence_list):\n",
    "    y = np.arange(len(coherence_list))\n",
    "    plt.bar(y, model_list)\n",
    "    plt.xticks(y, coherence_list)\n",
    "    plt.xlabel('Models')\n",
    "    plt.ylabel('Coherence')\n",
    "    plt.title('Coherence comparison')\n",
    "    plt.show()"
   ]
  },
  {
   "cell_type": "code",
   "execution_count": 46,
   "metadata": {},
   "outputs": [
    {
     "data": {
      "image/png": "[encoded data removed]",
      "text/plain": [
       "<Figure size 432x288 with 1 Axes>"
      ]
     },
     "metadata": {
      "needs_background": "light"
     },
     "output_type": "display_data"
    }
   ],
   "source": [
    "model_list = ['LSA 3', 'LSA 8', 'LSA 13', 'LDA 3', 'LDA 8', 'LDA 13']\n",
    "coherence_list = [lsamodel_3_coherence, lsamodel_8_coherence, lsamodel_13_coherence, ldamodel_3_coherence, ldamodel_8_coherence, ldamodel_13_coherence]\n",
    "\n",
    "create_histogram(coherence_list, model_list)"
   ]
  },
  {
   "cell_type": "markdown",
   "metadata": {},
   "source": [
    "# Representação dos documentos"
   ]
  },
  {
   "cell_type": "markdown",
   "metadata": {},
   "source": [
    "Função que corre os modelos, mostrando a Coherence e os gráficos associados, devolvendo um dicionário com os nomes dos tópicos calculados por modelo."
   ]
  },
  {
   "cell_type": "code",
   "execution_count": 47,
   "metadata": {},
   "outputs": [],
   "source": [
    "def run_models(reviews, approach):\n",
    "    dictionary = corpora.Dictionary(reviews)\n",
    "    doc_term_matrix = [dictionary.doc2bow(review) for review in reviews]\n",
    "    \n",
    "    print(approach)\n",
    "    \n",
    "    # LSA\n",
    "    lsamodel = create_lsa(doc_term_matrix, dictionary, num_of_topics)\n",
    "    lsa_topics = lsamodel.show_topics(num_topics=num_of_topics, num_words=num_of_words, formatted=False)\n",
    "    lsa_topics_list = words_per_topic(lsa_topics)\n",
    "    lsamodel_coherence = CoherenceModel(topics=lsa_topics_list, texts=reviews, dictionary=dictionary, coherence='c_v').get_coherence()\n",
    "    print(\"\\nLSA - Latent Semantic Indexing\")\n",
    "    print(\"Coherence: {}\\n\\n\".format(lsamodel_coherence))\n",
    "    lsa_topics_names = view_topics(lsa_topics)\n",
    "    \n",
    "    # LDA\n",
    "    ldamodel = create_lda(doc_term_matrix, dictionary, num_of_topics)\n",
    "    lda_topics = ldamodel.show_topics(num_topics=num_of_topics, num_words=num_of_words, formatted=False)\n",
    "    lda_topics_list = words_per_topic(lda_topics)\n",
    "    ldamodel_coherence = CoherenceModel(topics=lda_topics_list, texts=reviews, dictionary=dictionary, coherence='c_v').get_coherence()\n",
    "    print(\"\\nLDA - Latent Dirichlet Allocation\")\n",
    "    print(\"Coherence: {}\\n\\n\".format(ldamodel_coherence))\n",
    "    lda_topics_names = view_topics(lda_topics)\n",
    "    \n",
    "    # HDP\n",
    "    hdpmodel = HdpModel(doc_term_matrix, dictionary)\n",
    "    hdp_topics = hdpmodel.show_topics(num_topics=num_of_topics, num_words=num_of_words, formatted=False)\n",
    "    hdp_topics_list = words_per_topic(hdp_topics)\n",
    "    hdpmodel_coherence = CoherenceModel(topics=hdp_topics_list, texts=reviews, dictionary=dictionary, coherence='c_v').get_coherence()\n",
    "    print(\"\\nHDP - Hierarchical Dirichlet Process\")\n",
    "    print(\"Coherence: {}\\n\\n\".format(hdpmodel_coherence))\n",
    "    hdp_topics_names = view_topics(hdp_topics)\n",
    "    \n",
    "    topics_names_dictionary = {'lsa':lsa_topics_names, 'lda':lda_topics_names, 'hdp':hdp_topics_names}\n",
    "    \n",
    "    model_list = ['LSA', 'LDA', 'HDP']\n",
    "    coherence_list = [lsamodel_coherence, ldamodel_coherence, hdpmodel_coherence]\n",
    "\n",
    "    create_histogram(coherence_list, model_list)\n",
    "    \n",
    "    return topics_names_dictionary"
   ]
  },
  {
   "cell_type": "markdown",
   "metadata": {},
   "source": [
    "### Com Minúsculas"
   ]
  },
  {
   "cell_type": "code",
   "execution_count": 48,
   "metadata": {},
   "outputs": [
    {
     "name": "stdout",
     "output_type": "stream",
     "text": [
      "Com Minúsculas\n",
      "\n",
      "LSA - Latent Semantic Indexing\n",
      "Coherence: 0.3331597250608737\n",
      "\n",
      "\n",
      "Topico: Computers -> Palavras e pesos = 'like':0.24050330304073622, 'car':0.22523068192709944, 'also':0.17604839198132463, 'would':0.15927952811458412, 'get':0.15250132288334245, 'even':0.12919452742381451, 'imac':0.12074243054023774, 'good':0.12040656509995339, 'much':0.11944498546005405, 'well':0.11853600133093346, 'time':0.11477779602391196, 'dell':0.10632872665271839, 'new':0.10428216247735035, 'really':0.10336728561536893, 'system':0.10286120249773892\n",
      "\n",
      "Topico: Computers -> Palavras e pesos = 'car':-0.43598775801639245, 'imac':0.2637802433881096, 'dell':0.21314932053939217, 'mac':0.2094938928597547, 'pc':0.18138904594820782, 'apple':0.17012005666653138, 'computer':0.13950734580495697, 'rear':-0.11256161915378761, 'photos':0.10911553611099298, 'applications':0.10516372758994978, 'seat':-0.10499142113748018, 'mail':0.10157205667816496, 'iphoto':0.10002285446890376, 'mouse':0.09773901582308522, 'engine':-0.09448802220286713\n",
      "\n",
      "Topico: Music -> Palavras e pesos = 'car':-0.33439051544886184, 'track':0.27515591782536597, 'song':0.25697538870477143, 'beat':0.21834374904441867, 'album':0.20589744844250318, 'lyrics':0.16939709239289957, 'dell':-0.1589876960553462, 'like':0.12342460399932971, 'system':-0.11991351174061914, 'drive':-0.09743895212389231, 'murphy':0.09116174711416573, 'chorus':0.0897932874163563, 'hip':0.08951407539651592, 'spits':0.08729159873126503, 'hop':0.08707178712537558\n",
      "\n",
      "Topico: Computers -> Palavras e pesos = 'dell':-0.5459342541382007, 'system':-0.2544677076302743, 'imac':0.25445890448809205, 'mac':0.20430415927027, 'customer':-0.14128743317825299, 'apple':0.12956473790280626, 'pc':0.11949592935944768, 'software':-0.1187142048274029, 'care':-0.11783691994165944, 'photos':0.10865277754764915, 'may':-0.10096534912989107, 'iphoto':0.10079114850841275, 'applications':0.09652456693311814, 'order':-0.08823570169138992, 'dtc':-0.08236181878909367\n",
      "\n",
      "Topico: Cookware -> Palavras e pesos = 'clad':-0.3275552525002654, 'pan':-0.2750797247058835, 'stainless':-0.2746609630837986, 'steel':-0.19452597511608283, 'pans':-0.1717942667935552, 'song':0.17132956008692074, 'car':0.16970085878409166, 'track':0.16897844859559435, 'cookware':-0.14006810426196697, 'fry':-0.13680186228954636, 'album':0.1282373801412498, 'set':-0.1251072051721148, 'beat':0.12464183367728333, 'room':-0.12039235123656106, 'lyrics':0.10468841116627445\n",
      "\n",
      "Topico: Cookware -> Palavras e pesos = 'clad':0.3041664571471004, 'stainless':0.258339055256486, 'pan':0.2374841216726947, 'room':-0.2084016862832066, 'steel':0.18597222969922636, 'hotel':-0.16738363003532022, 'pans':0.1547124620232246, 'fry':0.13406207747929968, 'disney':-0.13177885902011366, 'resort':-0.12815029147676793, 'car':0.1231625733042662, 'movie':-0.12122898925929886, 'cookware':0.11905401096117602, 'song':0.11492624952992905, 'film':-0.1121988894790118\n",
      "\n",
      "Topico: Phones -> Palavras e pesos = 'phone':-0.5061133606614882, 'room':0.2264048875006574, 'handset':-0.1835694805133335, 'panasonic':-0.1801210456395266, 'hotel':0.1670720577805264, 'battery':-0.13686244306480103, 'resort':0.13438976570506353, 'base':-0.13431840786246704, 'disney':0.13176236160425558, 'phones':-0.13127435967519782, 'cordless':-0.12741669412603715, 'handsets':-0.11279504526011869, 'caller':-0.09871094851051816, 'beach':0.0978795097163533, 'pool':0.0976776001593945\n",
      "\n",
      "Topico: Movies -> Palavras e pesos = 'phone':0.29822299575621414, 'movie':-0.2649096532921691, 'film':-0.2570569972126826, 'room':0.20137220795867156, 'hotel':0.15952592853446326, 'book':-0.14341491618934446, 'story':-0.13809860959103026, 'plot':-0.13033899430683277, 'resort':0.1240024264701119, 'santa':-0.10804257597602523, 'also':0.10742489466947479, 'disney':0.10428566166111419, 'handset':0.10416762645028901, 'panasonic':0.09949662409473797, 'beach':0.09096607765534268\n",
      "\n",
      "\n",
      "LDA - Latent Dirichlet Allocation\n",
      "Coherence: 0.5132945141439151\n",
      "\n",
      "\n",
      "Topico: Cookware -> Palavras e pesos = 'pan':0.013041301, 'pans':0.009639185, 'clad':0.008422813, 'stainless':0.008295481, 'set':0.0072286506, 'use':0.0069961334, 'like':0.005553815, 'even':0.004892648, 'heat':0.004466165, 'cookware':0.0042918026, 'pot':0.004049717, 'good':0.0040111393, 'lid':0.0038097112, 'steel':0.003678914, 'time':0.0035843942\n",
      "\n",
      "Topico: Movies -> Palavras e pesos = 'samurai':0.007467443, 'movie':0.006849446, 'cruise':0.0050273063, 'get':0.0040166643, 'battle':0.0038685983, 'story':0.0038241155, 'tom':0.0037692608, 'algren':0.0033680534, 'see':0.0033323425, 'even':0.0032779428, 'new':0.003166173, 'like':0.003110525, 'time':0.0030152998, 'cam':0.0029138098, 'well':0.0028210494\n",
      "\n",
      "Topico: Cars -> Palavras e pesos = 'car':0.01791886, 'like':0.0070417523, 'engine':0.004732098, 'rear':0.00437144, 'also':0.0041068755, 'would':0.0040737963, 'seat':0.0040475316, 'front':0.003998578, 'cars':0.003813832, 'power':0.0037935001, 'ford':0.0037882384, 'much':0.0037456842, 'good':0.003735989, 'driving':0.0035828843, 'well':0.0035760587\n",
      "\n",
      "Topico: Movies -> Palavras e pesos = 'movie':0.0098096905, 'book':0.0069106156, 'film':0.006245144, 'story':0.0057429587, 'like':0.005601492, 'plot':0.004656852, 'would':0.0041318946, 'time':0.0039887866, 'even':0.003801073, 'way':0.003520912, 'grisham':0.0034894159, 'get':0.0034709019, 'old':0.0033792963, 'year':0.003314667, 'really':0.003245085\n",
      "\n",
      "Topico: Computers -> Palavras e pesos = 'phone':0.009860961, 'computer':0.007704963, 'system':0.0064117783, 'also':0.0056305346, 'apple':0.0056153117, 'like':0.0053054797, 'imac':0.0049412106, 'use':0.0049245236, 'would':0.0047401823, 'new':0.00440015, 'get':0.0043626004, 'machine':0.004269587, 'pc':0.0040204185, 'mac':0.0036217233, 'cd':0.0035825304\n",
      "\n",
      "Topico: Hotels -> Palavras e pesos = 'room':0.012168477, 'hotel':0.011298606, 'resort':0.006206343, 'disney':0.0060915193, 'stay':0.0051056016, 'dell':0.00495512, 'pool':0.00493279, 'rooms':0.004907325, 'time':0.0047734776, 'also':0.004439807, 'beach':0.004244905, 'get':0.0040986976, 'service':0.0040514907, 'would':0.0040497226, 'like':0.0039794887\n",
      "\n",
      "Topico: Music -> Palavras e pesos = 'album':0.013131139, 'track':0.012772471, 'song':0.01190733, 'beat':0.009149785, 'like':0.009098862, 'lyrics':0.007545874, 'hip':0.0058358703, 'hop':0.005788289, 'rap':0.005114012, 'good':0.0042909756, 'songs':0.0041990364, 'production':0.0037687703, 'music':0.0036384587, 'stars':0.0035047047, 'would':0.003427447\n",
      "\n",
      "Topico: Books -> Palavras e pesos = 'like':0.008145855, 'cookware':0.0054404517, 'would':0.0051731444, 'steel':0.005124372, 'read':0.0050215456, 'book':0.00452374, 'good':0.0039141974, 'king':0.0037697863, 'much':0.003537457, 'even':0.0034493832, 'get':0.0034358285, 'set':0.0031407762, 'well':0.003101694, 'time':0.002986283, 'little':0.002936985\n",
      "\n",
      "\n",
      "HDP - Hierarchical Dirichlet Process\n",
      "Coherence: 0.34344712952885703\n",
      "\n",
      "\n",
      "Topico: Computers -> Palavras e pesos = 'car':0.007016389627903617, 'like':0.004030165173620299, 'also':0.0038922790759915904, 'imac':0.0032536434642184875, 'would':0.0031061227191105266, 'get':0.0031014522595878917, 'mac':0.0030801693208435724, 'even':0.0029034760019539065, 'pc':0.002830683818158949, 'much':0.002461003257677645, 'rear':0.0024224073252061594, 'front':0.002356909933471524, 'seat':0.002309730027152806, 'computer':0.0022650048777618083, 'apple':0.0022170770674440447\n",
      "\n",
      "Topico: Music -> Palavras e pesos = 'dell':0.004472512176540653, 'like':0.003898486649635665, 'song':0.0029925429111222644, 'beat':0.002863174993010273, 'system':0.002724189911256996, 'track':0.00260990576321455, 'also':0.002495103638492133, 'bad':0.0024627166082970557, 'even':0.002461100211810449, 'good':0.0023762001489719955, 'would':0.002355388005315378, 'time':0.002202952220426855, 'spits':0.002138685811823638, 'album':0.0020932196637636928, 'get':0.002071198011338865\n",
      "\n",
      "Topico: Cars -> Palavras e pesos = 'car':0.005331268264049109, 'like':0.004670004353930168, 'good':0.0029737034611872714, 'get':0.0026439457915437598, 'would':0.002505749180718913, 'much':0.002411460414635862, 'really':0.0022915336271766167, 'even':0.002259519490758847, 'well':0.002189901136867639, 'way':0.0021851774451043474, 'cat':0.0021397392337747134, 'movie':0.002045431911830161, 'time':0.001980189451403013, 'ride':0.0019695051262424135, 'also':0.001948875731261429\n",
      "\n",
      "Topico: Movies -> Palavras e pesos = 'movie':0.0035963853307652153, 'us':0.002329000720893981, 'like':0.002244122445349242, 'story':0.0022060468418178066, 'would':0.002140761157933361, 'tea':0.0020576818818393186, 'room':0.0020302870724725262, 'time':0.0018591402562562153, 'phone':0.0017810627204284978, 'good':0.001774227210962156, 'film':0.0017444187867972397, 'king':0.0016380924044817544, 'see':0.001522937535767215, 'get':0.001486052723986573, 'also':0.0014713639968976621\n",
      "\n",
      "Topico: Computers -> Palavras e pesos = 'pan':0.003751245934289694, 'imac':0.0034094357859573037, 'use':0.0030675718833363124, 'like':0.0029330194619082966, 'new':0.0026555130718607183, 'pans':0.0026532483568458267, 'set':0.002270702628545855, 'would':0.002195300195088397, 'really':0.0020736372998017448, 'cookware':0.002063991176815882, 'great':0.0020192168778885933, 'computer':0.0020061618377926263, 'also':0.0018633929902981527, 'get':0.0018390157841836608, 'even':0.001755983803644488\n",
      "\n",
      "Topico: Phones -> Palavras e pesos = 'phone':0.008649122967138085, 'handset':0.00348835254382898, 'system':0.003403347209893086, 'like':0.003165593791596024, 'use':0.0026481097201975167, 'phones':0.0025089874831365523, 'panasonic':0.0023593851835989168, 'noah':0.002350713509987253, 'base':0.0022609863863384304, 'ghz':0.0022096846726461132, 'caller':0.001980230531509236, 'also':0.0019802150619894127, 'id':0.0019266050401217894, 'good':0.0019079206417793337, 'would':0.0018695375698864352\n",
      "\n",
      "Topico: Hotels -> Palavras e pesos = 'resort':0.00486809202008784, 'room':0.004010055160247393, 'disney':0.003829577058119631, 'xterra':0.0026131590812273364, 'rooms':0.002490501384176472, 'time':0.0024843925143383555, 'also':0.002457215557155231, 'get':0.002143864771187323, 'like':0.0019750897862344887, 'pool':0.0018126897611691832, 'kingdom':0.0017954422017845177, 'night':0.0017737872928479442, 'take':0.0017451115474956707, 'stay':0.0017427454389206593, 'lodge':0.0016838052899990014\n",
      "\n",
      "Topico: Hotels -> Palavras e pesos = 'like':0.0035682622892345105, 'hotel':0.003068403884800226, 'room':0.003033549813655471, 'song':0.002798346909623478, 'get':0.0022658581524514125, 'zx':0.001993958646228131, 'great':0.001845466010144144, 'many':0.0017488596702475334, 'would':0.0016664839067637857, 'good':0.001640778558642908, 'well':0.0016146616537492792, 'way':0.0015675890868318638, 'stay':0.0015237741209527338, 'better':0.0014590222996738868, 'resort':0.0014335951359174199\n",
      "\n"
     ]
    },
    {
     "data": {
      "image/png": "[encoded data removed]",
      "text/plain": [
       "<Figure size 432x288 with 1 Axes>"
      ]
     },
     "metadata": {
      "needs_background": "light"
     },
     "output_type": "display_data"
    }
   ],
   "source": [
    "train_list_lowercase = [data_treatment(review, True, False, False, False).split() for review in reviews[10:]]\n",
    "lowercase_dictionary = run_models(train_list_lowercase, \"Com Minúsculas\")"
   ]
  },
  {
   "cell_type": "markdown",
   "metadata": {},
   "source": [
    "### Com Minúsculas e Lemmatization"
   ]
  },
  {
   "cell_type": "code",
   "execution_count": 49,
   "metadata": {},
   "outputs": [
    {
     "name": "stdout",
     "output_type": "stream",
     "text": [
      "Com Minúsculas e Lemmatization\n",
      "\n",
      "LSA - Latent Semantic Indexing\n",
      "Coherence: 0.3213166835808643\n",
      "\n",
      "\n",
      "Topico: Computers -> Palavras e pesos = 'car':0.2536618920881417, 'like':0.22717661278174298, 'get':0.16357729224495077, 'also':0.16035865938552687, 'would':0.1456599047628691, 'time':0.1327692517743479, 'make':0.12492952833931814, 'even':0.12086888732979909, 'good':0.11197705039728956, 'well':0.11076901884734838, 'much':0.10974732889870106, 'system':0.10631837818243967, 'imac':0.10590353366973913, 'really':0.09504938135581846, 'dell':0.09500041382279983\n",
      "\n",
      "Topico: Computers -> Palavras e pesos = 'car':-0.5356372532712458, 'imac':0.21890731634776842, 'seat':-0.1907316144368984, 'mac':0.19059631227215837, 'dell':0.16839873612793682, 'pc':0.15613086073397864, 'apple':0.14588886462164755, 'computer':0.12856601091497086, 'application':0.12105834843012522, 'rear':-0.11695925711980977, 'photo':0.11658567611484943, 'engine':-0.10735937890206249, 'wheel':-0.0991646151216227, 'driver':-0.08744701535817531, 'mail':0.08525779072471014\n",
      "\n",
      "Topico: Music -> Palavras e pesos = 'track':0.2853276380586369, 'song':0.28513271979824323, 'beat':0.24056767159562945, 'car':-0.21899022147073116, 'album':0.2002100062142029, 'dell':-0.19190033093933953, 'lyric':0.1581405270456877, 'system':-0.14273014892887384, 'like':0.1254996173409689, 'imac':-0.12491227089989446, 'computer':-0.11009686049949695, 'star':0.10949280381137934, 'sound':0.10922635948015132, 'drive':-0.10373169775943188, 'rap':0.1015356062087887\n",
      "\n",
      "Topico: Cookware -> Palavras e pesos = 'pan':0.41174665063018373, 'clad':0.28257231786792314, 'stainless':0.2391171126150293, 'song':-0.19419724202926547, 'room':0.1726347436162626, 'steel':0.1721843657642502, 'track':-0.17087483148811106, 'car':-0.1524941002483375, 'album':-0.143237106788567, 'beat':-0.14039033053654876, 'cookware':0.12337401763189491, 'fry':0.12033108056983731, 'set':0.11555561357605379, 'hotel':0.10324235240959637, 'lyric':-0.09821067450783627\n",
      "\n",
      "Topico: Computers -> Palavras e pesos = 'dell':0.5222551636004649, 'system':0.30008047835075047, 'imac':-0.24344036039807332, 'mac':-0.22238059479656808, 'photo':-0.14008948015431918, 'customer':0.13373743217848658, 'application':-0.1299361873018042, 'apple':-0.12347311773874066, 'pc':-0.11971863926726953, 'software':0.10814963221045745, 'care':0.1058196220125782, 'iphoto':-0.10164831861174578, 'drive':0.10125633057762103, 'may':0.09172181980782285, 'order':0.08358174419300594\n",
      "\n",
      "Topico: Hotels -> Palavras e pesos = 'pan':0.3726943996994103, 'room':-0.3116976934241488, 'clad':0.26295637534710264, 'stainless':0.2248208388336306, 'hotel':-0.20072454351508512, 'steel':0.16403332604232448, 'resort':-0.1611113357090629, 'phone':-0.13201606933795854, 'disney':-0.13060258572496855, 'pool':-0.1224786922727501, 'time':-0.11580695903428562, 'song':0.11213919254819693, 'fry':0.11112073926410909, 'cookware':0.10771544118460946, 'beach':-0.10106154276685596\n",
      "\n",
      "Topico: Phones -> Palavras e pesos = 'phone':-0.6198653743226279, 'handset':-0.2927435951769147, 'room':0.20258660558655364, 'battery':-0.17433349751669902, 'panasonic':-0.16927536310971655, 'base':-0.1304422205926858, 'feature':-0.128968678587273, 'hotel':0.12265309541333977, 'cordless':-0.11966683213301459, 'dell':0.11923895137764731, 'call':-0.11729545495173808, 'unit':-0.11146622244093318, 'resort':0.10187894137832089, 'caller':-0.09893211754328902, 'button':-0.09845527602521603\n",
      "\n",
      "Topico: Movies -> Palavras e pesos = 'room':0.27974393344828713, 'movie':-0.27722853014505994, 'film':-0.27218686740703474, 'book':-0.21018100935418624, 'hotel':0.17860545805904057, 'phone':0.17197076952120152, 'character':-0.16375954239192528, 'story':-0.15112290091505298, 'resort':0.13855882168253547, 'plot':-0.13197338789392596, 'pool':0.10935148507454559, 'service':0.10136813925509218, 'santa':-0.10048094549251295, 'disney':0.0978243182970008, 'beach':0.0935152431202598\n",
      "\n",
      "\n",
      "LDA - Latent Dirichlet Allocation\n",
      "Coherence: 0.45696956170687825\n",
      "\n",
      "\n",
      "Topico: Phones -> Palavras e pesos = 'phone':0.018302524, 'handset':0.007295977, 'like':0.006696939, 'system':0.005760546, 'movie':0.005283637, 'good':0.005170933, 'time':0.0050521824, 'get':0.0048706136, 'film':0.0048197214, 'feature':0.0043030935, 'way':0.003887483, 'panasonic':0.0038816498, 'call':0.0037725142, 'battery':0.0037493631, 'taurus':0.0036499638\n",
      "\n",
      "Topico: Computers -> Palavras e pesos = 'like':0.0079737725, 'imac':0.0064333216, 'movie':0.0058414703, 'get':0.005757095, 'would':0.0052478937, 'also':0.0048046387, 'even':0.0047103656, 'make':0.0043334886, 'computer':0.004262398, 'thing':0.00412881, 'new':0.00408698, 'really':0.0039110477, 'mac':0.003813517, 'cat':0.003688552, 'screen':0.003549318\n",
      "\n",
      "Topico: Movies -> Palavras e pesos = 'movie':0.011097098, 'santa':0.010553421, 'elf':0.007400613, 'buddy':0.006307371, 'like':0.005699751, 'willie':0.0054954533, 'christmas':0.0054463004, 'film':0.0053986153, 'bad':0.0051649427, 'kid':0.00414422, 'year':0.0038447012, 'plot':0.0037440923, 'ferrell':0.003291402, 'character':0.0032371196, 'see':0.0031401806\n",
      "\n",
      "Topico: Cars -> Palavras e pesos = 'car':0.019516509, 'pan':0.008891688, 'like':0.0077938563, 'seat':0.006752938, 'also':0.0046867128, 'look':0.0046539875, 'get':0.0045633162, 'engine':0.004552498, 'even':0.00415034, 'would':0.0041449056, 'clad':0.004032856, 'good':0.00401499, 'rear':0.0039798636, 'stainless':0.0039143306, 'use':0.0039043748\n",
      "\n",
      "Topico: Hotels -> Palavras e pesos = 'room':0.01661082, 'hotel':0.012789634, 'resort':0.007419254, 'time':0.0071575535, 'pool':0.0061821607, 'disney':0.0059531904, 'stay':0.005320882, 'beach':0.004603168, 'would':0.004541335, 'night':0.004427917, 'also':0.004425203, 'get':0.0041922485, 'service':0.0041198214, 'day':0.003998628, 'like':0.003991144\n",
      "\n",
      "Topico: Books -> Palavras e pesos = 'king':0.006473032, 'noah':0.005417934, 'green':0.004778075, 'author':0.0044114445, 'wilson':0.0041935127, 'peeler':0.004193184, 'bowl':0.004135988, 'like':0.004079955, 'oxo':0.003948443, 'romance':0.003416976, 'year':0.0033899106, 'notebook':0.0032703374, 'swivel':0.0032137898, 'would':0.0031136095, 'taurus':0.00296864\n",
      "\n",
      "Topico: Music -> Palavras e pesos = 'book':0.010090855, 'song':0.009788889, 'track':0.009643953, 'album':0.009100952, 'beat':0.00736079, 'like':0.006995212, 'time':0.0047430075, 'lyric':0.0047002006, 'get':0.0041892584, 'story':0.004112908, 'even':0.004003264, 'rap':0.003805414, 'read':0.0037881222, 'sound':0.0037757922, 'would':0.0037119766\n",
      "\n",
      "Topico: Computers -> Palavras e pesos = 'computer':0.01487861, 'dell':0.014165898, 'system':0.011246431, 'apple':0.008850414, 'drive':0.0075588087, 'cd':0.006107017, 'problem':0.005787129, 'pc':0.0057859826, 'software':0.0056494568, 'support':0.005594352, 'dvd':0.0050022122, 'machine':0.004909813, 'memory':0.00484671, 'keyboard':0.004605165, 'mb':0.004312854\n",
      "\n",
      "\n",
      "HDP - Hierarchical Dirichlet Process\n",
      "Coherence: 0.3603284291917911\n",
      "\n",
      "\n",
      "Topico: Computers -> Palavras e pesos = 'like':0.004736416932659695, 'get':0.004693839937173142, 'would':0.004087326796104571, 'also':0.003445324839887538, 'even':0.0034110821630712555, 'time':0.0033317708504283445, 'song':0.0032991050827361735, 'book':0.0032095522271209263, 'good':0.003007612118445391, 'come':0.0029352978315892396, 'dell':0.0028667795633007987, 'computer':0.0028513385796668203, 'make':0.0028252071519587352, 'beat':0.0027873129182304094, 'pc':0.002754183044635515\n",
      "\n",
      "Topico: Cars -> Palavras e pesos = 'car':0.00792991115093516, 'pan':0.006231988861986688, 'like':0.0051323830782315435, 'would':0.003450883876682822, 'good':0.0033925792869066154, 'clad':0.003364737069468906, 'stainless':0.0031112000199854193, 'get':0.003085697816287753, 'also':0.003036059637157569, 'phone':0.003031478707048817, 'time':0.0030128270169431904, 'set':0.002925834865402559, 'use':0.002888029466588468, 'even':0.0028243849631646046, 'look':0.002680266499768188\n",
      "\n",
      "Topico: Movies -> Palavras e pesos = 'like':0.005037723154318944, 'movie':0.0028019490958379276, 'make':0.0025895310610382864, 'film':0.002388121680210435, 'get':0.0023416208906488004, 'time':0.0023102533452750585, 'track':0.002199672765675703, 'good':0.002161546265056025, 'would':0.0020972471579425063, 'even':0.002091016428474263, 'noah':0.0020477428426968133, 'album':0.0018763489061916457, 'also':0.0018511759495697718, 'way':0.00181670086663417, 'year':0.0017627372401902014\n",
      "\n",
      "Topico: Computers -> Palavras e pesos = 'phone':0.0037888703656080453, 'room':0.0035611146086179987, 'like':0.0030635491394883814, 'get':0.0029244705630560373, 'time':0.0026302875350051034, 'new':0.0024696466804917457, 'good':0.0023544167369589056, 'computer':0.002351385389734813, 'imac':0.0021655893057270967, 'also':0.0020819879768187444, 'hotel':0.0019602789906267917, 'use':0.0019126074301500369, 'would':0.0018879595366808526, 'though':0.0017259135456255642, 'well':0.0017127311843021082\n",
      "\n",
      "Topico: Cars -> Palavras e pesos = 'car':0.003764959298091722, 'like':0.002725560527714907, 'tea':0.0025840907912107088, 'book':0.002148581639506614, 'gt':0.0017823495902356983, 'cruise':0.0017692075840929457, 'get':0.001767625675119181, 'movie':0.0017318095592086062, 'well':0.001714616788538581, 'time':0.00170756470218119, 'even':0.001704943899659471, 'think':0.001671900947135149, 'would':0.001556860108622013, 'samurai':0.0015175305235730254, 'film':0.0014836787465169379\n",
      "\n",
      "Topico: Phones -> Palavras e pesos = 'phone':0.010136804379497266, 'handset':0.005933949228601406, 'system':0.0038893519701722326, 'use':0.0028070463185641504, 'time':0.002685205932735067, 'battery':0.002678811194864608, 'button':0.0026576554549140453, 'call':0.0026408616511544762, 'message':0.0025421995061546045, 'base':0.002527550688831003, 'feature':0.0024877141624045965, 'panasonic':0.0024029162828750872, 'like':0.0023894602016593736, 'get':0.0020364887123869206, 'good':0.0019113574748550453\n",
      "\n",
      "Topico: Hotels -> Palavras e pesos = 'room':0.004957968150955551, 'hotel':0.003433717947603542, 'time':0.003384169706783623, 'resort':0.0028716769405214082, 'cougar':0.002068367214062941, 'day':0.0019090501463514195, 'pool':0.0018801003920253698, 'stay':0.0018694218108156963, 'night':0.001777514076737043, 'go':0.0017553349513341877, 'place':0.0017532921703599866, 'large':0.001701227680875653, 'poly':0.0016846707025495323, 'island':0.0016536781481963092, 'great':0.001632183663401368\n",
      "\n",
      "Topico: Music -> Palavras e pesos = 'buddy':0.003150603253060144, 'murphy':0.0026204064963025802, 'movie':0.002317849557133169, 'elf':0.0023021802472907777, 'lee':0.0021964479557982446, 'song':0.0016456923782094356, 'like':0.0016158304294024567, 'sh':0.0015220748161360628, 'nelly':0.001477968759744461, 'year':0.0013026008929676498, 'feat':0.0012729533706413612, 'track':0.0012707730002971234, 'jon':0.0012373858222610092, 'santa':0.0012125285163300376, 'chorus':0.0012078922645660107\n",
      "\n"
     ]
    },
    {
     "data": {
      "image/png": "[encoded data removed]",
      "text/plain": [
       "<Figure size 432x288 with 1 Axes>"
      ]
     },
     "metadata": {
      "needs_background": "light"
     },
     "output_type": "display_data"
    }
   ],
   "source": [
    "train_list_lowercase_lemmatization = [data_treatment(review, True, True, False, False).split() for review in reviews[10:]]\n",
    "lowercase_lemmatization_dictionary = run_models(train_list_lowercase_lemmatization, \"Com Minúsculas e Lemmatization\")"
   ]
  },
  {
   "cell_type": "markdown",
   "metadata": {},
   "source": [
    "### Com Minúsculas e POS tagging"
   ]
  },
  {
   "cell_type": "code",
   "execution_count": 50,
   "metadata": {},
   "outputs": [
    {
     "name": "stdout",
     "output_type": "stream",
     "text": [
      "Com Minúsculas e POS tagging\n",
      "\n",
      "LSA - Latent Semantic Indexing\n",
      "Coherence: 0.3320225779619731\n",
      "\n",
      "\n",
      "Topico: Computers -> Palavras e pesos = 'car':-0.4795222333650151, 'system':-0.20669453354903083, 'time':-0.17403554265381377, 'dell':-0.1546170105693713, 'computer':-0.1528429620897479, 'apple':-0.1387523365974854, 'cd':-0.1371985035771246, 'way':-0.12263752691071055, 'pc':-0.11700566264158066, 'power':-0.11377467106806151, 'drive':-0.11125214066366979, 'performance':-0.1038667663623863, 'engine':-0.09788819872240467, 'use':-0.09450640961858958, 'seat':-0.09363952772084787\n",
      "\n",
      "Topico: Computers -> Palavras e pesos = 'car':0.5955604651062366, 'apple':-0.2044709326340952, 'dell':-0.20032406711350187, 'pc':-0.18189395859117208, 'computer':-0.18017814108392435, 'imac':-0.13977386886504156, 'mac':-0.12324569484284743, 'engine':0.1209242055819099, 'seat':0.11935252860860024, 'applications':-0.11403072713245446, 'photos':-0.1124820455610521, 'software':-0.11141340116936489, 'system':-0.10566858038409065, 'mail':-0.10550208608934214, 'cars':0.10333105251842224\n",
      "\n",
      "Topico: Music -> Palavras e pesos = 'track':0.29977190450406427, 'song':0.27017744950894046, 'lyrics':0.2510758980753962, 'dell':-0.2256226163660779, 'beat':0.1904541009812248, 'album':0.17954447017332575, 'system':-0.1755870803410418, 'time':0.15222885874417605, 'hop':0.12850321116937455, 'hip':0.12208908046614614, 'murphy':0.11388308498114356, 'stars':0.11113181761423825, 'computer':-0.1105262776514022, 'car':-0.10946830073329507, 'production':0.1094116433916215\n",
      "\n",
      "Topico: Computers -> Palavras e pesos = 'dell':0.44816784748564203, 'system':0.2973750327950658, 'apple':-0.23524736678062108, 'imac':-0.1805371623284358, 'pc':-0.17040699466223153, 'mac':-0.1651809843884285, 'customer':0.1643919270498001, 'photos':-0.15897472723256192, 'applications':-0.1469650597003156, 'track':0.14645349843128708, 'care':0.13369503225679583, 'lyrics':0.12516609966012363, 'software':0.12309900216722094, 'song':0.11977609778680304, 'book':-0.11747652100988494\n",
      "\n",
      "Topico: Hotels -> Palavras e pesos = 'room':0.3360547939290165, 'hotel':0.24384536118324096, 'song':-0.1813676604988814, 'track':-0.17497627711345554, 'resort':0.16336319818027178, 'lyrics':-0.15563918813939007, 'steel':0.1555341308071432, 'phone':0.14938551068811054, 'time':0.1482253223151401, 'apple':-0.1432002098623932, 'stainless':0.14146683730374687, 'car':-0.13286588236378258, 'rooms':0.13248954652322958, 'disney':0.12804074400322013, 'clad':0.1270107324433192\n",
      "\n",
      "Topico: Phones -> Palavras e pesos = 'phone':-0.6807641293800123, 'steel':0.19589308174599188, 'stainless':0.1735886403840934, 'phones':-0.16530231224921074, 'clad':0.1529584186072452, 'battery':-0.1514383508995167, 'cordless':-0.1482183230819918, 'pans':0.1352950281470621, 'pan':0.13086227161862482, 'fry':0.12430019163864697, 'handsets':-0.12422821573351985, 'unit':-0.11573583894087015, 'handset':-0.11386085252049045, 'base':-0.10887632398188898, 'cookware':0.10290454406504534\n",
      "\n",
      "Topico: Cookware -> Palavras e pesos = 'steel':-0.34337561158814495, 'stainless':-0.3022494537917261, 'clad':-0.2678909196947677, 'room':0.264759298338927, 'phone':-0.25697413514120626, 'pans':-0.24358669463055774, 'pan':-0.23642314256663888, 'fry':-0.21606818846884857, 'hotel':0.20719854686547648, 'cookware':-0.18389397793422266, 'resort':0.1363205069778301, 'heat':-0.11069773805739438, 'disney':0.1103768463187002, 'rooms':0.11030031450087377, 'use':-0.1019939240824124\n",
      "\n",
      "Topico: Movies -> Palavras e pesos = 'movie':0.4113105503412589, 'film':0.3717437774177552, 'room':-0.23679293874996268, 'book':0.22680129649485656, 'story':0.20537414567231002, 'hotel':-0.18740084469290375, 'plot':0.17652070863739366, 'character':0.12424466775718986, 'details':0.11373080455863284, 'resort':-0.10878299985013479, 'characters':0.10583660069199254, 'way':0.10292034730462211, 'cat':0.09950404866707113, 'performance':0.090734139312205, 'phone':-0.0900244004181994\n",
      "\n",
      "\n",
      "LDA - Latent Dirichlet Allocation\n",
      "Coherence: 0.6651566105844517\n",
      "\n",
      "\n",
      "Topico: Music -> Palavras e pesos = 'track':0.016102951, 'song':0.014626839, 'album':0.013411574, 'lyrics':0.012505977, 'hop':0.009516176, 'beat':0.009240949, 'hip':0.008882576, 'rap':0.0070704916, 'songs':0.0067341523, 'production':0.0065940004, 'music':0.006428099, 'stars':0.005781031, 'time':0.0054604383, 'way':0.004511929, 'chorus':0.0042667207\n",
      "\n",
      "Topico: Cars -> Palavras e pesos = 'car':0.025193239, 'dell':0.0095472075, 'focus':0.006869112, 'xterra':0.00641863, 'power':0.0059239985, 'engine':0.005545831, 'system':0.005277641, 'cd':0.004997323, 'cars':0.0049956655, 'price':0.004800591, 'time':0.004708262, 'lot':0.0043527763, 'quality':0.00420092, 'pop':0.0041012466, 'year':0.003966687\n",
      "\n",
      "Topico: Movies -> Palavras e pesos = 'movie':0.044129755, 'film':0.02181884, 'plot':0.0122688655, 'cat':0.011403483, 'details':0.010087689, 'kids':0.0087195765, 'story':0.007279791, 'way':0.0070913853, 'children':0.006845482, 'opinion':0.0068185874, 'character':0.006757662, 'christmas':0.0063373055, 'santa':0.006282714, 'reveals':0.0055759735, 'year':0.005158034\n",
      "\n",
      "Topico: Hotels -> Palavras e pesos = 'room':0.027077379, 'hotel':0.02307924, 'resort':0.013055973, 'rooms':0.010777413, 'time':0.010217858, 'disney':0.009749467, 'pool':0.0086877225, 'night':0.008095325, 'service':0.007948726, 'beach':0.007060551, 'area':0.0065837023, 'food':0.0065728473, 'day':0.0065223905, 'water':0.0063544996, 'stay':0.00570042\n",
      "\n",
      "Topico: Cookware -> Palavras e pesos = 'pan':0.019692615, 'pans':0.018729938, 'steel':0.016309192, 'cookware':0.015179722, 'stainless':0.011955632, 'clad':0.011309692, 'heat':0.010919011, 'use':0.010193641, 'time':0.008104785, 'pot':0.00727815, 'piece':0.0070782276, 'pots':0.0069553806, 'food':0.006498969, 'handles':0.0060588582, 'fry':0.0058270786\n",
      "\n",
      "Topico: Books -> Palavras e pesos = 'book':0.028987909, 'story':0.015623477, 'time':0.0112238815, 'books':0.007087229, 'characters':0.0068454696, 'grisham':0.0065030316, 'plot':0.006058989, 'way':0.005628588, 'family':0.0052687856, 'house':0.0052647414, 'life':0.0050015594, 'cotton':0.004853196, 'year':0.0047699725, 'character':0.0047079735, 'people':0.004610729\n",
      "\n",
      "Topico: Cars -> Palavras e pesos = 'car':0.024968755, 'phone':0.021438925, 'system':0.011135024, 'engine':0.007246208, 'power':0.00682846, 'time':0.0066884356, 'seat':0.005872391, 'phones':0.0057292795, 'seats':0.005496556, 'cars':0.0052976464, 'line':0.005232201, 'quality':0.0051191617, 'use':0.005116688, 'battery':0.004999669, 'model':0.0049536466\n",
      "\n",
      "Topico: Computers -> Palavras e pesos = 'computer':0.024287354, 'apple':0.01856452, 'pc':0.0118488055, 'machine':0.010325925, 'imac':0.0087709045, 'software':0.008322093, 'cd':0.007964003, 'system':0.0078453515, 'memory':0.00756222, 'drive':0.007444683, 'mac':0.00737044, 'mouse':0.0063374615, 'dvd':0.005680463, 'video':0.005626153, 'support':0.00542138\n",
      "\n",
      "\n",
      "HDP - Hierarchical Dirichlet Process\n",
      "Coherence: 0.4313828499903307\n",
      "\n",
      "\n",
      "Topico: Cars -> Palavras e pesos = 'dell':0.004395002850667447, 'system':0.003909899130138633, 'car':0.0033915474785781875, 'xterra':0.0030663480246396844, 'family':0.002647245694241885, 'drive':0.0025494273815109035, 'house':0.0024096602971680503, 'movie':0.0023320676093425436, 'time':0.002292675024562405, 'seat':0.0022661520604816275, 'customer':0.0022243906122609526, 'order':0.002218998359134391, 'software':0.002058041186734425, 'power':0.0019449638988688265, 'way':0.0018981182160990899\n",
      "\n",
      "Topico: Computers -> Palavras e pesos = 'phone':0.005822186949179753, 'computer':0.005632750736181857, 'apple':0.004999679278110215, 'imac':0.00444815227338444, 'pc':0.004147842938951575, 'mac':0.003605996102361902, 'photos':0.0030963242932860913, 'machine':0.003019420783775057, 'applications':0.002896827629298312, 'system':0.0028664609638692244, 'mail':0.0026605052189326876, 'way':0.0023344954650787128, 'time':0.0022366611539772815, 'ghz':0.0021827366845491272, 'music':0.002176383743691421\n",
      "\n",
      "Topico: Cookware -> Palavras e pesos = 'pan':0.0053680378714491325, 'stainless':0.004736190030417541, 'steel':0.0047158184501774215, 'pans':0.004362785436076387, 'clad':0.004013428042287142, 'fry':0.0038998540372456457, 'cookware':0.0035806816164913845, 'track':0.003225933160832908, 'time':0.002978332629287685, 'food':0.0028074184444327717, 'lyrics':0.0026643291166195742, 'neptunes':0.002626491440777923, 'iron':0.0022168264659961677, 'pot':0.002155488054607626, 'piece':0.0019399018307506273\n",
      "\n",
      "Topico: Cars -> Palavras e pesos = 'car':0.008273572613906096, 'room':0.0031413573284678315, 'focus':0.002723604279476459, 'engine':0.0024390693541646614, 'cars':0.002145175769243971, 'power':0.00202464389673174, 'disney':0.001952604398133457, 'svt':0.001811246606780919, 'price':0.0018009635748293471, 'drive':0.001752672578900999, 'taurus':0.0016537575750921745, 'place':0.001637731662709708, 'seat':0.0016337664344636485, 'wheel':0.001388497053239791, 'rooms':0.0013259091053183653\n",
      "\n",
      "Topico: Music -> Palavras e pesos = 'song':0.0027600789832137877, 'chorus':0.002701027613023095, 'murphy':0.0024392977955225506, 'spits':0.0023541959997239645, 'verse':0.0022458754044464204, 'beat':0.0022144071410295178, 'pans':0.002193369299215547, 'book':0.0021213044283556483, 'dj':0.0020962426816677287, 'stephanie':0.002011352293506197, 'lee':0.0018896380544764781, 'film':0.0018349673881736925, 'track':0.0017648881658792988, 'calendar':0.0015054245938537886, 'time':0.0014706645519785044\n",
      "\n",
      "Topico: Cars -> Palavras e pesos = 'car':0.007401548229985138, 'phone':0.0026863820198839896, 'story':0.0019591376174482086, 'cd':0.001764184868168353, 'time':0.001632095943192664, 'zion':0.0015794084351453057, 'power':0.0015167847767098908, 'way':0.0014339421687758409, 'system':0.0013982699142695155, 'tl':0.0013172833230405362, 'line':0.0012541515762358383, 'seats':0.0012475387212439876, 'button':0.0012331019928315447, 'house':0.0011910888414187724, 'album':0.0011756935798629686\n",
      "\n",
      "Topico: Books -> Palavras e pesos = 'book':0.0032841205701248533, 'thing':0.002702108858709629, 'car':0.0025566609887701535, 'cat':0.002372849809867855, 'plot':0.0023268917465659204, 'story':0.0022351559165170527, 'film':0.0022342573105475303, 'movie':0.0021992502086110423, 'time':0.002124335214532761, 'way':0.0018558087577548454, 'lot':0.0016827093751957969, 'fact':0.0012768091092537107, 'myers':0.0011946834222091446, 'kids':0.0011735062341936594, 'work':0.001169731700096699\n",
      "\n",
      "Topico: Computers -> Palavras e pesos = 'dell':0.003258428674746244, 'book':0.0029175450274479845, 'machine':0.0027492053068498092, 'time':0.0019537081820103857, 'room':0.0019387868120298829, 'apple':0.0017146026867039036, 'system':0.0015342457235359133, 'hotel':0.0014374291621671812, 'cable':0.0013897647907866763, 'power':0.0012884629139224004, 'firewire':0.001283840972904241, 'casino':0.0012695876734138318, 'meeting':0.0012368822607843187, 'computer':0.0011909387392513532, 'memory':0.00107550619118929\n",
      "\n"
     ]
    },
    {
     "data": {
      "image/png": "[encoded data removed]",
      "text/plain": [
       "<Figure size 432x288 with 1 Axes>"
      ]
     },
     "metadata": {
      "needs_background": "light"
     },
     "output_type": "display_data"
    }
   ],
   "source": [
    "train_list_lowercase_pos = [data_treatment(review, True, False, True, False).split() for review in reviews[10:]]\n",
    "lowercase_pos_dictionary = run_models(train_list_lowercase_pos, \"Com Minúsculas e POS tagging\")"
   ]
  },
  {
   "cell_type": "markdown",
   "metadata": {},
   "source": [
    "### Com Minúsculas e Chunking"
   ]
  },
  {
   "cell_type": "code",
   "execution_count": 51,
   "metadata": {},
   "outputs": [
    {
     "name": "stdout",
     "output_type": "stream",
     "text": [
      "Com Minúsculas e Chunking\n",
      "\n",
      "LSA - Latent Semantic Indexing\n",
      "Coherence: 0.4181568213964287\n",
      "\n",
      "\n",
      "Topico: Computers -> Palavras e pesos = 'car':0.35496831477905155, 'dell':0.18809335965413196, 'system':0.1802832171943024, 'imac':0.14662113421522643, 'new':0.13556764023164852, 'computer':0.13459601648958253, 'mac':0.12488918613869124, 'apple':0.12006776827751851, 'good':0.11972760681623082, 'pc':0.11885130497752044, 'time':0.11884874574969953, 'cd':0.11680739422447368, 'drive':0.1123048529319075, 'much':0.1116554307830666, 'many':0.10156500363376517\n",
      "\n",
      "Topico: Computers -> Palavras e pesos = 'car':0.533206495823778, 'dell':-0.23191520290691453, 'imac':-0.21266775807246752, 'mac':-0.18988262619421725, 'pc':-0.17641642522476192, 'apple':-0.15994100819153986, 'computer':-0.1499576490628222, 'rear':0.13020792111905977, 'seat':0.12745658170083576, 'engine':0.1159467988221622, 'photos':-0.10425861801784352, 'applications':-0.1035742047404594, 'mouse':-0.09942982506048711, 'software':-0.09553165812466946, 'cars':0.09456627726485631\n",
      "\n",
      "Topico: Music -> Palavras e pesos = 'song':-0.28608999436017707, 'dell':0.2820126479961721, 'track':-0.26813951100023886, 'album':-0.22891333076104892, 'car':0.20078985908434321, 'system':0.17482730180664371, 'lyrics':-0.17415811553064892, 'good':-0.1218023429359636, 'hip':-0.10561095719111065, 'hop':-0.10385787294559708, 'rap':-0.09346109852754339, 'production':-0.08874691208621278, 'neptunes':-0.08747636398664486, 'movie':-0.08686012014013042, 'bad':-0.0857867148686683\n",
      "\n",
      "Topico: Computers -> Palavras e pesos = 'dell':0.4763923142912845, 'imac':-0.2844656916275317, 'mac':-0.25660952712778456, 'system':0.24661321542894896, 'apple':-0.18241579985701684, 'pc':-0.1800912640828606, 'customer':0.1533972963264426, 'photos':-0.14355531927832665, 'applications':-0.14149663771770066, 'care':0.1252896534598084, 'car':-0.12077183834738617, 'iphoto':-0.11769447192071424, 'track':0.09915216248185434, 'mail':-0.09232210770708557, 'software':0.088802811717071\n",
      "\n",
      "Topico: Cookware -> Palavras e pesos = 'clad':-0.39454878467210625, 'stainless':-0.36682510201695323, 'pan':-0.2923012947601035, 'steel':-0.27755573140125894, 'pans':-0.2356370279509371, 'song':0.19345793948566806, 'fry':-0.17990558187363062, 'track':0.1694492086769364, 'album':0.14825191430961923, 'cookware':-0.12856275159082725, 'lyrics':0.11261746543016651, 'room':-0.1059881896036701, 'heat':-0.10388743804941886, 'food':-0.09927249816285909, 'sauce':-0.08983389166319061\n",
      "\n",
      "Topico: Hotels -> Palavras e pesos = 'room':-0.3353783190231459, 'hotel':-0.2526907496906432, 'clad':0.21429978002432534, 'stainless':0.19803646677067963, 'song':0.18972596144023496, 'disney':-0.16987908897187964, 'resort':-0.1546019592730081, 'track':0.1544761911364995, 'steel':0.14902288773499336, 'pan':0.14399565817163756, 'phone':-0.1434381174873543, 'album':0.13651250328406325, 'rooms':-0.13221238942087224, 'car':0.1259727950079944, 'pool':-0.12304651582570532\n",
      "\n",
      "Topico: Phones -> Palavras e pesos = 'phone':0.622669312604767, 'panasonic':0.21189194168865244, 'room':-0.17952032630696962, 'handset':0.1709953914859718, 'base':0.163546101433615, 'cordless':0.16230018387633177, 'phones':0.15596500819509793, 'battery':0.14776413921976944, 'hotel':-0.12941356318849873, 'i':0.11967769716752687, 'caller':0.11629904366946672, 'unit':0.1133830493669249, 'dell':-0.1079310103427644, 'station':0.10595348108910477, 'system':0.09826029808796188\n",
      "\n",
      "Topico: Movies -> Palavras e pesos = 'film':-0.34002702838783716, 'movie':-0.33719085930443227, 'room':0.2331649437621737, 'hotel':0.18596617699392515, 'book':-0.17761054504067256, 'story':-0.16362493488776592, 'plot':-0.1560207987282321, 'phone':0.14761986511927266, 'santa':-0.1377162506938891, 'character':-0.12181497952950839, 'details':-0.10666646994869158, 'cat':-0.10557937479131532, 'resort':0.10427231910540384, 'performance':-0.0936203509490814, 'characters':-0.09309546469902505\n",
      "\n",
      "\n",
      "LDA - Latent Dirichlet Allocation\n",
      "Coherence: 0.46015926472281565\n",
      "\n",
      "\n",
      "Topico: Hotels -> Palavras e pesos = 'beach':0.0050980267, 'club':0.0049110954, 'santa':0.0045683784, 'elf':0.004566119, 'buddy':0.0041430225, 'christmas':0.0039528133, 'good':0.0034738702, 'new':0.0034197078, 'life':0.0034087528, 'bad':0.0032550113, 'people':0.0031099103, 'us':0.0030278498, 'track':0.0029691188, 'pool':0.0029605778, 'album':0.0028907275\n",
      "\n",
      "Topico: Computers -> Palavras e pesos = 'phone':0.0150214555, 'computer':0.011779084, 'system':0.010187119, 'apple':0.0087680975, 'dell':0.0074355155, 'machine':0.0064072674, 'imac':0.0059926067, 'new':0.005831956, 'pc':0.005671882, 'mac':0.005128434, 'dvd':0.0048489356, 'drive':0.0046188617, 'battery':0.0043885703, 'phones':0.0042262403, 'memory':0.004075812\n",
      "\n",
      "Topico: Music -> Palavras e pesos = 'track':0.010772934, 'album':0.008356967, 'hip':0.007997587, 'hop':0.007604984, 'zion':0.005536161, 'production':0.0048554693, 'lyrics':0.0048175277, 'classic':0.003889279, 'bass':0.0038434193, 'tea':0.0037559655, 'time':0.0035674628, 'cormega':0.0034009211, 'group':0.003307921, 'benzino':0.0032238986, 'tracks':0.0028848036\n",
      "\n",
      "Topico: Cookware -> Palavras e pesos = 'pan':0.008196525, 'pans':0.00788061, 'disney':0.0070960936, 'resort':0.006631915, 'room':0.006472209, 'food':0.0058324225, 'good':0.005336202, 'stainless':0.005150482, 'heat':0.0050775534, 'clad':0.0046932735, 'cookware':0.0045775943, 'time':0.004463003, 'set':0.0044094482, 'hotel':0.004063967, 'pot':0.003749713\n",
      "\n",
      "Topico: Cookware -> Palavras e pesos = 'steel':0.013265305, 'stainless':0.011872957, 'clad':0.011502016, 'pan':0.0077468767, 'pans':0.006567989, 'cougar':0.0061497414, 'fry':0.0060462425, 'bowl':0.00421596, 'greens':0.004215936, 'peeler':0.003954391, 'island':0.003443558, 'treasure':0.0034010797, 'top':0.0033329818, 'swivel':0.0031701108, 'oxo':0.0031700986\n",
      "\n",
      "Topico: Movies -> Palavras e pesos = 'movie':0.025169378, 'film':0.010373624, 'cat':0.008101254, 'plot':0.008090817, 'story':0.007362002, 'details':0.0058062277, 'book':0.0055176406, 'kids':0.0051774764, 'good':0.0051723607, 'children':0.004649683, 'samurai':0.004243416, 'stephanie':0.00417598, 'fun':0.0040502613, 'character':0.0040090447, 'characters':0.0038060127\n",
      "\n",
      "Topico: Books -> Palavras e pesos = 'book':0.012309655, 'song':0.011251921, 'album':0.008095862, 'story':0.0063328687, 'time':0.005577033, 'track':0.00539221, 'lyrics':0.0046199798, 'good':0.004356769, 'songs':0.004032879, 'rap':0.0038756267, 'grisham':0.003874302, 'much':0.0037644256, 'luke':0.003763944, 'something':0.0034339633, 'life':0.0033481834\n",
      "\n",
      "Topico: Cars -> Palavras e pesos = 'car':0.021914871, 'room':0.007275367, 'engine':0.0059128916, 'hotel':0.005714703, 'front':0.005402449, 'rear':0.0051870923, 'seat':0.004927934, 'cars':0.004749144, 'new':0.004633947, 'power':0.0045122574, 'good':0.004420579, 'ford':0.004404168, 'seats':0.0039611976, 'much':0.0038244615, 'vehicle':0.0036556462\n",
      "\n",
      "\n",
      "HDP - Hierarchical Dirichlet Process\n",
      "Coherence: 0.5217183408673467\n",
      "\n",
      "\n",
      "Topico: Hotels -> Palavras e pesos = 'car':0.005537176044433777, 'us':0.0026885220222032866, 'room':0.0025749093619307525, 'book':0.002197909258564658, 'stephanie':0.00218243540532159, 'good':0.0021209802447375533, 'resort':0.0020703786485261728, 'nice':0.0020642042033412883, 'much':0.0018929524574064032, 'hotel':0.0018704196565084985, 'hot':0.001850609544266744, 'little':0.0018155479285998203, 'time':0.0018024721118269046, 'system':0.0017292441617884242, 'way':0.001520856085670301\n",
      "\n",
      "Topico: Computers -> Palavras e pesos = 'dell':0.008847238892935495, 'system':0.00563598344675977, 'pc':0.004164150657974976, 'computer':0.004139376223121904, 'mac':0.003890346349411233, 'imac':0.0036767007594839863, 'apple':0.0033112774029244677, 'phone':0.0028672250616341975, 'software':0.0027271545604651585, 'order':0.0027202980483774014, 'mail':0.0023695542957912403, 'memory':0.0023505677382328104, 'drive':0.0023145156609366466, 'service':0.0022913640389281126, 'cd':0.002290674279088715\n",
      "\n",
      "Topico: Movies -> Palavras e pesos = 'film':0.00266938821397816, 'story':0.002364722597668487, 'room':0.00203328818608763, 'good':0.0019876275869539113, 'book':0.0017633276175427674, 'calendar':0.0016519447494095485, 'many':0.001635116920370623, 'disney':0.001591777248507102, 'us':0.0015852445043559485, 'new':0.0015314104156713938, 'little':0.0015031457816829352, 'movie':0.0014573034181068194, 'santa':0.001453138259776043, 'car':0.0014407022238158611, 'things':0.0014166830642795502\n",
      "\n",
      "Topico: Cookware -> Palavras e pesos = 'clad':0.00661100235532253, 'stainless':0.005483040046371143, 'pan':0.005410093420748483, 'pans':0.004309675551478141, 'steel':0.003964330657836681, 'fry':0.002807460671905804, 'cookware':0.002215035926315449, 'heat':0.002032765733227087, 'use':0.0018547172751230828, 'movie':0.001760809445561765, 'good':0.0017422738151082308, 'piece':0.0017149019695747783, 'iron':0.0015432418383681068, 'kitchen':0.0015381415978207064, 'time':0.0015180552681109797\n",
      "\n",
      "Topico: Cars -> Palavras e pesos = 'car':0.008605501932101384, 'rear':0.002642751846664257, 'focus':0.002358244827146758, 'front':0.002316577005668072, 'power':0.002105543168101583, 'seat':0.001987191790687442, 'drive':0.0019698826834080225, 'engine':0.0019311345211176576, 'even':0.0018223415916303481, 'svt':0.0017003521402920074, 'much':0.0016052267118681505, 'great':0.0015626775171220957, 'ride':0.0015167619095680508, 'price':0.0014887628796962315, 'cars':0.0014255899470289389\n",
      "\n",
      "Topico: Cars -> Palavras e pesos = 'car':0.004659135780242141, 'king':0.0017098846702054405, 'film':0.0016262590976272066, 'rear':0.0014991175694553977, 'new':0.0014824915618962793, 'bmw':0.0012327305283386662, 'best':0.0012264445086873016, 'good':0.0012227458214108414, 'front':0.0012166650774904021, 'performance':0.0012050257135533663, 'ford':0.0011490248895524853, 'much':0.0011472499646009548, 'cl':0.0011429141033780146, 'plot':0.0011129148678135526, 'great':0.0011104570850842832\n",
      "\n",
      "Topico: Cars -> Palavras e pesos = 'car':0.004607643269083974, 'taurus':0.0036373169955331917, 'seat':0.0026809736736503093, 'engine':0.00209360289229203, 'ford':0.002046151693861587, 'front':0.0017429569852897447, 'rear':0.001706806161065085, 'control':0.0016839511302315067, 'interior':0.0016677049775411046, 'vehicle':0.0015988970453258086, 'road':0.001516284212771226, 'model':0.001452179351643152, 'seats':0.0014464831513145951, 'room':0.0013695188746838704, 'cars':0.0013231302373134081\n",
      "\n",
      "Topico: Computers -> Palavras e pesos = 'laptop':0.002424371114828967, 'screen':0.0022101540901538455, 'sony':0.001702705052178247, 'size':0.001522201696183856, 'money':0.0014403346081109168, 'sym':0.001412270899843692, 'battery':0.0013849927062141896, 'dvd':0.0013319940560284323, 'software':0.0012942890956299745, 'old':0.0012422039700603585, 'machine':0.0012352212575200193, 'notebook':0.001223730689857368, 'baby':0.0011855915410440762, 'frv':0.0011565498982684893, 'stars':0.0011489445867072037\n",
      "\n"
     ]
    },
    {
     "data": {
      "image/png": "[encoded data removed]",
      "text/plain": [
       "<Figure size 432x288 with 1 Axes>"
      ]
     },
     "metadata": {
      "needs_background": "light"
     },
     "output_type": "display_data"
    }
   ],
   "source": [
    "train_list_lowercase_chunking = [data_treatment(review, True, False, False, True).split() for review in reviews[10:]]\n",
    "lowercase_chunking_dictionary = run_models(train_list_lowercase_chunking, \"Com Minúsculas e Chunking\")"
   ]
  },
  {
   "cell_type": "markdown",
   "metadata": {},
   "source": [
    "### Com Minúsculas Lemmatization e Chunking"
   ]
  },
  {
   "cell_type": "code",
   "execution_count": 52,
   "metadata": {},
   "outputs": [
    {
     "name": "stdout",
     "output_type": "stream",
     "text": [
      "Com Minúsculas, Lemmatization e Chunking\n",
      "\n",
      "LSA - Latent Semantic Indexing\n",
      "Coherence: 0.3324099130047786\n",
      "\n",
      "\n",
      "Topico: Computers -> Palavras e pesos = 'car':-0.39069404470675956, 'system':-0.17503650059260625, 'dell':-0.16117731343221844, 'imac':-0.13447844220839092, 'time':-0.13298976361125245, 'computer':-0.12954983981407955, 'seat':-0.12783257278336438, 'new':-0.1211592128641634, 'mac':-0.12107131243497171, 'cd':-0.11713814081278748, 'drive':-0.11347347307543221, 'thing':-0.11260239156438431, 'good':-0.11161615099319898, 'apple':-0.1084051733083435, 'much':-0.09812896167194433\n",
      "\n",
      "Topico: Computers -> Palavras e pesos = 'car':-0.5506021530087738, 'dell':0.21725431516370902, 'imac':0.21499181828701655, 'mac':0.20095966117929598, 'seat':-0.18519450159532444, 'pc':0.15859020141581354, 'apple':0.1573481730465861, 'computer':0.15476510231839202, 'application':0.1264421320395986, 'engine':-0.11439119865955136, 'rear':-0.11270888106748618, 'photo':0.1082774372406959, 'wheel':-0.09855774811178711, 'service':0.09477584638678635, 'system':0.09329928263921941\n",
      "\n",
      "Topico: Music -> Palavras e pesos = 'song':0.3460136171505051, 'track':0.31824371980566313, 'album':0.2345327396180508, 'dell':-0.22449423423669815, 'lyric':0.16989984923183932, 'car':-0.16657204297417358, 'system':-0.15612695825080763, 'star':0.13441145870979024, 'rap':0.11893382158716097, 'good':0.10610988431484678, 'sound':0.10237081698545977, 'hip':0.10105587774868632, 'hop':0.10007689486796943, 'computer':-0.09889624475976597, 'beat':0.09741324307181098\n",
      "\n",
      "Topico: Computers -> Palavras e pesos = 'dell':-0.3525925197375265, 'pan':-0.32195587703948875, 'imac':0.24614827938622966, 'mac':0.23592740669446163, 'system':-0.2054974234714809, 'clad':-0.20457004150145738, 'stainless':-0.18291808543989924, 'apple':0.1436477467765179, 'application':0.13590937602168132, 'pc':0.13531955449799365, 'room':-0.13454233902275364, 'steel':-0.13302647971186723, 'car':0.13267653521675013, 'photo':0.1271866284231605, 'customer':-0.12421150744221948\n",
      "\n",
      "Topico: Computers -> Palavras e pesos = 'pan':0.355806879074827, 'dell':-0.3548439302951535, 'clad':0.22661013202085314, 'system':-0.2178075669333298, 'stainless':0.20261775897359457, 'song':-0.2004627003178343, 'track':-0.1862242713120157, 'imac':0.14944543314541275, 'mac':0.14644547036562214, 'steel':0.14504845342998154, 'room':0.13668933331478328, 'album':-0.12308591576002523, 'fry':0.10660779990104836, 'lyric':-0.10520719733700624, 'customer':-0.09568162938732468\n",
      "\n",
      "Topico: Hotels -> Palavras e pesos = 'room':0.4013972899174129, 'pan':-0.34048653207837226, 'hotel':0.2596659926115846, 'clad':-0.22193935660438857, 'stainless':-0.1978555524746664, 'resort':0.1663538283262563, 'disney':0.15782784331304678, 'song':-0.15031671046290881, 'pool':0.14441028198279302, 'steel':-0.1434329895687889, 'phone':0.12715797802846776, 'track':-0.12460725461214463, 'beach':0.11494970144978552, 'movie':0.10791013333273705, 'album':-0.10245465962722419\n",
      "\n",
      "Topico: Phones -> Palavras e pesos = 'phone':0.6879723305205985, 'handset':0.26018049744066024, 'room':-0.17417657629088898, 'panasonic':0.17398696134860395, 'battery':0.1675867487900219, 'feature':0.14476572144826222, 'cordless':0.1348665622036748, 'base':0.12777184010887252, 'dell':-0.12726041465629256, 'unit':0.12059117248350924, 'call':0.11236334247636175, 'hotel':-0.10848815109071877, 'button':0.1067563494317775, 'caller':0.10665932607220359, 'i':0.09767662871823347\n",
      "\n",
      "Topico: Movies -> Palavras e pesos = 'film':0.35508207258674324, 'movie':0.3443165035149918, 'room':-0.2640650964496492, 'book':0.2190974384366818, 'character':0.18909661117050724, 'hotel':-0.1838928536194296, 'story':0.16577287094153662, 'plot':0.1551430387788947, 'phone':-0.14032884196889125, 'santa':0.12561718371312142, 'song':-0.11456893963360229, 'resort':-0.10157650583063013, 'service':-0.09782939950936033, 'pool':-0.09642555244456272, 'detail':0.0963572951898358\n",
      "\n",
      "\n",
      "LDA - Latent Dirichlet Allocation\n",
      "Coherence: 0.6002511754236016\n",
      "\n",
      "\n",
      "Topico: Movies -> Palavras e pesos = 'movie':0.021996533, 'film':0.0101852445, 'plot':0.0072473027, 'story':0.005603455, 'track':0.005383773, 'detail':0.004826415, 'elf':0.0043837563, 'time':0.004377554, 'good':0.004330583, 'thing':0.004098777, 'character':0.0038299146, 'best':0.0038123517, 'year':0.0038033084, 'scene':0.0037890002, 'new':0.0037254004\n",
      "\n",
      "Topico: Cars -> Palavras e pesos = 'car':0.045414407, 'seat':0.013982482, 'engine':0.010904377, 'front':0.0081355125, 'rear':0.0071656466, 'power':0.0065857004, 'interior':0.005911918, 'wheel':0.0058283457, 'vehicle':0.005369104, 'driver':0.0052512065, 'road':0.0052164323, 'nissan':0.005020969, 'control':0.0045936476, 'new':0.0045752036, 'model':0.004453295\n",
      "\n",
      "Topico: Hotels -> Palavras e pesos = 'room':0.01646827, 'hotel':0.012917054, 'book':0.011108239, 'time':0.007744568, 'resort':0.006978167, 'pool':0.0065611615, 'disney':0.0061632446, 'beach':0.004596875, 'place':0.004545229, 'story':0.0043321596, 'character':0.00431177, 'service':0.0041729533, 'large':0.0040366133, 'luke':0.0039722347, 'family':0.0038644432\n",
      "\n",
      "Topico: Music -> Palavras e pesos = 'song':0.019588267, 'album':0.016360132, 'track':0.015120704, 'lyric':0.007676654, 'rap':0.0075729922, 'hop':0.0066542653, 'hip':0.006327817, 'music':0.0058016675, 'star':0.005778774, 'good':0.0052349744, 'sound':0.005225899, 'beat':0.0048690005, 'bad':0.0047788364, 'rapper':0.0042973706, 'santa':0.0042661666\n",
      "\n",
      "Topico: Computers -> Palavras e pesos = 'computer':0.014491375, 'apple':0.01276522, 'dell':0.012144562, 'system':0.009590778, 'pc':0.00820777, 'dvd':0.007699161, 'machine':0.00737724, 'mac':0.0073019485, 'cd':0.0070078042, 'drive':0.0065409085, 'software':0.005774813, 'mouse':0.005574215, 'memory':0.005371917, 'screen':0.0053588087, 'card':0.005056312\n",
      "\n",
      "Topico: Cookware -> Palavras e pesos = 'pan':0.01996078, 'stainless':0.008389582, 'clad':0.007910779, 'pot':0.0069503216, 'steel':0.006790838, 'piece':0.0058217016, 'taurus':0.0056833946, 'cookware':0.0055165105, 'set':0.0052202255, 'good':0.0049868394, 'use':0.004847237, 'lid':0.004556089, 'time':0.004465408, 'heat':0.004426001, 'thing':0.004392341\n",
      "\n",
      "Topico: Phones -> Palavras e pesos = 'phone':0.03427302, 'handset':0.0114994375, 'feature':0.008202125, 'system':0.008166611, 'panasonic':0.007081249, 'cat':0.0062117917, 'battery':0.0062017785, 'base':0.006000702, 'button':0.0057364716, 'call':0.0054551074, 'time':0.005271003, 'line':0.005206593, 'good':0.0050869784, 'cordless':0.005019436, 'unit':0.004968438\n",
      "\n",
      "Topico: Cars -> Palavras e pesos = 'car':0.011906972, 'new':0.0078046406, 'computer':0.007507584, 'focus':0.007272533, 'imac':0.006940413, 'ford':0.0061724656, 'drive':0.0056596883, 'model':0.005259712, 'thing':0.004923522, 'room':0.0048831613, 'problem':0.004730088, 'good':0.0040034275, 'system':0.003961916, 'power':0.0037669616, 'driver':0.003732389\n",
      "\n",
      "\n",
      "HDP - Hierarchical Dirichlet Process\n",
      "Coherence: 0.468706802708849\n",
      "\n",
      "\n",
      "Topico: Cars -> Palavras e pesos = 'car':0.007511628634677799, 'room':0.004634817877518, 'seat':0.00338330014700964, 'movie':0.002975188262054579, 'good':0.002817721399325609, 'taurus':0.002710538957379683, 'new':0.002461287893040882, 'engine':0.002359315835825207, 'time':0.002345238060992792, 'pan':0.0023202354387544624, 'power':0.002286398421320295, 'thing':0.0022840125037567704, 'year':0.002182717558844441, 'system':0.0021792249213239442, 'little':0.0021726878376190505\n",
      "\n",
      "Topico: Computers -> Palavras e pesos = 'dell':0.007563310566923684, 'imac':0.005542131538970301, 'system':0.005347091766638814, 'mac':0.003971169971917617, 'pc':0.003921826574781033, 'computer':0.0038411664893109737, 'apple':0.0035639305007367826, 'book':0.003380714759301323, 'new':0.003229283519056036, 'service':0.002864637265608086, 'drive':0.002800057539750091, 'keyboard':0.0027935200934892453, 'dvd':0.0027252875741283883, 'application':0.0026493843367305504, 'cd':0.0026145804673462026\n",
      "\n",
      "Topico: Phones -> Palavras e pesos = 'phone':0.00935147702189447, 'song':0.004333265416592325, 'handset':0.0035896434813888043, 'track':0.0031076343171393146, 'star':0.003092777185080215, 'good':0.002901159897854049, 'sound':0.002578489108189481, 'time':0.0025422226306998303, 'i':0.0024287949102291093, 'room':0.0022828718634746816, 'album':0.0021959736937685946, 'new':0.0021771456097382335, 'lyric':0.0021371032173943608, 'spit':0.002110957480426285, 'bad':0.0021013876272741342\n",
      "\n",
      "Topico: Computers -> Palavras e pesos = 'apple':0.0034176482163318367, 'movie':0.003415706275722304, 'computer':0.003150835075778791, 'machine':0.002939492397937105, 'cat':0.002863910007324343, 'kid':0.0021627450374211966, 'much':0.0021031395683996337, 'book':0.0020712541666578856, 'time':0.0019816580673069936, 'film':0.0019449159872997896, 'cd':0.0019075617083666413, 'story':0.001754854305930569, 'thing':0.0017437773023369777, 'problem':0.0016962115585517762, 'drive':0.0016598877426213037\n",
      "\n",
      "Topico: Cars -> Palavras e pesos = 'car':0.0069672975794140045, 'xterra':0.0038492859317077357, 'vehicle':0.0033504125519514543, 'seat':0.003185958647451366, 'rear':0.0025632074181978445, 'passenger':0.002128620071525689, 'speed':0.0019540322667105617, 'wheel':0.0018582037327308648, 'engine':0.0018305880807351713, 'driver':0.0017817246624651595, 'power':0.0017578713387945194, 'time':0.0016733277685470381, 'mustang':0.0015916798966597433, 'road':0.0015603358805776014, 'drive':0.0015531279381346198\n",
      "\n",
      "Topico: Music -> Palavras e pesos = 'song':0.005607504573969272, 'album':0.0032855841935342882, 'track':0.003228535173474066, 'tea':0.0027780372204589173, 'time':0.0023522659799812442, 'hop':0.002231481523126136, 'hip':0.0022046183256359832, 'lyric':0.002051831060440791, 'good':0.0020184254429015894, 'great':0.0019428738988005703, 'nice':0.0018915625089319643, 'something':0.0018364297705824096, 'room':0.0018244074899095516, 'thing':0.0016891440982424954, 'beat':0.001637383133436914\n",
      "\n",
      "Topico: Cookware -> Palavras e pesos = 'pan':0.008358568674326109, 'stainless':0.004968052466441134, 'clad':0.0047639020310740144, 'steel':0.004213871730864314, 'car':0.003929188511916602, 'fry':0.0030711600242153765, 'cookware':0.0023780551317350127, 'type':0.0021705708368118326, 'pot':0.002045730714336492, 'stick':0.002030788248586038, 'food':0.001797123905601449, 'kitchen':0.0017677212604827704, 'non':0.0016541477832674653, 'use':0.001554553917382041, 'cl':0.0014875914167173643\n",
      "\n",
      "Topico: Hotels -> Palavras e pesos = 'book':0.0032647885155338437, 'time':0.002923228664399156, 'resort':0.0028991396426401132, 'room':0.002888430647763182, 'disney':0.002327234500905146, 'good':0.0018429350767759135, 'pool':0.0018027763071011354, 'case':0.0015272845628194476, 'hotel':0.0014896658013959733, 'place':0.0014861956993857458, 'lodge':0.0014776394657064107, 'story':0.0013586482283340071, 'patterson':0.0013131342682502281, 'day':0.001312894135334242, 'movie':0.0013019780976054874\n",
      "\n"
     ]
    },
    {
     "data": {
      "image/png": "[encoded data removed]",
      "text/plain": [
       "<Figure size 432x288 with 1 Axes>"
      ]
     },
     "metadata": {
      "needs_background": "light"
     },
     "output_type": "display_data"
    }
   ],
   "source": [
    "train_list_lowercase_lemmatization_chunking = [data_treatment(review, True, True, False, True).split() for review in reviews[10:]]\n",
    "lowercase_lemmatization_chunking_dictionary = run_models(train_list_lowercase_lemmatization_chunking, \"Com Minúsculas, Lemmatization e Chunking\")"
   ]
  },
  {
   "cell_type": "markdown",
   "metadata": {},
   "source": [
    "### Com Minúsculas POS e Chunking"
   ]
  },
  {
   "cell_type": "code",
   "execution_count": 53,
   "metadata": {},
   "outputs": [
    {
     "name": "stdout",
     "output_type": "stream",
     "text": [
      "Com Minúsculas, POS e Chunking\n",
      "\n",
      "LSA - Latent Semantic Indexing\n",
      "Coherence: 0.36247402410407464\n",
      "\n",
      "\n",
      "Topico: Cars -> Palavras e pesos = 'car':0.5419413655329417, 'system':0.23288165618882214, 'computer':0.15483886826436077, 'dell':0.15026599390585382, 'time':0.14358761753125993, 'cd':0.14358585655347092, 'apple':0.13392807309612387, 'power':0.12125315892470417, 'pc':0.11694626472871641, 'engine':0.11364838520193787, 'performance':0.10853775631524826, 'drive':0.10706436799373165, 'cars':0.09579224553218271, 'seat':0.0935347584928754, 'room':0.08932945661966696\n",
      "\n",
      "Topico: Computers -> Palavras e pesos = 'car':-0.5782173763344238, 'apple':0.21367629720759243, 'computer':0.20986568410375048, 'dell':0.20959380826735904, 'pc':0.1982504755638439, 'system':0.15052651634809805, 'imac':0.1489304248040748, 'software':0.12790345097756017, 'applications':0.12374489912787319, 'engine':-0.11871518286481182, 'mac':0.1131171172979721, 'photos':0.10815885272371786, 'service':0.10206437995725846, 'seat':-0.10155197072026009, 'order':0.09990364164997309\n",
      "\n",
      "Topico: Computers -> Palavras e pesos = 'dell':-0.2965282681720602, 'system':-0.26850333147150784, 'song':0.22929628399032978, 'track':0.22637394367883598, 'lyrics':0.18644897906237126, 'room':0.17786643360022872, 'album':0.1512648092111035, 'movie':0.14730166790297694, 'time':0.1375943872418, 'customer':-0.1370803723769807, 'book':0.12713741846721857, 'hotel':0.12378573545083543, 'software':-0.12125676304035408, 'thing':0.11494886925858647, 'film':0.11453839340127586\n",
      "\n",
      "Topico: Computers -> Palavras e pesos = 'dell':0.31616022290367196, 'apple':-0.2752258241842776, 'system':0.2714175009126818, 'pc':-0.2441227288688766, 'imac':-0.21964516119276148, 'applications':-0.18921955354289724, 'mac':-0.17033865830545833, 'photos':-0.16940393411616142, 'customer':0.16934212030835694, 'track':0.1472912629823628, 'care':0.13819026966818446, 'car':-0.12417647446257181, 'lyrics':0.12258307994216923, 'iphoto':-0.11725835894409971, 'mail':-0.11695647641879978\n",
      "\n",
      "Topico: Hotels -> Palavras e pesos = 'room':-0.42440634628032986, 'hotel':-0.29579469601636554, 'song':0.262144774249065, 'track':0.24653406195000863, 'lyrics':0.21426378225761852, 'album':0.16613996187792676, 'resort':-0.15957103737459757, 'rooms':-0.1532713838949662, 'disney':-0.1437968425886, 'steel':-0.12019949199481893, 'service':-0.11905126274404465, 'hip':0.10756383474145821, 'food':-0.10632136239356811, 'pool':-0.10548572256811958, 'neptunes':0.10524637247836342\n",
      "\n",
      "Topico: Phones -> Palavras e pesos = 'phone':-0.7610069766309998, 'phones':-0.18782529492671637, 'base':-0.15997507763536417, 'cordless':-0.15871533304981417, 'battery':-0.14005021207105126, 'unit':-0.13128802213754862, 'room':0.1242702932039932, 'dell':0.11985525543948822, 'caller':-0.11439809301931861, 'station':-0.1137717967612571, 'handsets':-0.09184675549846644, 'i':-0.08805629311340049, 'number':-0.08660955320033019, 'hotel':0.08306336449501907, 'buttons':-0.08222298300007484\n",
      "\n",
      "Topico: Cookware -> Palavras e pesos = 'steel':-0.42188161661470425, 'stainless':-0.3364146829317717, 'clad':-0.29081183403028693, 'room':0.2636687476553664, 'fry':-0.2617219599262324, 'pans':-0.23810177162417775, 'pan':-0.22481618320327468, 'hotel':0.2052993572696979, 'cookware':-0.17028106311692928, 'heat':-0.10857808062829204, 'resort':0.10414670512408795, 'film':-0.10322216014486323, 'rooms':0.10070284857394417, 'movie':-0.09378200313498831, 'disney':0.08942310764027164\n",
      "\n",
      "Topico: Movies -> Palavras e pesos = 'movie':0.41562914651276384, 'film':0.38035448750124445, 'book':0.23941057471610924, 'story':0.19528728127831457, 'plot':0.17842319617946797, 'steel':-0.17368400852734753, 'stainless':-0.14472310780545242, 'song':-0.13629581276050404, 'track':-0.1309047126078795, 'details':0.12695227044512566, 'character':0.12685866393698383, 'room':-0.12516062589532984, 'clad':-0.12505665955723047, 'lyrics':-0.12061471292726016, 'fry':-0.11398943315578884\n",
      "\n",
      "\n",
      "LDA - Latent Dirichlet Allocation\n",
      "Coherence: 0.6622849195244899\n",
      "\n",
      "\n",
      "Topico: Music -> Palavras e pesos = 'song':0.011199852, 'album':0.01059169, 'neptunes':0.008920995, 'track':0.007797521, 'lyrics':0.006998908, 'music':0.0058472455, 'stars':0.0055346196, 'time':0.005137023, 'money':0.0050032022, 'life':0.0049983836, 'story':0.0049099834, 'thing':0.00421956, 'book':0.004075456, 'rating':0.004022148, 'hip':0.0036942835\n",
      "\n",
      "Topico: Cookware -> Palavras e pesos = 'pans':0.020306934, 'steel':0.019048752, 'pan':0.018634377, 'stainless':0.013616279, 'clad':0.012570996, 'cookware':0.012152815, 'heat':0.011496131, 'food':0.009501186, 'pots':0.009016566, 'piece':0.0075074625, 'pot':0.007070596, 'use':0.0070361383, 'fry':0.00671673, 'aluminum':0.006707643, 'something':0.0066712056\n",
      "\n",
      "Topico: Cars -> Palavras e pesos = 'car':0.0418081, 'engine':0.011572432, 'cars':0.009183024, 'power':0.008668546, 'seat':0.007944246, 'seats':0.0073062177, 'vehicle':0.006852628, 'road':0.00607963, 'ford':0.006020101, 'time':0.0058935317, 'book':0.005846459, 'system':0.0056119137, 'wheel':0.0045600478, 'price':0.0044546793, 'speed':0.004416921\n",
      "\n",
      "Topico: Movies -> Palavras e pesos = 'movie':0.03197521, 'film':0.019269984, 'story':0.013594738, 'plot':0.0124914395, 'details':0.0095946295, 'character':0.0072239344, 'children':0.0071664555, 'characters':0.0067232437, 'cat':0.0066392417, 'life':0.006376937, 'kids':0.006111716, 'something':0.005925799, 'house':0.005760115, 'year':0.0056869346, 'opinion':0.005562167\n",
      "\n",
      "Topico: Music -> Palavras e pesos = 'track':0.008756394, 'hop':0.008074277, 'pop':0.008009522, 'hip':0.0077380347, 'lyrics':0.0074903104, 'corn':0.0067542503, 'time':0.0063122665, 'way':0.005100994, 'production':0.0048137438, 'album':0.0045385147, 'stars':0.0045125834, 'bass':0.004493799, 'zion':0.0038958646, 'life':0.0038690837, 'battle':0.0038175222\n",
      "\n",
      "Topico: Music -> Palavras e pesos = 'song':0.017253436, 'track':0.01513606, 'album':0.01147331, 'lyrics':0.011224824, 'songs':0.009969863, 'hip':0.009352905, 'hop':0.009150412, 'rap':0.00856218, 'production':0.0074477955, 'music':0.006529561, 'chorus':0.006283408, 'time':0.0055762446, 'murphy':0.005050399, 'cd':0.00496335, 'tracks':0.004650256\n",
      "\n",
      "Topico: Hotels -> Palavras e pesos = 'room':0.025736853, 'hotel':0.021530086, 'book':0.014226639, 'resort':0.010458539, 'time':0.009574066, 'rooms':0.009516084, 'disney':0.0089035295, 'pool':0.007842267, 'service':0.006801374, 'night':0.005987586, 'area':0.0059856772, 'place':0.005290086, 'beach':0.0051558428, 'food':0.0049971184, 'water':0.004770975\n",
      "\n",
      "Topico: Computers -> Palavras e pesos = 'phone':0.02372687, 'computer':0.01870099, 'system':0.016022492, 'apple':0.013940589, 'machine':0.0100851245, 'pc':0.007862501, 'dell':0.0072714863, 'phones':0.0065959706, 'software':0.0063426793, 'cd':0.0063207042, 'drive':0.006139834, 'battery':0.0059189536, 'memory':0.0058857244, 'time':0.0055574444, 'dvd':0.0054182215\n",
      "\n",
      "\n",
      "HDP - Hierarchical Dirichlet Process\n",
      "Coherence: 0.5176999639186435\n",
      "\n",
      "\n",
      "Topico: Computers -> Palavras e pesos = 'car':0.006508896355017985, 'dell':0.004865793028997235, 'system':0.004285194720162955, 'customer':0.0030039222403695867, 'drive':0.0029863891429807846, 'power':0.002573225347635337, 'care':0.002564470887927142, 'focus':0.00254851736467395, 'order':0.002425167597975723, 'software':0.0024162587788528777, 'performance':0.0023896508241700067, 'cd':0.0022658749634552637, 'engine':0.002008165874300873, 'keyboard':0.0019088953237120093, 'time':0.001707013822650819\n",
      "\n",
      "Topico: Computers -> Palavras e pesos = 'apple':0.0052784996209689124, 'pc':0.004852431795780676, 'imac':0.003693282968760959, 'applications':0.003136012630447664, 'photos':0.0029387170853734565, 'mail':0.0029346865055564436, 'mac':0.002766061800464511, 'computer':0.002637690207917219, 'iphoto':0.0024521075772450953, 'button':0.0022563179189176545, 'service':0.0020636499006356107, 'page':0.0019466761218683145, 'music':0.0019288305984071555, 'dvd':0.0018566815728473197, 'phone':0.0017963065814591672\n",
      "\n",
      "Topico: Computers -> Palavras e pesos = 'phone':0.0038937405752713637, 'computer':0.002644456616950482, 'machine':0.0023758878627764828, 'apple':0.0022944387993691783, 'hip':0.001934617633061667, 'track':0.0017058465028101143, 'hop':0.0016548093171893147, 'life':0.0016538323361134871, 'system':0.0016462622086971961, 'movie':0.0016152943579007778, 'people':0.001520574610506333, 'film':0.001491076737342743, 'something':0.0014411167380276432, 'imac':0.0013992978504973367, 'calendar':0.0012572210643192782\n",
      "\n",
      "Topico: Cars -> Palavras e pesos = 'car':0.006135108936787488, 'vehicle':0.003967477605223201, 'seat':0.002717552300245723, 'taurus':0.002542182799381379, 'engine':0.0023404216527950464, 'ford':0.0019898857570031328, 'road':0.0018577628076716314, 'control':0.0017580153979512593, 'cars':0.0016100324267313418, 'system':0.0015625027801500037, 'seats':0.0015160238531316274, 'room':0.0014047702654336894, 'line':0.0013907500864462356, 'time':0.0013038077073073801, 'quality':0.0012955576205354355\n",
      "\n",
      "Topico: Hotels -> Palavras e pesos = 'room':0.004019864148690131, 'hotel':0.0024992654472690322, 'disney':0.002301956926874523, 'house':0.0018139065982023283, 'people':0.0017667617166301595, 'world':0.0014211327278394366, 'place':0.001352876355174995, 'night':0.001346740486089152, 'rooms':0.0012728943048325163, 'area':0.0012616700022366968, 'water':0.0012198694915232825, 'resort':0.0011701704507057, 'money':0.0011653823966005187, 'cookware':0.0011643713259833688, 'theme':0.0011455819965587052\n",
      "\n",
      "Topico: Music -> Palavras e pesos = 'neptunes':0.0029216184144163107, 'track':0.002483152302950796, 'lyrics':0.002103818526342142, 'time':0.0018711472788060872, 'song':0.0016733491235421457, 'car':0.0016267475829562729, 'album':0.0015548187439867389, 'star':0.001554289181724624, 'stars':0.0014259376814978915, 'production':0.0013233028210501165, 'music':0.001244565628185089, 'book':0.00122635386110212, 'voice':0.0011921948334672823, 'rock':0.001139539057134985, 'beats':0.0010223755497142082\n",
      "\n",
      "Topico: Cars -> Palavras e pesos = 'car':0.008277145072011563, 'power':0.001652488875772635, 'engine':0.0016249323045432614, 'cars':0.0014431379949686868, 'system':0.0012490615785687197, 'seats':0.001215648990724879, 'price':0.0011257445513307635, 'fastr':0.0010820519601117335, 'mirror':0.0010550983414766943, 'wood':0.0010263132260237477, 'drive':0.001012777871004006, 'type':0.0009949578238304941, 'dealer':0.0009946930752912327, 'money':0.0009872305525707222, 'memory':0.0009836506788532251\n",
      "\n",
      "Topico: Cookware -> Palavras e pesos = 'steel':0.004829907575906197, 'stainless':0.00414815720694865, 'phone':0.003922952864369018, 'fry':0.003609237876933174, 'clad':0.0032823693905985546, 'pans':0.002720559860729922, 'cookware':0.001970959235464804, 'pan':0.0017113040984165335, 'food':0.0016388701518152806, 'battery':0.001527701195194652, 'purchase':0.001476594390415736, 'time':0.0014248677079966197, 'price':0.001191865547313734, 'someone':0.0011416687865881201, 'use':0.0011022419812342105\n",
      "\n"
     ]
    },
    {
     "data": {
      "image/png": "[encoded data removed]",
      "text/plain": [
       "<Figure size 432x288 with 1 Axes>"
      ]
     },
     "metadata": {
      "needs_background": "light"
     },
     "output_type": "display_data"
    }
   ],
   "source": [
    "train_list_lowercase_pos_chunking = [data_treatment(review, True, False, True, True).split() for review in reviews[10:]]\n",
    "lowercase_pos_chunking_dictionary = run_models(train_list_lowercase_pos_chunking, \"Com Minúsculas, POS e Chunking\")"
   ]
  },
  {
   "cell_type": "markdown",
   "metadata": {},
   "source": [
    "### Com Minúsculas Lemmatization, POS e Chunking"
   ]
  },
  {
   "cell_type": "code",
   "execution_count": 54,
   "metadata": {},
   "outputs": [
    {
     "name": "stdout",
     "output_type": "stream",
     "text": [
      "Com Minúsculas, Lemmatization, POS e Chunking\n",
      "\n",
      "LSA - Latent Semantic Indexing\n",
      "Coherence: 0.3483142282085022\n",
      "\n",
      "\n",
      "Topico: Cars -> Palavras e pesos = 'car':0.5258580427605867, 'system':0.21511120832803482, 'dell':0.15786394053355843, 'seat':0.15551734842905468, 'time':0.15308169653937068, 'computer':0.14528840157607403, 'cd':0.14101402044478945, 'thing':0.12409114031428825, 'apple':0.11855618695199015, 'drive':0.11196995394267482, 'power':0.10446296954835158, 'engine':0.10284302059590725, 'pc':0.10128066550693778, 'room':0.09889525483018964, 'imac':0.09575712608340378\n",
      "\n",
      "Topico: Computers -> Palavras e pesos = 'car':0.5802549216650253, 'dell':-0.23006402046478555, 'computer':-0.1900045184773436, 'apple':-0.18721062875789546, 'seat':0.1767917918944849, 'pc':-0.17161429042774018, 'imac':-0.1636119578721153, 'mac':-0.15337339259110755, 'application':-0.14112713679163694, 'system':-0.13980261732873478, 'engine':0.11771893583920072, 'service':-0.11708264117906686, 'photo':-0.11099440609274193, 'mail':-0.1036119611007595, 'software':-0.09913069413347614\n",
      "\n",
      "Topico: Computers -> Palavras e pesos = 'song':0.30739029572842164, 'track':0.2898648212396822, 'dell':-0.2718082202123554, 'system':-0.2222879718742054, 'room':0.22172684566907833, 'album':0.1810513831975682, 'time':0.14445138277884373, 'hotel':0.1391622527005815, 'star':0.13911591694489556, 'thing':0.13771410243149043, 'movie':0.1305836905896191, 'computer':-0.12135409255781185, 'rap':0.11362496427949802, 'film':0.11132803223275729, 'car':-0.10812167310405438\n",
      "\n",
      "Topico: Computers -> Palavras e pesos = 'room':-0.39796904545085704, 'dell':-0.27000940819489855, 'hotel':-0.25839594477983824, 'system':-0.21798475129977798, 'imac':0.19846798838805316, 'mac':0.1901324587298654, 'apple':0.18508878648741173, 'application':0.16085378184847307, 'pc':0.1562217723732195, 'phone':-0.1468430130763139, 'resort':-0.14669152711011993, 'song':0.14571831592063345, 'photo':0.1400165113197382, 'car':0.12750205733383807, 'disney':-0.12496603437980937\n",
      "\n",
      "Topico: Computers -> Palavras e pesos = 'room':-0.3117577849353756, 'song':0.29354456237650955, 'track':0.27877705551316667, 'dell':0.2780392446321366, 'system':0.2390219359080094, 'hotel':-0.19309133033012918, 'imac':-0.15804746795819527, 'album':0.15665366305714004, 'mac':-0.15361685356890548, 'apple':-0.13836447445186012, 'service':-0.13581992475940483, 'application':-0.12543296041424992, 'pc':-0.1202730887448312, 'rap':0.11485497712249274, 'phone':0.11281103744203956\n",
      "\n",
      "Topico: Phones -> Palavras e pesos = 'phone':0.7676354861342868, 'dell':-0.1829011786030297, 'battery':0.16696105620596854, 'handset':0.15801324549536172, 'feature':0.15650911007726584, 'cordless':0.14251558160759728, 'unit':0.1288916502640315, 'base':0.1276092140910279, 'caller':0.11200507229239862, 'button':0.1110465854926809, 'room':-0.10597141152582971, 'call':0.09729623357623521, 'song':-0.09087133253908108, 'track':-0.08803277017082398, 'number':0.08612761486153793\n",
      "\n",
      "Topico: Movies -> Palavras e pesos = 'film':0.3584490281199959, 'movie':0.35306857000062025, 'room':-0.23701605676665333, 'book':0.22042615356819378, 'song':-0.18535886575368637, 'pan':0.17834239948698113, 'character':0.17273834051629575, 'story':0.17217043651092187, 'hotel':-0.17208827770522667, 'plot':0.15507390447977565, 'stainless':0.1352237975088305, 'steel':0.13000633559205876, 'track':-0.12881457531559815, 'clad':0.11423449030958978, 'phone':-0.107825774577237\n",
      "\n",
      "Topico: Cookware -> Palavras e pesos = 'pan':-0.4454092642550471, 'stainless':-0.3383165261589421, 'steel':-0.3149638806587803, 'clad':-0.28756853307671154, 'movie':0.21411364087978033, 'fry':-0.20339790784121115, 'film':0.19834137340264898, 'cookware':-0.1547699363464683, 'piece':-0.15376424164668703, 'book':0.14707937371001026, 'heat':-0.1434313424855265, 'pot':-0.12866137854729173, 'food':-0.1284659662495607, 'sauce':-0.10683698269898888, 'character':0.10042197768883653\n",
      "\n",
      "\n",
      "LDA - Latent Dirichlet Allocation\n",
      "Coherence: 0.5617696994133681\n",
      "\n",
      "\n",
      "Topico: Music -> Palavras e pesos = 'song':0.021847587, 'track':0.021299638, 'pan':0.016336871, 'album':0.015141275, 'hop':0.009686076, 'hip':0.009107183, 'rap':0.008893886, 'stainless':0.007734398, 'steel':0.0075899074, 'pot':0.0074863313, 'time':0.0072869677, 'thing':0.0068012807, 'cookware':0.00643373, 'star':0.006355542, 'clad':0.0062941937\n",
      "\n",
      "Topico: Phones -> Palavras e pesos = 'phone':0.06578079, 'system':0.016287634, 'feature':0.0130955465, 'battery':0.012482289, 'handset':0.012141935, 'base':0.010702667, 'cordless':0.009344933, 'button':0.009331683, 'unit':0.009263329, 'call':0.008644416, 'message':0.0084276805, 'use':0.008043976, 'caller':0.00785364, 'line':0.0077589797, 'quality':0.0075341733\n",
      "\n",
      "Topico: Hotels -> Palavras e pesos = 'room':0.050814312, 'hotel':0.039706293, 'resort':0.018802332, 'pool':0.01683541, 'disney':0.01584506, 'service':0.012823897, 'beach':0.012154132, 'time':0.010722062, 'area':0.010464282, 'place':0.009016836, 'night':0.008335237, 'water':0.007996866, 'food':0.0072054686, 'restaurant':0.0071842507, 'lobby':0.006961451\n",
      "\n",
      "Topico: Books -> Palavras e pesos = 'book':0.029402295, 'movie':0.024269752, 'story':0.015965816, 'film':0.014748076, 'character':0.011398526, 'plot':0.010904496, 'time':0.009910831, 'life':0.007852339, 'way':0.007067607, 'thing':0.0067518926, 'detail':0.0065437364, 'year':0.006509254, 'family':0.0060798563, 'people':0.005437415, 'grisham':0.0053769625\n",
      "\n",
      "Topico: Movies -> Palavras e pesos = 'cat':0.02021784, 'movie':0.017534155, 'murphy':0.011207425, 'thing':0.010959979, 'myers':0.009467191, 'child':0.009245107, 'film':0.008722314, 'story':0.008446226, 'plot':0.0068189534, 'lee':0.0063248244, 'kid':0.005897405, 'character':0.0056990143, 'fun':0.005486692, 'grinch':0.0052787135, 'seuss':0.0052775606\n",
      "\n",
      "Topico: Movies -> Palavras e pesos = 'pop':0.012063319, 'casino':0.009354865, 'popper':0.008375656, 'corn':0.0083357915, 'time':0.00805467, 'money':0.00592608, 'oil':0.005912521, 'baby':0.0057145883, 'riviera':0.005354405, 'whirley':0.005282333, 'work':0.004233866, 'nugget':0.004217536, 'show':0.0039806915, 'thing':0.0037649984, 'star':0.0035441255\n",
      "\n",
      "Topico: Cars -> Palavras e pesos = 'car':0.04920152, 'seat':0.014883597, 'engine':0.011933061, 'power':0.00874356, 'vehicle':0.0081274435, 'road':0.0075139315, 'ford':0.007287598, 'model':0.0072235344, 'wheel':0.006949124, 'speed':0.006942543, 'time':0.0060710674, 'control':0.0059994375, 'system':0.0058955844, 'drive':0.005539335, 'focus':0.005509841\n",
      "\n",
      "Topico: Computers -> Palavras e pesos = 'computer':0.0252718, 'apple':0.017130522, 'system':0.012823664, 'dell':0.011425644, 'cd':0.010981146, 'pc':0.009822365, 'machine':0.009219527, 'drive':0.008525629, 'mac':0.008415697, 'software':0.007120593, 'imac':0.0070205736, 'memory':0.006924998, 'dvd':0.0064578927, 'problem':0.0063285185, 'work':0.006313404\n",
      "\n",
      "\n",
      "HDP - Hierarchical Dirichlet Process\n",
      "Coherence: 0.46186304370511766\n",
      "\n",
      "\n",
      "Topico: Computers -> Palavras e pesos = 'car':0.010647616889767208, 'system':0.005457879063518661, 'dell':0.005341013527094844, 'cd':0.004513852649357207, 'computer':0.003997044900649756, 'problem':0.003796371014525975, 'machine':0.0037176048305917085, 'time':0.003623350854394458, 'drive':0.003414254495919915, 'order':0.0032805133096382314, 'software':0.0030446347919706614, 'customer':0.002856931312887583, 'seat':0.0028484248854630835, 'power':0.002847390120694439, 'keyboard':0.0027283909558617385\n",
      "\n",
      "Topico: Computers -> Palavras e pesos = 'imac':0.004794895523484145, 'apple':0.0037901555389488386, 'mac':0.0037700929283196647, 'song':0.0037379304642197733, 'application':0.0036494039181145374, 'pc':0.0035742040348352064, 'computer':0.0032503561018339547, 'thing':0.003057151914316563, 'photo':0.0028958619570469846, 'dvd':0.0027866455434123324, 'service':0.0027392905994165213, 'room':0.0024929164151966574, 'time':0.0024201735444202483, 'hotel':0.0023445032231475317, 'iphoto':0.0022504927883491774\n",
      "\n",
      "Topico: Cookware -> Palavras e pesos = 'pan':0.004979446125108701, 'stainless':0.004733302769306183, 'steel':0.0044520145319507706, 'time':0.004418099995262084, 'resort':0.004066589778570625, 'room':0.003677699315977163, 'food':0.003552703275299905, 'fry':0.0034707099211152446, 'clad':0.00342197722556996, 'piece':0.0026681810481251314, 'cookware':0.002613394072485841, 'disney':0.0023530908472644703, 'pot':0.0021796713793809943, 'heat':0.0021509297964414746, 'use':0.0020120578645631635\n",
      "\n",
      "Topico: Cars -> Palavras e pesos = 'car':0.002733567244574801, 'film':0.0024789086518550063, 'time':0.0022579500085732167, 'book':0.0021704196002462306, 'ford':0.0019453451815966338, 'focus':0.0017444809875992457, 'pop':0.0016216200581317386, 'thing':0.0015289142838188503, 'corn':0.0015091124461413332, 'christmas':0.0015074678039048934, 'door':0.001477852459441017, 'room':0.0014660803871570933, 'taurus':0.0014248179700655657, 'month':0.0013397827481513055, 'problem':0.001326527198677182\n",
      "\n",
      "Topico: Cars -> Palavras e pesos = 'car':0.0044218624412003015, 'vehicle':0.0024021443764531054, 'wheel':0.001788538723755114, 'engine':0.0017037821167589819, 'thing':0.0016262262933241052, 'movie':0.0015927041825360348, 'lot':0.001567079253910569, 'rattle':0.0014975512544850935, 'year':0.0013699138584917635, 'line':0.0013499893643995015, 'family':0.0013356645793254655, 'time':0.0013031100556128586, 'character':0.0012881652362763795, 'story':0.001243444179638198, 'buddy':0.0012412086382913607\n",
      "\n",
      "Topico: Music -> Palavras e pesos = 'song':0.004337404925919527, 'track':0.0038566674986901285, 'star':0.00308459970725146, 'sound':0.0022572309435905753, 'album':0.002174391786465454, 'nothing':0.0020620450740481467, 'time':0.001798716943096968, 'artist':0.0016420185314903076, 'clipse':0.0016338638835489431, 'music':0.0015440178943386634, 'rap':0.0015163408583613758, 'rock':0.0014185338078913506, 'tune':0.0013102209230120656, 'voice':0.001265104216274363, 'movie':0.001244050782705156\n",
      "\n",
      "Topico: Cars -> Palavras e pesos = 'car':0.004236009428993115, 'xterra':0.002218607234313611, 'road':0.0018567704219873934, 'hotel':0.0017466640121104637, 'phone':0.001518182715043182, 'model':0.001496578502772375, 'cd':0.0014591326726028147, 'power':0.001429559033547378, 'message':0.001388786835427521, 'engine':0.0013831187534114765, 'property':0.0013022085153157237, 'seat':0.0012792662401349458, 'service':0.0012082613583652363, 'door':0.0011906818633968508, 'cylinder':0.0011865036360954736\n",
      "\n",
      "Topico: Cars -> Palavras e pesos = 'car':0.005615168933886058, 'seat':0.0036009060928594598, 'engine':0.002045884873205471, 'family':0.0019397526609214767, 'model':0.0018068558121560215, 'lancer':0.0017271032459579227, 'taurus':0.0016453024720842508, 'ford':0.001561873271133472, 'power':0.0015106047705712874, 'room':0.0015065596080973665, 'road':0.0014520656853829275, 'vehicle':0.0013798544116413243, 'mustang':0.0012664365379023823, 'passenger':0.0012603390679441074, 'trunk':0.0012451777079762593\n",
      "\n"
     ]
    },
    {
     "data": {
      "image/png": "[encoded data removed]",
      "text/plain": [
       "<Figure size 432x288 with 1 Axes>"
      ]
     },
     "metadata": {
      "needs_background": "light"
     },
     "output_type": "display_data"
    }
   ],
   "source": [
    "train_list_lowercase_lemmatization_pos_chunking = [data_treatment(review, True, True, True, True).split() for review in reviews[10:]]\n",
    "lowercase_lemmatization_pos_chunking_dictionary = run_models(train_list_lowercase_lemmatization_pos_chunking, \"Com Minúsculas, Lemmatization, POS e Chunking\")"
   ]
  },
  {
   "cell_type": "markdown",
   "metadata": {},
   "source": [
    "# Número ideal de tópicos\n",
    "\n",
    "Funções para descobrir qual é o número ideal de tópicos por modelo."
   ]
  },
  {
   "cell_type": "markdown",
   "metadata": {},
   "source": [
    "Aplicação do tratamento com POS tagging porque é o que apresenta melhores resultados."
   ]
  },
  {
   "cell_type": "code",
   "execution_count": 55,
   "metadata": {},
   "outputs": [],
   "source": [
    "def compute_coherence_values(model_type, dictionary, doc_term_matrix, texts, limit, start=2, step=3):\n",
    "    coherence_values = []\n",
    "    model_list = []\n",
    "    for num_topics in range(start, limit, step):\n",
    "        if model_type == 'lsa':\n",
    "            lsamodel = create_lsa(doc_term_matrix, dictionary, num_topics)\n",
    "            model_topics = lsamodel.show_topics(num_topics=num_topics, num_words=num_of_words, formatted=False)\n",
    "        if model_type == 'lda':\n",
    "            ldamodel = create_lda(doc_term_matrix, dictionary, num_topics)\n",
    "            model_topics = ldamodel.show_topics(num_topics=num_topics, num_words=num_of_words, formatted=False)\n",
    "        if model_type == 'hdp':\n",
    "            hdpmodel = HdpModel(doc_term_matrix, dictionary)\n",
    "            model_topics = hdpmodel.show_topics(num_topics=num_topics, num_words=num_of_words, formatted=False)\n",
    "        model_list.append(model)\n",
    "        topics_list = []\n",
    "        for topicid, topic in model_topics:\n",
    "            words_per_topic = []\n",
    "            for word, weight in topic:\n",
    "                words_per_topic.append(word)\n",
    "            topics_list.append(words_per_topic)\n",
    "        coherencemodel = CoherenceModel(model=model, topics=topics_list, texts=train_list, dictionary=dictionary, coherence='c_v').get_coherence()\n",
    "        coherence_values.append(coherencemodel)\n",
    "\n",
    "    return model_list, coherence_values\n",
    "\n",
    "\n",
    "def optimal_number_of_topics(coherence_values, model):\n",
    "    limit=40; start=2; step=6;\n",
    "    x = range(start, limit, step)\n",
    "    plt.plot(x, coherence_values)\n",
    "    plt.xlabel(\"Num Topics\")\n",
    "    plt.ylabel(\"Coherence score\")\n",
    "    plt.legend((\"coherence_values\"), loc='best')\n",
    "    plt.title(model)\n",
    "    plt.show()\n",
    "    \n",
    "    for m, cv in zip(x, coherence_values):\n",
    "        print(\"Numero de Topicos {} tem Coherence: {}\".format(m, round(cv, 4)))"
   ]
  },
  {
   "cell_type": "markdown",
   "metadata": {},
   "source": [
    "### LSA"
   ]
  },
  {
   "cell_type": "code",
   "execution_count": 56,
   "metadata": {},
   "outputs": [
    {
     "data": {
      "image/png": "[encoded data removed]",
      "text/plain": [
       "<Figure size 432x288 with 1 Axes>"
      ]
     },
     "metadata": {
      "needs_background": "light"
     },
     "output_type": "display_data"
    },
    {
     "name": "stdout",
     "output_type": "stream",
     "text": [
      "Numero de Topicos 2 tem Coherence: 0.3839\n",
      "Numero de Topicos 8 tem Coherence: 0.3324\n",
      "Numero de Topicos 14 tem Coherence: 0.3558\n",
      "Numero de Topicos 20 tem Coherence: 0.3638\n",
      "Numero de Topicos 26 tem Coherence: 0.3688\n",
      "Numero de Topicos 32 tem Coherence: 0.364\n",
      "Numero de Topicos 38 tem Coherence: 0.3703\n"
     ]
    }
   ],
   "source": [
    "model = 'LSA'\n",
    "dictionary = corpora.Dictionary(train_list_lowercase_pos)\n",
    "doc_term_matrix = [dictionary.doc2bow(review) for review in train_list_lowercase_pos]\n",
    "model_list, coherence_values = compute_coherence_values(model.lower(), dictionary=dictionary, doc_term_matrix=doc_term_matrix, texts=train_list, start=2, limit=40, step=6)\n",
    "optimal_number_of_topics(coherence_values, model)"
   ]
  },
  {
   "cell_type": "code",
   "execution_count": 57,
   "metadata": {},
   "outputs": [
    {
     "name": "stdout",
     "output_type": "stream",
     "text": [
      "Topico: Computers -> Palavras e pesos = 'car':-0.4795226491331276, 'system':-0.20669554744183055, 'time':-0.17403809956526217, 'dell':-0.15461680302760555, 'computer':-0.1528411397455791, 'apple':-0.13875478478105338, 'cd':-0.13719678060205198, 'way':-0.12263749281554391, 'pc':-0.11700525586450708, 'power':-0.11377537853817997, 'drive':-0.11125307729191966, 'performance':-0.10386340425166084, 'engine':-0.09789165825821296, 'use':-0.09450341695548924, 'seat':-0.09363768980410193\n",
      "\n",
      "Topico: Computers -> Palavras e pesos = 'car':-0.5955613401750288, 'apple':0.2044653536452867, 'dell':0.20032660396978524, 'pc':0.1818880747208879, 'computer':0.18017982277802458, 'imac':0.13977345523626625, 'mac':0.12324516241261925, 'engine':-0.12092631092912487, 'seat':-0.11934857474212711, 'applications':0.11403234827863686, 'photos':0.11248338542524842, 'software':0.11141020503920851, 'system':0.10566390054536137, 'mail':0.10549887722756894, 'cars':-0.10333645431120153\n",
      "\n"
     ]
    },
    {
     "data": {
      "text/plain": [
       "['Computers', 'Computers']"
      ]
     },
     "execution_count": 57,
     "metadata": {},
     "output_type": "execute_result"
    }
   ],
   "source": [
    "lsamodel = create_lsa(doc_term_matrix, dictionary, 2)\n",
    "lsa_topics = lsamodel.show_topics(num_topics=2, num_words=num_of_words, formatted=False)\n",
    "view_topics(lsa_topics)"
   ]
  },
  {
   "cell_type": "markdown",
   "metadata": {},
   "source": [
    "### LDA"
   ]
  },
  {
   "cell_type": "code",
   "execution_count": 58,
   "metadata": {},
   "outputs": [
    {
     "data": {
      "image/png": "[encoded data removed]",
      "text/plain": [
       "<Figure size 432x288 with 1 Axes>"
      ]
     },
     "metadata": {
      "needs_background": "light"
     },
     "output_type": "display_data"
    },
    {
     "name": "stdout",
     "output_type": "stream",
     "text": [
      "Numero de Topicos 2 tem Coherence: 0.3375\n",
      "Numero de Topicos 8 tem Coherence: 0.6583\n",
      "Numero de Topicos 14 tem Coherence: 0.5165\n",
      "Numero de Topicos 20 tem Coherence: 0.5285\n",
      "Numero de Topicos 26 tem Coherence: 0.54\n",
      "Numero de Topicos 32 tem Coherence: 0.5192\n",
      "Numero de Topicos 38 tem Coherence: 0.5132\n"
     ]
    }
   ],
   "source": [
    "model = 'LDA'\n",
    "dictionary = corpora.Dictionary(train_list_lowercase_pos)\n",
    "doc_term_matrix = [dictionary.doc2bow(review) for review in train_list_lowercase_pos]\n",
    "model_list, coherence_values = compute_coherence_values(model.lower(), dictionary=dictionary, doc_term_matrix=doc_term_matrix, texts=train_list, start=2, limit=40, step=6)\n",
    "optimal_number_of_topics(coherence_values, model)"
   ]
  },
  {
   "cell_type": "code",
   "execution_count": 59,
   "metadata": {},
   "outputs": [
    {
     "name": "stdout",
     "output_type": "stream",
     "text": [
      "Topico: Cars -> Palavras e pesos = 'car':0.041239176, 'engine':0.010964752, 'cars':0.008893853, 'power':0.008667268, 'seat':0.008132251, 'seats':0.0077452115, 'vehicle':0.0064213076, 'ford':0.00617609, 'road':0.0061694887, 'focus':0.0054155164, 'wheel':0.005123854, 'taurus':0.0050483225, 'system':0.0048553697, 'time':0.004824227, 'speed':0.004720678\n",
      "\n",
      "Topico: Books -> Palavras e pesos = 'book':0.031440724, 'story':0.012767965, 'time':0.012019152, 'resort':0.008322481, 'books':0.0072577465, 'grisham':0.0071336925, 'family':0.00700472, 'disney':0.0061073466, 'cotton':0.005135981, 'character':0.004958463, 'rooms':0.004900704, 'plot':0.0048716348, 'world':0.004802306, 'room':0.004783183, 'beach':0.004729179\n",
      "\n",
      "Topico: Music -> Palavras e pesos = 'song':0.010622037, 'time':0.009166695, 'phone':0.0069986116, 'hotel':0.0068597533, 'island':0.0063517233, 'songs':0.0062277205, 'room':0.005716165, 'rap':0.0056520165, 'cd':0.0054927003, 'cam':0.005300447, 'club':0.0045411834, 'treasure':0.0043430943, 'lyrics':0.004247014, 'water':0.0041020825, 'music':0.0038924762\n",
      "\n",
      "Topico: Hotels -> Palavras e pesos = 'room':0.02466398, 'hotel':0.021657199, 'night':0.011403345, 'casino':0.008128861, 'pool':0.00748554, 'area':0.0074321977, 'resort':0.006646353, 'time':0.006537229, 'service':0.006438208, 'stay':0.0063011227, 'disney':0.0057772496, 'food':0.0055585266, 'rooms':0.005104633, 'day':0.004961777, 'lobby':0.0046794745\n",
      "\n",
      "Topico: Movies -> Palavras e pesos = 'movie':0.029436499, 'film':0.017019413, 'plot':0.00969774, 'story':0.009299877, 'cat':0.007530395, 'way':0.00752264, 'details':0.0074401787, 'year':0.0060947887, 'time':0.0060635014, 'kids':0.0058763525, 'children':0.005274094, 'character':0.0051401504, 'santa':0.004566227, 'characters':0.004499405, 'opinion':0.004489174\n",
      "\n",
      "Topico: Music -> Palavras e pesos = 'track':0.01627557, 'album':0.013688065, 'lyrics':0.011268523, 'song':0.0109214, 'hop':0.009745068, 'beat':0.009329277, 'hip':0.009107298, 'production':0.0066149435, 'time':0.006158135, 'music':0.0055650664, 'way':0.005095686, 'rap':0.0049517807, 'stars':0.0046840673, 'songs':0.0045927996, 'life':0.00443192\n",
      "\n",
      "Topico: Computers -> Palavras e pesos = 'computer':0.015254367, 'apple':0.011504425, 'use':0.007680019, 'pan':0.0076543977, 'system':0.0074747656, 'pc':0.0073580327, 'pans':0.007286497, 'machine':0.006975579, 'dell':0.0067743803, 'time':0.006532363, 'cookware':0.0059042326, 'steel':0.005613702, 'drive':0.005606953, 'imac':0.0054106233, 'software':0.00521955\n",
      "\n",
      "Topico: Phones -> Palavras e pesos = 'phone':0.040056918, 'system':0.012575224, 'room':0.011493839, 'phones':0.010682348, 'hotel':0.009426003, 'base':0.007855223, 'handsets':0.0073420913, 'handset':0.007080395, 'use':0.0069851307, 'time':0.0067734844, 'quality':0.006738232, 'cordless':0.0061134393, 'call':0.0060868096, 'unit':0.005963966, 'features':0.005824969\n",
      "\n"
     ]
    },
    {
     "data": {
      "text/plain": [
       "['Cars', 'Books', 'Music', 'Hotels', 'Movies', 'Music', 'Computers', 'Phones']"
      ]
     },
     "execution_count": 59,
     "metadata": {},
     "output_type": "execute_result"
    }
   ],
   "source": [
    "ldamodel = create_lda(doc_term_matrix, dictionary, 8)\n",
    "lda_topics = ldamodel.show_topics(num_topics=8, num_words=num_of_words, formatted=False)\n",
    "view_topics(lda_topics)"
   ]
  },
  {
   "cell_type": "markdown",
   "metadata": {},
   "source": [
    "### HDP"
   ]
  },
  {
   "cell_type": "code",
   "execution_count": 60,
   "metadata": {},
   "outputs": [
    {
     "data": {
      "image/png": "[encoded data removed]",
      "text/plain": [
       "<Figure size 432x288 with 1 Axes>"
      ]
     },
     "metadata": {
      "needs_background": "light"
     },
     "output_type": "display_data"
    },
    {
     "name": "stdout",
     "output_type": "stream",
     "text": [
      "Numero de Topicos 2 tem Coherence: 0.4528\n",
      "Numero de Topicos 8 tem Coherence: 0.4617\n",
      "Numero de Topicos 14 tem Coherence: 0.5288\n",
      "Numero de Topicos 20 tem Coherence: 0.4861\n",
      "Numero de Topicos 26 tem Coherence: 0.4294\n",
      "Numero de Topicos 32 tem Coherence: 0.4589\n",
      "Numero de Topicos 38 tem Coherence: 0.4801\n"
     ]
    }
   ],
   "source": [
    "model = 'HDP'\n",
    "dictionary = corpora.Dictionary(train_list_lowercase_pos)\n",
    "doc_term_matrix = [dictionary.doc2bow(review) for review in train_list_lowercase_pos]\n",
    "model_list, coherence_values = compute_coherence_values(model.lower(), dictionary=dictionary, doc_term_matrix=doc_term_matrix, texts=train_list, start=2, limit=40, step=6)\n",
    "optimal_number_of_topics(coherence_values, model)"
   ]
  },
  {
   "cell_type": "code",
   "execution_count": 73,
   "metadata": {},
   "outputs": [
    {
     "name": "stdout",
     "output_type": "stream",
     "text": [
      "Topico: Music -> Palavras e pesos = 'time':0.004864555437659826, 'song':0.004857055287348898, 'track':0.004054678582860521, 'system':0.003819816890055581, 'dell':0.0037572502822938586, 'beat':0.003565703206503349, 'lyrics':0.003278792081371334, 'story':0.0029038911285578853, 'something':0.0024493923512440693, 'cookware':0.002361756796195694, 'use':0.0023346182978300446, 'chorus':0.0022466772022904573, 'movie':0.0021707845285119233, 'way':0.0021491090773650945, 'pans':0.0021125666232719126\n",
      "\n",
      "Topico: Hotels -> Palavras e pesos = 'resort':0.00463132379963495, 'time':0.004391242478642095, 'room':0.004160100930892722, 'dell':0.0027668450767007837, 'computer':0.002718652523936307, 'disney':0.002708567891540689, 'day':0.0026335729408258537, 'car':0.0025699513178393412, 'rooms':0.0024472048376154246, 'people':0.0023661331666094748, 'service':0.0022740969558429965, 'system':0.002087976356358617, 'tea':0.0020849485038994258, 'year':0.0020218547664561768, 'world':0.001974462822222209\n",
      "\n",
      "Topico: Cars -> Palavras e pesos = 'car':0.013625588433407209, 'engine':0.003856904060469932, 'power':0.00383370981187394, 'drive':0.002933541379184249, 'seat':0.002815171813909415, 'seats':0.002550111313098938, 'focus':0.002545501468710522, 'vehicle':0.0024576492405276053, 'mustang':0.002435928923547935, 'phone':0.0024239991870521576, 'cars':0.002349142825324393, 'performance':0.002290226170691296, 'wheels':0.0022628415385361855, 'wheel':0.0022362002201423343, 'road':0.0020737109926825953\n",
      "\n",
      "Topico: Computers -> Palavras e pesos = 'apple':0.006626925895909203, 'pc':0.004919070600473492, 'imac':0.003979249580692724, 'photos':0.003382236375513858, 'mac':0.0033793738111031575, 'mail':0.0032476689534676893, 'applications':0.0031263269195205405, 'computer':0.002825527489687944, 'machine':0.0027306553803055785, 'music':0.0025357339965320007, 'thing':0.002464311824145717, 'cd':0.0022047499744292797, 'page':0.0021381818340677054, 'purchase':0.002072991448727222, 'service':0.002069020231000605\n",
      "\n",
      "Topico: Cookware -> Palavras e pesos = 'steel':0.004558588433517747, 'stainless':0.004336176707078994, 'clad':0.003601602551732985, 'fry':0.0034678722659911582, 'pan':0.0029372187206573477, 'room':0.002749929191343791, 'movie':0.0023774859771255293, 'pans':0.0023624446519289284, 'way':0.0019046355346075117, 'time':0.0018799751091059475, 'hotel':0.0018576197438541745, 'cookware':0.0018377716755771545, 'food':0.0017725949057821738, 'phone':0.0016476753057943685, 'something':0.0015014057332398258\n",
      "\n",
      "Topico: Cars -> Palavras e pesos = 'movie':0.004398067686902247, 'car':0.004117609614883688, 'computer':0.0024405440119339475, 'power':0.00240571633261265, 'story':0.002364719630910432, 'apple':0.0021669077923090773, 'machine':0.0020770864125055598, 'engine':0.0017592394132073912, 'taurus':0.0017199946872934108, 'imac':0.0017043450109106742, 'cat':0.001702049782308318, 'way':0.0015228487410981666, 'fact':0.0013147227089493332, 'tl':0.0012798993899086014, 'cable':0.0012587220518660523\n",
      "\n",
      "Topico: Cars -> Palavras e pesos = 'car':0.0038406030934527323, 'xterra':0.0022944449751559973, 'vehicle':0.0014032919401178435, 'time':0.0013093659618753555, 'seats':0.0012903293222669419, 'roland':0.0012754715576796854, 'computer':0.001192579725950359, 'model':0.0011508016947854274, 'plot':0.001147375295232476, 'road':0.001143680166822623, 'market':0.0011289648449161924, 'engine':0.0011270340669139241, 'power':0.0011004149800213402, 'truck':0.0010811651374736755, 'system':0.0010219462910179865\n",
      "\n",
      "Topico: Computers -> Palavras e pesos = 'car':0.005321679144324993, 'pc':0.0015414852225136386, 'computer':0.0015300498584171318, 'use':0.0013133215274342479, 'system':0.0012551261761412635, 'focus':0.001111529934672715, 'unit':0.0010920002675657585, 'phone':0.0010883252601943654, 'cd':0.0010854833619822638, 'part':0.0010592723048269024, 'plastic':0.0010451129780089617, 'work':0.0010406354476979176, 'way':0.0010017059344213214, 'box':0.0010004107569579813, 'mph':0.0009955124597531564\n",
      "\n",
      "Topico: Phones -> Palavras e pesos = 'phone':0.005334618857899373, 'phones':0.0027012647800061618, 'year':0.0020935734312167243, 'movie':0.0019803819358919384, 'time':0.0016872904042737314, 'cordless':0.001682140635384196, 'battery':0.0015853326507837598, 'details':0.0013758355885717386, 'work':0.0013505388934977566, 'film':0.0013392138068063697, 'christmas':0.0012285682571404513, 'hours':0.0012129122513738916, 'seuss':0.0011597945970865983, 'line':0.0011015177343695912, 'pros':0.0010548090060259602\n",
      "\n",
      "Topico: Hotels -> Palavras e pesos = 'time':0.001925806972445279, 'sym':0.0018415083545923344, 'hotel':0.001607391807078262, 'machine':0.0015792236823286077, 'vaio':0.0015299408637778956, 'sony':0.0014748034500136884, 'casino':0.0014506122016905779, 'pcg':0.001306336831116323, 'notebook':0.0012810437415748015, 'computer':0.001154221895914228, 'size':0.0011460636032306181, 'frv':0.0011229597549007224, 'room':0.001097854820614749, 'years':0.0010935962615125354, 'dre':0.001033780063085525\n",
      "\n",
      "Topico: Phones -> Palavras e pesos = 'phone':0.00767259080569172, 'handsets':0.0031528370991281023, 'system':0.0028407825615964937, 'phones':0.0026438528423345436, 'handset':0.0024646750777379176, 'cordless':0.0022024343538119494, 'station':0.0019476937206371057, 'ghz':0.0018963628974080365, 'quality':0.0018813776935956113, 'call':0.001743288836086025, 'base':0.0017143102630961503, 'buttons':0.0015808622072340543, 'number':0.001568657787046487, 'time':0.001565926884611324, 'machine':0.0014170604525378322\n",
      "\n",
      "Topico: Cars -> Palavras e pesos = 'taurus':0.003426387816464526, 'seat':0.0027336793869400674, 'car':0.0021974502250066245, 'engine':0.0019740106838483096, 'road':0.0016538486524692057, 'vehicle':0.0016364325318404254, 'control':0.0016102875809935815, 'noise':0.0014669122981809427, 'ford':0.001450924524651748, 'model':0.0014370713823262644, 'quality':0.0011663233507709402, 'cars':0.0011640999885882905, 'seats':0.0010794292666221439, 'trunk':0.0010610386625924382, 'panel':0.0009964796726855667\n",
      "\n",
      "Topico: Computers -> Palavras e pesos = 'cougar':0.0022186581575995862, 'car':0.0013383926067903052, 'pc':0.0012823716876564075, 'zion':0.0011623997723182256, 'book':0.001115577247539624, 'plot':0.001055913678383917, 'memory':0.0009290569512226194, 'use':0.0009015752711288396, 'model':0.0008616253651897218, 'boyfriends':0.00082265752107916, 'stratus':0.0008149256216670469, 'hades':0.0007745757927712013, 'beat':0.0007734588586966973, 'days':0.0007722433969485385, 'tribulations':0.000763044779473116\n",
      "\n",
      "Topico: Movies -> Palavras e pesos = 'movie':0.0032539813242754333, 'room':0.0021016750475894405, 'plot':0.0011475007876310661, 'movies':0.0011458169375083004, 'neat':0.0010805183091901684, 'night':0.001023876396574177, 'hotel':0.0010071761994594854, 'way':0.0009983820828587768, 'time':0.0009813155883627415, 'hour':0.0009405058379252257, 'grey':0.0009314451791468438, 'day':0.0008876546514709462, 'details':0.0008577024371676066, 'saltines':0.0008488698076976917, 'floor':0.0008157277906597216\n",
      "\n"
     ]
    },
    {
     "data": {
      "text/plain": [
       "['Music',\n",
       " 'Hotels',\n",
       " 'Cars',\n",
       " 'Computers',\n",
       " 'Cookware',\n",
       " 'Cars',\n",
       " 'Cars',\n",
       " 'Computers',\n",
       " 'Phones',\n",
       " 'Hotels',\n",
       " 'Phones',\n",
       " 'Cars',\n",
       " 'Computers',\n",
       " 'Movies']"
      ]
     },
     "execution_count": 73,
     "metadata": {},
     "output_type": "execute_result"
    }
   ],
   "source": [
    "hdpmodel = HdpModel(doc_term_matrix, dictionary)\n",
    "model_topics = hdpmodel.show_topics(num_topics=14, num_words=num_of_words, formatted=False)\n",
    "view_topics(model_topics)"
   ]
  },
  {
   "cell_type": "markdown",
   "metadata": {},
   "source": [
    "# Inferência"
   ]
  },
  {
   "cell_type": "markdown",
   "metadata": {},
   "source": [
    "Categorização original dos 10 documentos de inferência.\n",
    "Esta categorização foi realizada manualmente, lendo cada uma das reviews."
   ]
  },
  {
   "cell_type": "code",
   "execution_count": 61,
   "metadata": {},
   "outputs": [
    {
     "data": {
      "text/html": [
       "<div>\n",
       "<style scoped>\n",
       "    .dataframe tbody tr th:only-of-type {\n",
       "        vertical-align: middle;\n",
       "    }\n",
       "\n",
       "    .dataframe tbody tr th {\n",
       "        vertical-align: top;\n",
       "    }\n",
       "\n",
       "    .dataframe thead th {\n",
       "        text-align: right;\n",
       "    }\n",
       "</style>\n",
       "<table border=\"1\" class=\"dataframe\">\n",
       "  <thead>\n",
       "    <tr style=\"text-align: right;\">\n",
       "      <th></th>\n",
       "      <th>Documento</th>\n",
       "      <th>Tópico</th>\n",
       "    </tr>\n",
       "  </thead>\n",
       "  <tbody>\n",
       "    <tr>\n",
       "      <td>0</td>\n",
       "      <td>0</td>\n",
       "      <td>Books</td>\n",
       "    </tr>\n",
       "    <tr>\n",
       "      <td>1</td>\n",
       "      <td>1</td>\n",
       "      <td>Phones</td>\n",
       "    </tr>\n",
       "    <tr>\n",
       "      <td>2</td>\n",
       "      <td>2</td>\n",
       "      <td>Movies</td>\n",
       "    </tr>\n",
       "    <tr>\n",
       "      <td>3</td>\n",
       "      <td>3</td>\n",
       "      <td>Music</td>\n",
       "    </tr>\n",
       "    <tr>\n",
       "      <td>4</td>\n",
       "      <td>4</td>\n",
       "      <td>Books</td>\n",
       "    </tr>\n",
       "    <tr>\n",
       "      <td>5</td>\n",
       "      <td>5</td>\n",
       "      <td>Music</td>\n",
       "    </tr>\n",
       "    <tr>\n",
       "      <td>6</td>\n",
       "      <td>6</td>\n",
       "      <td>Computers</td>\n",
       "    </tr>\n",
       "    <tr>\n",
       "      <td>7</td>\n",
       "      <td>7</td>\n",
       "      <td>Music</td>\n",
       "    </tr>\n",
       "    <tr>\n",
       "      <td>8</td>\n",
       "      <td>8</td>\n",
       "      <td>Books</td>\n",
       "    </tr>\n",
       "    <tr>\n",
       "      <td>9</td>\n",
       "      <td>9</td>\n",
       "      <td>Music</td>\n",
       "    </tr>\n",
       "  </tbody>\n",
       "</table>\n",
       "</div>"
      ],
      "text/plain": [
       "   Documento     Tópico\n",
       "0          0      Books\n",
       "1          1     Phones\n",
       "2          2     Movies\n",
       "3          3      Music\n",
       "4          4      Books\n",
       "5          5      Music\n",
       "6          6  Computers\n",
       "7          7      Music\n",
       "8          8      Books\n",
       "9          9      Music"
      ]
     },
     "execution_count": 61,
     "metadata": {},
     "output_type": "execute_result"
    }
   ],
   "source": [
    "data = {'Documento':[0, 1, 2, 3, 4, 5, 6, 7, 8, 9], 'Tópico':['Books', 'Phones', 'Movies', 'Music', 'Books', 'Music', 'Computers', 'Music', 'Books', 'Music']} \n",
    "df = pd.DataFrame(data)\n",
    "df"
   ]
  },
  {
   "cell_type": "markdown",
   "metadata": {},
   "source": [
    "Lista com os 10 documentos de inferência refletidos acima."
   ]
  },
  {
   "cell_type": "code",
   "execution_count": 62,
   "metadata": {},
   "outputs": [],
   "source": [
    "real_topics = ['Books', 'Phones', 'Movies', 'Music', 'Books', 'Music', 'Computers', 'Music', 'Books', 'Music']"
   ]
  },
  {
   "cell_type": "markdown",
   "metadata": {},
   "source": [
    "Função que cria um dicionário com o nome do modelo como key e uma lista com o id dos tópicos com respectivo peso como value."
   ]
  },
  {
   "cell_type": "code",
   "execution_count": 63,
   "metadata": {},
   "outputs": [],
   "source": [
    "def get_inference_dictionary(test_list, lsamodel, ldamodel, hdpmodel, dictionary):\n",
    "    inference_list_lsa = []\n",
    "    inference_list_lda = []\n",
    "    inference_list_hdp = []\n",
    "    inference_dictionary = {}\n",
    "    for review in test_list:\n",
    "        inference_list_lsa.append(lsamodel[dictionary.doc2bow(review)])\n",
    "    inference_dictionary.update({'lsa':inference_list_lsa})\n",
    "    for review in test_list:\n",
    "        inference_list_lda.append(ldamodel[dictionary.doc2bow(review)])\n",
    "    inference_dictionary.update({'lda':inference_list_lda})\n",
    "    for review in test_list:\n",
    "        inference_list_hdp.append(hdpmodel[dictionary.doc2bow(review)])\n",
    "    inference_dictionary.update({'hdp':inference_list_hdp})\n",
    "\n",
    "    return inference_dictionary"
   ]
  },
  {
   "cell_type": "markdown",
   "metadata": {},
   "source": [
    "Função que vai tentar preditar corretamente qual o nome do tópico para cada um dos 10 últimos reviews do conjunto de dados por modelo.\n",
    "Baseia-se no dicionário de treino já calculado acima que tem os tópicos que o modelo considerou, dependendo da abordagem utilizada, e baseia-se também num dicionário de teste/inferência, que contém o id do tópico e um peso.\n",
    "Percorre o dicionário de teste/inferência e procura pelo id do tópico que tem maior peso, de seguida pesquisa no dicionário de treino por esse mesmo id e devolve o nome do tópico.\n",
    "Pelo meio filtra o dicionário de teste/inferência por id <= 7 porque existem ids com valor maior que 7 e no nosso caso só temos 8 tópicos.\n",
    "Calcula para cada um dos modelos."
   ]
  },
  {
   "cell_type": "code",
   "execution_count": 94,
   "metadata": {},
   "outputs": [],
   "source": [
    "def results(inference_dictionary, train_dictionary, approach):\n",
    "    models = ['lsa', 'lda', 'hdp']\n",
    "    result_lsa = 0\n",
    "    result_lda = 0\n",
    "    result_hdp = 0\n",
    "    print(\"\\n{}\\n\".format(approach))\n",
    "    for model in models:\n",
    "        inference_list = inference_dictionary[model]\n",
    "        number_review = 0\n",
    "        print(\"\\nModelo: {}\".format(model.upper()))\n",
    "        \n",
    "        reviews_cleaned = []\n",
    "        for review in inference_list:\n",
    "            review = [(i[0], abs(i[1])) for i in review if i[0] <= 7]\n",
    "            reviews_cleaned.append(review)\n",
    "        \n",
    "        count_predict = 0\n",
    "        for review in reviews_cleaned:\n",
    "            id_topic = max(review, key=itemgetter(1))[0]\n",
    "            predict_name = train_dictionary[model][id_topic]\n",
    "            predict_name_list = predict_name.split(\",\")\n",
    "            real_name = real_topics[number_review]\n",
    "            print(\"\\n\\tReview número {}:\".format(number_review))\n",
    "            print(\"\\t\\tTópico real = {} \\n\\t\\tTópico predicto = {}\".format(real_name, predict_name))\n",
    "            number_review += 1\n",
    "            \n",
    "            for predict_name in predict_name_list:\n",
    "                if predict_name == real_name:\n",
    "                    count_predict += 1\n",
    "                if model == 'lsa':\n",
    "                    result_lsa = count_predict\n",
    "                if model == 'lda':\n",
    "                    result_lda = count_predict\n",
    "                if model == 'hdp':\n",
    "                    result_hdp = count_predict\n",
    "            \n",
    "    print(\"\\nResultados:\")\n",
    "    print(\"\\tLSA = {}/10\".format(result_lsa))\n",
    "    print(\"\\tLDA = {}/10\".format(result_lda))\n",
    "    print(\"\\tHDP = {}/10\".format(result_hdp))"
   ]
  },
  {
   "cell_type": "markdown",
   "metadata": {},
   "source": [
    "## Inferência com Minúsculas"
   ]
  },
  {
   "cell_type": "code",
   "execution_count": 96,
   "metadata": {
    "scrolled": false
   },
   "outputs": [
    {
     "name": "stdout",
     "output_type": "stream",
     "text": [
      "\n",
      "Inferência com Minúsculas\n",
      "\n",
      "\n",
      "Modelo: LSA\n",
      "\n",
      "\tReview número 0:\n",
      "\t\tTópico real = Books \n",
      "\t\tTópico predicto = Computers\n",
      "\n",
      "\tReview número 1:\n",
      "\t\tTópico real = Phones \n",
      "\t\tTópico predicto = Phones\n",
      "\n",
      "\tReview número 2:\n",
      "\t\tTópico real = Movies \n",
      "\t\tTópico predicto = Computers\n",
      "\n",
      "\tReview número 3:\n",
      "\t\tTópico real = Music \n",
      "\t\tTópico predicto = Music\n",
      "\n",
      "\tReview número 4:\n",
      "\t\tTópico real = Books \n",
      "\t\tTópico predicto = Computers\n",
      "\n",
      "\tReview número 5:\n",
      "\t\tTópico real = Music \n",
      "\t\tTópico predicto = Music\n",
      "\n",
      "\tReview número 6:\n",
      "\t\tTópico real = Computers \n",
      "\t\tTópico predicto = Computers\n",
      "\n",
      "\tReview número 7:\n",
      "\t\tTópico real = Music \n",
      "\t\tTópico predicto = Computers\n",
      "\n",
      "\tReview número 8:\n",
      "\t\tTópico real = Books \n",
      "\t\tTópico predicto = Computers\n",
      "\n",
      "\tReview número 9:\n",
      "\t\tTópico real = Music \n",
      "\t\tTópico predicto = Music\n",
      "\n",
      "Modelo: LDA\n",
      "\n",
      "\tReview número 0:\n",
      "\t\tTópico real = Books \n",
      "\t\tTópico predicto = Movies\n",
      "\n",
      "\tReview número 1:\n",
      "\t\tTópico real = Phones \n",
      "\t\tTópico predicto = Movies\n",
      "\n",
      "\tReview número 2:\n",
      "\t\tTópico real = Movies \n",
      "\t\tTópico predicto = Movies\n",
      "\n",
      "\tReview número 3:\n",
      "\t\tTópico real = Music \n",
      "\t\tTópico predicto = Books\n",
      "\n",
      "\tReview número 4:\n",
      "\t\tTópico real = Books \n",
      "\t\tTópico predicto = Cars\n",
      "\n",
      "\tReview número 5:\n",
      "\t\tTópico real = Music \n",
      "\t\tTópico predicto = Books\n",
      "\n",
      "\tReview número 6:\n",
      "\t\tTópico real = Computers \n",
      "\t\tTópico predicto = Music\n",
      "\n",
      "\tReview número 7:\n",
      "\t\tTópico real = Music \n",
      "\t\tTópico predicto = Books\n",
      "\n",
      "\tReview número 8:\n",
      "\t\tTópico real = Books \n",
      "\t\tTópico predicto = Cars\n",
      "\n",
      "\tReview número 9:\n",
      "\t\tTópico real = Music \n",
      "\t\tTópico predicto = Books\n",
      "\n",
      "Modelo: HDP\n",
      "\n",
      "\tReview número 0:\n",
      "\t\tTópico real = Books \n",
      "\t\tTópico predicto = Computers\n",
      "\n",
      "\tReview número 1:\n",
      "\t\tTópico real = Phones \n",
      "\t\tTópico predicto = Computers\n",
      "\n",
      "\tReview número 2:\n",
      "\t\tTópico real = Movies \n",
      "\t\tTópico predicto = Computers\n",
      "\n",
      "\tReview número 3:\n",
      "\t\tTópico real = Music \n",
      "\t\tTópico predicto = Computers\n",
      "\n",
      "\tReview número 4:\n",
      "\t\tTópico real = Books \n",
      "\t\tTópico predicto = Computers\n",
      "\n",
      "\tReview número 5:\n",
      "\t\tTópico real = Music \n",
      "\t\tTópico predicto = Computers\n",
      "\n",
      "\tReview número 6:\n",
      "\t\tTópico real = Computers \n",
      "\t\tTópico predicto = Computers\n",
      "\n",
      "\tReview número 7:\n",
      "\t\tTópico real = Music \n",
      "\t\tTópico predicto = Computers\n",
      "\n",
      "\tReview número 8:\n",
      "\t\tTópico real = Books \n",
      "\t\tTópico predicto = Computers\n",
      "\n",
      "\tReview número 9:\n",
      "\t\tTópico real = Music \n",
      "\t\tTópico predicto = Computers\n",
      "\n",
      "Resultados:\n",
      "\tLSA = 5/10\n",
      "\tLDA = 1/10\n",
      "\tHDP = 1/10\n"
     ]
    }
   ],
   "source": [
    "dictionary = corpora.Dictionary(train_list_lowercase)\n",
    "doc_term_matrix = [dictionary.doc2bow(review) for review in train_list_lowercase]\n",
    "\n",
    "lsamodel = create_lsa(doc_term_matrix, dictionary, num_of_topics)\n",
    "ldamodel = create_lda(doc_term_matrix, dictionary, num_of_topics)\n",
    "hdpmodel = HdpModel(doc_term_matrix, dictionary)\n",
    "\n",
    "lowercase_test_list = [data_treatment(review, True, False, False, False).split() for review in reviews[:10]]\n",
    "inference_dictionary = get_inference_dictionary(lowercase_test_list, lsamodel, ldamodel, hdpmodel, dictionary)\n",
    "\n",
    "results(inference_dictionary, lowercase_dictionary, \"Inferência com Minúsculas\")"
   ]
  },
  {
   "cell_type": "markdown",
   "metadata": {},
   "source": [
    "## Inferência com Minúsculas e Lemmatization"
   ]
  },
  {
   "cell_type": "code",
   "execution_count": 97,
   "metadata": {},
   "outputs": [
    {
     "name": "stdout",
     "output_type": "stream",
     "text": [
      "\n",
      "Inferência com Minúsculas e Lemmatization\n",
      "\n",
      "\n",
      "Modelo: LSA\n",
      "\n",
      "\tReview número 0:\n",
      "\t\tTópico real = Books \n",
      "\t\tTópico predicto = Computers\n",
      "\n",
      "\tReview número 1:\n",
      "\t\tTópico real = Phones \n",
      "\t\tTópico predicto = Phones\n",
      "\n",
      "\tReview número 2:\n",
      "\t\tTópico real = Movies \n",
      "\t\tTópico predicto = Computers\n",
      "\n",
      "\tReview número 3:\n",
      "\t\tTópico real = Music \n",
      "\t\tTópico predicto = Music\n",
      "\n",
      "\tReview número 4:\n",
      "\t\tTópico real = Books \n",
      "\t\tTópico predicto = Computers\n",
      "\n",
      "\tReview número 5:\n",
      "\t\tTópico real = Music \n",
      "\t\tTópico predicto = Music\n",
      "\n",
      "\tReview número 6:\n",
      "\t\tTópico real = Computers \n",
      "\t\tTópico predicto = Computers\n",
      "\n",
      "\tReview número 7:\n",
      "\t\tTópico real = Music \n",
      "\t\tTópico predicto = Computers\n",
      "\n",
      "\tReview número 8:\n",
      "\t\tTópico real = Books \n",
      "\t\tTópico predicto = Computers\n",
      "\n",
      "\tReview número 9:\n",
      "\t\tTópico real = Music \n",
      "\t\tTópico predicto = Music\n",
      "\n",
      "Modelo: LDA\n",
      "\n",
      "\tReview número 0:\n",
      "\t\tTópico real = Books \n",
      "\t\tTópico predicto = Computers\n",
      "\n",
      "\tReview número 1:\n",
      "\t\tTópico real = Phones \n",
      "\t\tTópico predicto = Computers\n",
      "\n",
      "\tReview número 2:\n",
      "\t\tTópico real = Movies \n",
      "\t\tTópico predicto = Computers\n",
      "\n",
      "\tReview número 3:\n",
      "\t\tTópico real = Music \n",
      "\t\tTópico predicto = Music\n",
      "\n",
      "\tReview número 4:\n",
      "\t\tTópico real = Books \n",
      "\t\tTópico predicto = Computers\n",
      "\n",
      "\tReview número 5:\n",
      "\t\tTópico real = Music \n",
      "\t\tTópico predicto = Music\n",
      "\n",
      "\tReview número 6:\n",
      "\t\tTópico real = Computers \n",
      "\t\tTópico predicto = Phones\n",
      "\n",
      "\tReview número 7:\n",
      "\t\tTópico real = Music \n",
      "\t\tTópico predicto = Music\n",
      "\n",
      "\tReview número 8:\n",
      "\t\tTópico real = Books \n",
      "\t\tTópico predicto = Computers\n",
      "\n",
      "\tReview número 9:\n",
      "\t\tTópico real = Music \n",
      "\t\tTópico predicto = Music\n",
      "\n",
      "Modelo: HDP\n",
      "\n",
      "\tReview número 0:\n",
      "\t\tTópico real = Books \n",
      "\t\tTópico predicto = Computers\n",
      "\n",
      "\tReview número 1:\n",
      "\t\tTópico real = Phones \n",
      "\t\tTópico predicto = Movies\n",
      "\n",
      "\tReview número 2:\n",
      "\t\tTópico real = Movies \n",
      "\t\tTópico predicto = Computers\n",
      "\n",
      "\tReview número 3:\n",
      "\t\tTópico real = Music \n",
      "\t\tTópico predicto = Computers\n",
      "\n",
      "\tReview número 4:\n",
      "\t\tTópico real = Books \n",
      "\t\tTópico predicto = Computers\n",
      "\n",
      "\tReview número 5:\n",
      "\t\tTópico real = Music \n",
      "\t\tTópico predicto = Computers\n",
      "\n",
      "\tReview número 6:\n",
      "\t\tTópico real = Computers \n",
      "\t\tTópico predicto = Movies\n",
      "\n",
      "\tReview número 7:\n",
      "\t\tTópico real = Music \n",
      "\t\tTópico predicto = Computers\n",
      "\n",
      "\tReview número 8:\n",
      "\t\tTópico real = Books \n",
      "\t\tTópico predicto = Computers\n",
      "\n",
      "\tReview número 9:\n",
      "\t\tTópico real = Music \n",
      "\t\tTópico predicto = Computers\n",
      "\n",
      "Resultados:\n",
      "\tLSA = 5/10\n",
      "\tLDA = 4/10\n",
      "\tHDP = 0/10\n"
     ]
    }
   ],
   "source": [
    "dictionary = corpora.Dictionary(train_list_lowercase_lemmatization)\n",
    "doc_term_matrix = [dictionary.doc2bow(review) for review in train_list_lowercase_lemmatization]\n",
    "\n",
    "lsamodel = create_lsa(doc_term_matrix, dictionary, num_of_topics)\n",
    "ldamodel = create_lda(doc_term_matrix, dictionary, num_of_topics)\n",
    "hdpmodel = HdpModel(doc_term_matrix, dictionary)\n",
    "\n",
    "lowercase_lemmatization_test_list = [data_treatment(review, True, True, False, False).split() for review in reviews[:10]]\n",
    "inference_dictionary = get_inference_dictionary(lowercase_lemmatization_test_list, lsamodel, ldamodel, hdpmodel, dictionary)\n",
    "\n",
    "results(inference_dictionary, lowercase_lemmatization_dictionary, \"Inferência com Minúsculas e Lemmatization\")"
   ]
  },
  {
   "cell_type": "markdown",
   "metadata": {},
   "source": [
    "## Inferência com Minúsculas e POS"
   ]
  },
  {
   "cell_type": "code",
   "execution_count": 105,
   "metadata": {},
   "outputs": [
    {
     "name": "stdout",
     "output_type": "stream",
     "text": [
      "\n",
      "Inferência com Minúsculas e POS\n",
      "\n",
      "\n",
      "Modelo: LSA\n",
      "\n",
      "\tReview número 0:\n",
      "\t\tTópico real = Books \n",
      "\t\tTópico predicto = Movies\n",
      "\n",
      "\tReview número 1:\n",
      "\t\tTópico real = Phones \n",
      "\t\tTópico predicto = Phones\n",
      "\n",
      "\tReview número 2:\n",
      "\t\tTópico real = Movies \n",
      "\t\tTópico predicto = Movies\n",
      "\n",
      "\tReview número 3:\n",
      "\t\tTópico real = Music \n",
      "\t\tTópico predicto = Music\n",
      "\n",
      "\tReview número 4:\n",
      "\t\tTópico real = Books \n",
      "\t\tTópico predicto = Movies\n",
      "\n",
      "\tReview número 5:\n",
      "\t\tTópico real = Music \n",
      "\t\tTópico predicto = Music\n",
      "\n",
      "\tReview número 6:\n",
      "\t\tTópico real = Computers \n",
      "\t\tTópico predicto = Computers\n",
      "\n",
      "\tReview número 7:\n",
      "\t\tTópico real = Music \n",
      "\t\tTópico predicto = Music\n",
      "\n",
      "\tReview número 8:\n",
      "\t\tTópico real = Books \n",
      "\t\tTópico predicto = Movies\n",
      "\n",
      "\tReview número 9:\n",
      "\t\tTópico real = Music \n",
      "\t\tTópico predicto = Music\n",
      "\n",
      "Modelo: LDA\n",
      "\n",
      "\tReview número 0:\n",
      "\t\tTópico real = Books \n",
      "\t\tTópico predicto = Cookware\n",
      "\n",
      "\tReview número 1:\n",
      "\t\tTópico real = Phones \n",
      "\t\tTópico predicto = Hotels\n",
      "\n",
      "\tReview número 2:\n",
      "\t\tTópico real = Movies \n",
      "\t\tTópico predicto = Cars\n",
      "\n",
      "\tReview número 3:\n",
      "\t\tTópico real = Music \n",
      "\t\tTópico predicto = Music\n",
      "\n",
      "\tReview número 4:\n",
      "\t\tTópico real = Books \n",
      "\t\tTópico predicto = Cookware\n",
      "\n",
      "\tReview número 5:\n",
      "\t\tTópico real = Music \n",
      "\t\tTópico predicto = Music\n",
      "\n",
      "\tReview número 6:\n",
      "\t\tTópico real = Computers \n",
      "\t\tTópico predicto = Computers\n",
      "\n",
      "\tReview número 7:\n",
      "\t\tTópico real = Music \n",
      "\t\tTópico predicto = Music\n",
      "\n",
      "\tReview número 8:\n",
      "\t\tTópico real = Books \n",
      "\t\tTópico predicto = Cookware\n",
      "\n",
      "\tReview número 9:\n",
      "\t\tTópico real = Music \n",
      "\t\tTópico predicto = Music\n",
      "\n",
      "Modelo: HDP\n",
      "\n",
      "\tReview número 0:\n",
      "\t\tTópico real = Books \n",
      "\t\tTópico predicto = Cookware\n",
      "\n",
      "\tReview número 1:\n",
      "\t\tTópico real = Phones \n",
      "\t\tTópico predicto = Cars\n",
      "\n",
      "\tReview número 2:\n",
      "\t\tTópico real = Movies \n",
      "\t\tTópico predicto = Books\n",
      "\n",
      "\tReview número 3:\n",
      "\t\tTópico real = Music \n",
      "\t\tTópico predicto = Books\n",
      "\n",
      "\tReview número 4:\n",
      "\t\tTópico real = Books \n",
      "\t\tTópico predicto = Cars\n",
      "\n",
      "\tReview número 5:\n",
      "\t\tTópico real = Music \n",
      "\t\tTópico predicto = Cars\n",
      "\n",
      "\tReview número 6:\n",
      "\t\tTópico real = Computers \n",
      "\t\tTópico predicto = Cars\n",
      "\n",
      "\tReview número 7:\n",
      "\t\tTópico real = Music \n",
      "\t\tTópico predicto = Cars\n",
      "\n",
      "\tReview número 8:\n",
      "\t\tTópico real = Books \n",
      "\t\tTópico predicto = Cookware\n",
      "\n",
      "\tReview número 9:\n",
      "\t\tTópico real = Music \n",
      "\t\tTópico predicto = Cars\n",
      "\n",
      "Resultados:\n",
      "\tLSA = 7/10\n",
      "\tLDA = 5/10\n",
      "\tHDP = 0/10\n"
     ]
    }
   ],
   "source": [
    "dictionary = corpora.Dictionary(train_list_lowercase_pos)\n",
    "doc_term_matrix = [dictionary.doc2bow(review) for review in train_list_lowercase_pos]\n",
    "\n",
    "lsamodel = create_lsa(doc_term_matrix, dictionary, num_of_topics)\n",
    "ldamodel = create_lda(doc_term_matrix, dictionary, num_of_topics)\n",
    "hdpmodel = HdpModel(doc_term_matrix, dictionary)\n",
    "\n",
    "lowercase_pos_test_list = [data_treatment(review, True, False, True, False).split() for review in reviews[:10]]\n",
    "inference_dictionary = get_inference_dictionary(lowercase_pos_test_list, lsamodel, ldamodel, hdpmodel, dictionary)\n",
    "\n",
    "results(inference_dictionary, lowercase_pos_dictionary, \"Inferência com Minúsculas e POS\")"
   ]
  },
  {
   "cell_type": "markdown",
   "metadata": {},
   "source": [
    "## Inferência com Minúsculas e Chunking"
   ]
  },
  {
   "cell_type": "code",
   "execution_count": 108,
   "metadata": {},
   "outputs": [
    {
     "name": "stdout",
     "output_type": "stream",
     "text": [
      "\n",
      "Inferência com Minúsculas e Chunking\n",
      "\n",
      "\n",
      "Modelo: LSA\n",
      "\n",
      "\tReview número 0:\n",
      "\t\tTópico real = Books \n",
      "\t\tTópico predicto = Movies\n",
      "\n",
      "\tReview número 1:\n",
      "\t\tTópico real = Phones \n",
      "\t\tTópico predicto = Phones\n",
      "\n",
      "\tReview número 2:\n",
      "\t\tTópico real = Movies \n",
      "\t\tTópico predicto = Movies\n",
      "\n",
      "\tReview número 3:\n",
      "\t\tTópico real = Music \n",
      "\t\tTópico predicto = Music\n",
      "\n",
      "\tReview número 4:\n",
      "\t\tTópico real = Books \n",
      "\t\tTópico predicto = Movies\n",
      "\n",
      "\tReview número 5:\n",
      "\t\tTópico real = Music \n",
      "\t\tTópico predicto = Music\n",
      "\n",
      "\tReview número 6:\n",
      "\t\tTópico real = Computers \n",
      "\t\tTópico predicto = Computers\n",
      "\n",
      "\tReview número 7:\n",
      "\t\tTópico real = Music \n",
      "\t\tTópico predicto = Music\n",
      "\n",
      "\tReview número 8:\n",
      "\t\tTópico real = Books \n",
      "\t\tTópico predicto = Movies\n",
      "\n",
      "\tReview número 9:\n",
      "\t\tTópico real = Music \n",
      "\t\tTópico predicto = Music\n",
      "\n",
      "Modelo: LDA\n",
      "\n",
      "\tReview número 0:\n",
      "\t\tTópico real = Books \n",
      "\t\tTópico predicto = Cookware\n",
      "\n",
      "\tReview número 1:\n",
      "\t\tTópico real = Phones \n",
      "\t\tTópico predicto = Cookware\n",
      "\n",
      "\tReview número 2:\n",
      "\t\tTópico real = Movies \n",
      "\t\tTópico predicto = Cookware\n",
      "\n",
      "\tReview número 3:\n",
      "\t\tTópico real = Music \n",
      "\t\tTópico predicto = Cookware\n",
      "\n",
      "\tReview número 4:\n",
      "\t\tTópico real = Books \n",
      "\t\tTópico predicto = Cookware\n",
      "\n",
      "\tReview número 5:\n",
      "\t\tTópico real = Music \n",
      "\t\tTópico predicto = Cookware\n",
      "\n",
      "\tReview número 6:\n",
      "\t\tTópico real = Computers \n",
      "\t\tTópico predicto = Books\n",
      "\n",
      "\tReview número 7:\n",
      "\t\tTópico real = Music \n",
      "\t\tTópico predicto = Cookware\n",
      "\n",
      "\tReview número 8:\n",
      "\t\tTópico real = Books \n",
      "\t\tTópico predicto = Cookware\n",
      "\n",
      "\tReview número 9:\n",
      "\t\tTópico real = Music \n",
      "\t\tTópico predicto = Cookware\n",
      "\n",
      "Modelo: HDP\n",
      "\n",
      "\tReview número 0:\n",
      "\t\tTópico real = Books \n",
      "\t\tTópico predicto = Movies\n",
      "\n",
      "\tReview número 1:\n",
      "\t\tTópico real = Phones \n",
      "\t\tTópico predicto = Computers\n",
      "\n",
      "\tReview número 2:\n",
      "\t\tTópico real = Movies \n",
      "\t\tTópico predicto = Cars\n",
      "\n",
      "\tReview número 3:\n",
      "\t\tTópico real = Music \n",
      "\t\tTópico predicto = Cookware\n",
      "\n",
      "\tReview número 4:\n",
      "\t\tTópico real = Books \n",
      "\t\tTópico predicto = Cars\n",
      "\n",
      "\tReview número 5:\n",
      "\t\tTópico real = Music \n",
      "\t\tTópico predicto = Cookware\n",
      "\n",
      "\tReview número 6:\n",
      "\t\tTópico real = Computers \n",
      "\t\tTópico predicto = Computers\n",
      "\n",
      "\tReview número 7:\n",
      "\t\tTópico real = Music \n",
      "\t\tTópico predicto = Cookware\n",
      "\n",
      "\tReview número 8:\n",
      "\t\tTópico real = Books \n",
      "\t\tTópico predicto = Movies\n",
      "\n",
      "\tReview número 9:\n",
      "\t\tTópico real = Music \n",
      "\t\tTópico predicto = Cookware\n",
      "\n",
      "Resultados:\n",
      "\tLSA = 7/10\n",
      "\tLDA = 0/10\n",
      "\tHDP = 1/10\n"
     ]
    }
   ],
   "source": [
    "dictionary = corpora.Dictionary(train_list_lowercase_chunking)\n",
    "doc_term_matrix = [dictionary.doc2bow(review) for review in train_list_lowercase_chunking]\n",
    "\n",
    "lsamodel = create_lsa(doc_term_matrix, dictionary, num_of_topics)\n",
    "ldamodel = create_lda(doc_term_matrix, dictionary, num_of_topics)\n",
    "hdpmodel = HdpModel(doc_term_matrix, dictionary)\n",
    "\n",
    "lowercase_chunking_test_list = [data_treatment(review, True, False, False, True).split() for review in reviews[:10]]\n",
    "inference_dictionary = get_inference_dictionary(lowercase_chunking_test_list, lsamodel, ldamodel, hdpmodel, dictionary)\n",
    "\n",
    "results(inference_dictionary, lowercase_chunking_dictionary, \"Inferência com Minúsculas e Chunking\")"
   ]
  },
  {
   "cell_type": "markdown",
   "metadata": {},
   "source": [
    "## Inferência com Minúsculas, Lemmatization e Chunking"
   ]
  },
  {
   "cell_type": "code",
   "execution_count": 110,
   "metadata": {},
   "outputs": [
    {
     "name": "stdout",
     "output_type": "stream",
     "text": [
      "\n",
      "Inferência com Minúsculas, Lemmatization e Chunking\n",
      "\n",
      "\n",
      "Modelo: LSA\n",
      "\n",
      "\tReview número 0:\n",
      "\t\tTópico real = Books \n",
      "\t\tTópico predicto = Movies\n",
      "\n",
      "\tReview número 1:\n",
      "\t\tTópico real = Phones \n",
      "\t\tTópico predicto = Phones\n",
      "\n",
      "\tReview número 2:\n",
      "\t\tTópico real = Movies \n",
      "\t\tTópico predicto = Movies\n",
      "\n",
      "\tReview número 3:\n",
      "\t\tTópico real = Music \n",
      "\t\tTópico predicto = Music\n",
      "\n",
      "\tReview número 4:\n",
      "\t\tTópico real = Books \n",
      "\t\tTópico predicto = Movies\n",
      "\n",
      "\tReview número 5:\n",
      "\t\tTópico real = Music \n",
      "\t\tTópico predicto = Music\n",
      "\n",
      "\tReview número 6:\n",
      "\t\tTópico real = Computers \n",
      "\t\tTópico predicto = Computers\n",
      "\n",
      "\tReview número 7:\n",
      "\t\tTópico real = Music \n",
      "\t\tTópico predicto = Computers\n",
      "\n",
      "\tReview número 8:\n",
      "\t\tTópico real = Books \n",
      "\t\tTópico predicto = Movies\n",
      "\n",
      "\tReview número 9:\n",
      "\t\tTópico real = Music \n",
      "\t\tTópico predicto = Music\n",
      "\n",
      "Modelo: LDA\n",
      "\n",
      "\tReview número 0:\n",
      "\t\tTópico real = Books \n",
      "\t\tTópico predicto = Music\n",
      "\n",
      "\tReview número 1:\n",
      "\t\tTópico real = Phones \n",
      "\t\tTópico predicto = Cars\n",
      "\n",
      "\tReview número 2:\n",
      "\t\tTópico real = Movies \n",
      "\t\tTópico predicto = Phones\n",
      "\n",
      "\tReview número 3:\n",
      "\t\tTópico real = Music \n",
      "\t\tTópico predicto = Cars\n",
      "\n",
      "\tReview número 4:\n",
      "\t\tTópico real = Books \n",
      "\t\tTópico predicto = Music\n",
      "\n",
      "\tReview número 5:\n",
      "\t\tTópico real = Music \n",
      "\t\tTópico predicto = Cars\n",
      "\n",
      "\tReview número 6:\n",
      "\t\tTópico real = Computers \n",
      "\t\tTópico predicto = Music\n",
      "\n",
      "\tReview número 7:\n",
      "\t\tTópico real = Music \n",
      "\t\tTópico predicto = Cars\n",
      "\n",
      "\tReview número 8:\n",
      "\t\tTópico real = Books \n",
      "\t\tTópico predicto = Music\n",
      "\n",
      "\tReview número 9:\n",
      "\t\tTópico real = Music \n",
      "\t\tTópico predicto = Cars\n",
      "\n",
      "Modelo: HDP\n",
      "\n",
      "\tReview número 0:\n",
      "\t\tTópico real = Books \n",
      "\t\tTópico predicto = Cars\n",
      "\n",
      "\tReview número 1:\n",
      "\t\tTópico real = Phones \n",
      "\t\tTópico predicto = Cars\n",
      "\n",
      "\tReview número 2:\n",
      "\t\tTópico real = Movies \n",
      "\t\tTópico predicto = Cars\n",
      "\n",
      "\tReview número 3:\n",
      "\t\tTópico real = Music \n",
      "\t\tTópico predicto = Cars\n",
      "\n",
      "\tReview número 4:\n",
      "\t\tTópico real = Books \n",
      "\t\tTópico predicto = Cars\n",
      "\n",
      "\tReview número 5:\n",
      "\t\tTópico real = Music \n",
      "\t\tTópico predicto = Cars\n",
      "\n",
      "\tReview número 6:\n",
      "\t\tTópico real = Computers \n",
      "\t\tTópico predicto = Cars\n",
      "\n",
      "\tReview número 7:\n",
      "\t\tTópico real = Music \n",
      "\t\tTópico predicto = Cars\n",
      "\n",
      "\tReview número 8:\n",
      "\t\tTópico real = Books \n",
      "\t\tTópico predicto = Cars\n",
      "\n",
      "\tReview número 9:\n",
      "\t\tTópico real = Music \n",
      "\t\tTópico predicto = Cars\n",
      "\n",
      "Resultados:\n",
      "\tLSA = 6/10\n",
      "\tLDA = 0/10\n",
      "\tHDP = 0/10\n"
     ]
    }
   ],
   "source": [
    "dictionary = corpora.Dictionary(train_list_lowercase_lemmatization_chunking)\n",
    "doc_term_matrix = [dictionary.doc2bow(review) for review in train_list_lowercase_lemmatization_chunking]\n",
    "\n",
    "lsamodel = create_lsa(doc_term_matrix, dictionary, num_of_topics)\n",
    "ldamodel = create_lda(doc_term_matrix, dictionary, num_of_topics)\n",
    "hdpmodel = HdpModel(doc_term_matrix, dictionary)\n",
    "\n",
    "lowercase_lemmatization_chunking_test_list = [data_treatment(review, True, True, False, True).split() for review in reviews[:10]]\n",
    "inference_dictionary = get_inference_dictionary(lowercase_lemmatization_chunking_test_list, lsamodel, ldamodel, hdpmodel, dictionary)\n",
    "\n",
    "results(inference_dictionary, lowercase_lemmatization_chunking_dictionary, \"Inferência com Minúsculas, Lemmatization e Chunking\")"
   ]
  },
  {
   "cell_type": "markdown",
   "metadata": {},
   "source": [
    "## Inferência com Minúsculas, POS e Chunking"
   ]
  },
  {
   "cell_type": "code",
   "execution_count": 112,
   "metadata": {},
   "outputs": [
    {
     "name": "stdout",
     "output_type": "stream",
     "text": [
      "\n",
      "Inferência com Minúsculas, POS e Chunking\n",
      "\n",
      "\n",
      "Modelo: LSA\n",
      "\n",
      "\tReview número 0:\n",
      "\t\tTópico real = Books \n",
      "\t\tTópico predicto = Movies\n",
      "\n",
      "\tReview número 1:\n",
      "\t\tTópico real = Phones \n",
      "\t\tTópico predicto = Phones\n",
      "\n",
      "\tReview número 2:\n",
      "\t\tTópico real = Movies \n",
      "\t\tTópico predicto = Movies\n",
      "\n",
      "\tReview número 3:\n",
      "\t\tTópico real = Music \n",
      "\t\tTópico predicto = Computers\n",
      "\n",
      "\tReview número 4:\n",
      "\t\tTópico real = Books \n",
      "\t\tTópico predicto = Movies\n",
      "\n",
      "\tReview número 5:\n",
      "\t\tTópico real = Music \n",
      "\t\tTópico predicto = Computers\n",
      "\n",
      "\tReview número 6:\n",
      "\t\tTópico real = Computers \n",
      "\t\tTópico predicto = Cars\n",
      "\n",
      "\tReview número 7:\n",
      "\t\tTópico real = Music \n",
      "\t\tTópico predicto = Computers\n",
      "\n",
      "\tReview número 8:\n",
      "\t\tTópico real = Books \n",
      "\t\tTópico predicto = Movies\n",
      "\n",
      "\tReview número 9:\n",
      "\t\tTópico real = Music \n",
      "\t\tTópico predicto = Computers\n",
      "\n",
      "Modelo: LDA\n",
      "\n",
      "\tReview número 0:\n",
      "\t\tTópico real = Books \n",
      "\t\tTópico predicto = Music\n",
      "\n",
      "\tReview número 1:\n",
      "\t\tTópico real = Phones \n",
      "\t\tTópico predicto = Cookware\n",
      "\n",
      "\tReview número 2:\n",
      "\t\tTópico real = Movies \n",
      "\t\tTópico predicto = Music\n",
      "\n",
      "\tReview número 3:\n",
      "\t\tTópico real = Music \n",
      "\t\tTópico predicto = Movies\n",
      "\n",
      "\tReview número 4:\n",
      "\t\tTópico real = Books \n",
      "\t\tTópico predicto = Music\n",
      "\n",
      "\tReview número 5:\n",
      "\t\tTópico real = Music \n",
      "\t\tTópico predicto = Movies\n",
      "\n",
      "\tReview número 6:\n",
      "\t\tTópico real = Computers \n",
      "\t\tTópico predicto = Cars\n",
      "\n",
      "\tReview número 7:\n",
      "\t\tTópico real = Music \n",
      "\t\tTópico predicto = Movies\n",
      "\n",
      "\tReview número 8:\n",
      "\t\tTópico real = Books \n",
      "\t\tTópico predicto = Music\n",
      "\n",
      "\tReview número 9:\n",
      "\t\tTópico real = Music \n",
      "\t\tTópico predicto = Movies\n",
      "\n",
      "Modelo: HDP\n",
      "\n",
      "\tReview número 0:\n",
      "\t\tTópico real = Books \n",
      "\t\tTópico predicto = Computers\n",
      "\n",
      "\tReview número 1:\n",
      "\t\tTópico real = Phones \n",
      "\t\tTópico predicto = Cars\n",
      "\n",
      "\tReview número 2:\n",
      "\t\tTópico real = Movies \n",
      "\t\tTópico predicto = Computers\n",
      "\n",
      "\tReview número 3:\n",
      "\t\tTópico real = Music \n",
      "\t\tTópico predicto = Hotels\n",
      "\n",
      "\tReview número 4:\n",
      "\t\tTópico real = Books \n",
      "\t\tTópico predicto = Computers\n",
      "\n",
      "\tReview número 5:\n",
      "\t\tTópico real = Music \n",
      "\t\tTópico predicto = Hotels\n",
      "\n",
      "\tReview número 6:\n",
      "\t\tTópico real = Computers \n",
      "\t\tTópico predicto = Computers\n",
      "\n",
      "\tReview número 7:\n",
      "\t\tTópico real = Music \n",
      "\t\tTópico predicto = Cars\n",
      "\n",
      "\tReview número 8:\n",
      "\t\tTópico real = Books \n",
      "\t\tTópico predicto = Computers\n",
      "\n",
      "\tReview número 9:\n",
      "\t\tTópico real = Music \n",
      "\t\tTópico predicto = Hotels\n",
      "\n",
      "Resultados:\n",
      "\tLSA = 2/10\n",
      "\tLDA = 0/10\n",
      "\tHDP = 1/10\n"
     ]
    }
   ],
   "source": [
    "dictionary = corpora.Dictionary(train_list_lowercase_pos_chunking)\n",
    "doc_term_matrix = [dictionary.doc2bow(review) for review in train_list_lowercase_pos_chunking]\n",
    "\n",
    "lsamodel = create_lsa(doc_term_matrix, dictionary, num_of_topics)\n",
    "ldamodel = create_lda(doc_term_matrix, dictionary, num_of_topics)\n",
    "hdpmodel = HdpModel(doc_term_matrix, dictionary)\n",
    "\n",
    "lowercase_pos_chunking_test_list = [data_treatment(review, True, False, True, True).split() for review in reviews[:10]]\n",
    "inference_dictionary = get_inference_dictionary(lowercase_pos_chunking_test_list, lsamodel, ldamodel, hdpmodel, dictionary)\n",
    "\n",
    "results(inference_dictionary, lowercase_pos_chunking_dictionary, \"Inferência com Minúsculas, POS e Chunking\")"
   ]
  },
  {
   "cell_type": "markdown",
   "metadata": {},
   "source": [
    "## Inferência Com Minúsculas, Lemmatization, POS e Chunking"
   ]
  },
  {
   "cell_type": "code",
   "execution_count": 114,
   "metadata": {},
   "outputs": [
    {
     "name": "stdout",
     "output_type": "stream",
     "text": [
      "\n",
      "Inferência com Minúsculas, Lemmatization, POS e Chunking\n",
      "\n",
      "\n",
      "Modelo: LSA\n",
      "\n",
      "\tReview número 0:\n",
      "\t\tTópico real = Books \n",
      "\t\tTópico predicto = Movies\n",
      "\n",
      "\tReview número 1:\n",
      "\t\tTópico real = Phones \n",
      "\t\tTópico predicto = Phones\n",
      "\n",
      "\tReview número 2:\n",
      "\t\tTópico real = Movies \n",
      "\t\tTópico predicto = Movies\n",
      "\n",
      "\tReview número 3:\n",
      "\t\tTópico real = Music \n",
      "\t\tTópico predicto = Computers\n",
      "\n",
      "\tReview número 4:\n",
      "\t\tTópico real = Books \n",
      "\t\tTópico predicto = Movies\n",
      "\n",
      "\tReview número 5:\n",
      "\t\tTópico real = Music \n",
      "\t\tTópico predicto = Computers\n",
      "\n",
      "\tReview número 6:\n",
      "\t\tTópico real = Computers \n",
      "\t\tTópico predicto = Cars\n",
      "\n",
      "\tReview número 7:\n",
      "\t\tTópico real = Music \n",
      "\t\tTópico predicto = Cars\n",
      "\n",
      "\tReview número 8:\n",
      "\t\tTópico real = Books \n",
      "\t\tTópico predicto = Movies\n",
      "\n",
      "\tReview número 9:\n",
      "\t\tTópico real = Music \n",
      "\t\tTópico predicto = Computers\n",
      "\n",
      "Modelo: LDA\n",
      "\n",
      "\tReview número 0:\n",
      "\t\tTópico real = Books \n",
      "\t\tTópico predicto = Movies\n",
      "\n",
      "\tReview número 1:\n",
      "\t\tTópico real = Phones \n",
      "\t\tTópico predicto = Phones\n",
      "\n",
      "\tReview número 2:\n",
      "\t\tTópico real = Movies \n",
      "\t\tTópico predicto = Music\n",
      "\n",
      "\tReview número 3:\n",
      "\t\tTópico real = Music \n",
      "\t\tTópico predicto = Hotels\n",
      "\n",
      "\tReview número 4:\n",
      "\t\tTópico real = Books \n",
      "\t\tTópico predicto = Movies\n",
      "\n",
      "\tReview número 5:\n",
      "\t\tTópico real = Music \n",
      "\t\tTópico predicto = Movies\n",
      "\n",
      "\tReview número 6:\n",
      "\t\tTópico real = Computers \n",
      "\t\tTópico predicto = Books\n",
      "\n",
      "\tReview número 7:\n",
      "\t\tTópico real = Music \n",
      "\t\tTópico predicto = Hotels\n",
      "\n",
      "\tReview número 8:\n",
      "\t\tTópico real = Books \n",
      "\t\tTópico predicto = Movies\n",
      "\n",
      "\tReview número 9:\n",
      "\t\tTópico real = Music \n",
      "\t\tTópico predicto = Hotels\n",
      "\n",
      "Modelo: HDP\n",
      "\n",
      "\tReview número 0:\n",
      "\t\tTópico real = Books \n",
      "\t\tTópico predicto = Cookware\n",
      "\n",
      "\tReview número 1:\n",
      "\t\tTópico real = Phones \n",
      "\t\tTópico predicto = Computers\n",
      "\n",
      "\tReview número 2:\n",
      "\t\tTópico real = Movies \n",
      "\t\tTópico predicto = Cookware\n",
      "\n",
      "\tReview número 3:\n",
      "\t\tTópico real = Music \n",
      "\t\tTópico predicto = Cars\n",
      "\n",
      "\tReview número 4:\n",
      "\t\tTópico real = Books \n",
      "\t\tTópico predicto = Cookware\n",
      "\n",
      "\tReview número 5:\n",
      "\t\tTópico real = Music \n",
      "\t\tTópico predicto = Cars\n",
      "\n",
      "\tReview número 6:\n",
      "\t\tTópico real = Computers \n",
      "\t\tTópico predicto = Computers\n",
      "\n",
      "\tReview número 7:\n",
      "\t\tTópico real = Music \n",
      "\t\tTópico predicto = Computers\n",
      "\n",
      "\tReview número 8:\n",
      "\t\tTópico real = Books \n",
      "\t\tTópico predicto = Cookware\n",
      "\n",
      "\tReview número 9:\n",
      "\t\tTópico real = Music \n",
      "\t\tTópico predicto = Cars\n",
      "\n",
      "Resultados:\n",
      "\tLSA = 2/10\n",
      "\tLDA = 1/10\n",
      "\tHDP = 1/10\n"
     ]
    }
   ],
   "source": [
    "dictionary = corpora.Dictionary(train_list_lowercase_lemmatization_pos_chunking)\n",
    "doc_term_matrix = [dictionary.doc2bow(review) for review in train_list_lowercase_lemmatization_pos_chunking]\n",
    "\n",
    "lsamodel = create_lsa(doc_term_matrix, dictionary, num_of_topics)\n",
    "ldamodel = create_lda(doc_term_matrix, dictionary, num_of_topics)\n",
    "hdpmodel = HdpModel(doc_term_matrix, dictionary)\n",
    "\n",
    "lowercase_lemmatization_pos_chunking_test_list = [data_treatment(review, True, True, True, True).split() for review in reviews[:10]]\n",
    "inference_dictionary = get_inference_dictionary(lowercase_lemmatization_pos_chunking_test_list, lsamodel, ldamodel, hdpmodel, dictionary)\n",
    "\n",
    "results(inference_dictionary, lowercase_lemmatization_pos_chunking_dictionary, \"Inferência com Minúsculas, Lemmatization, POS e Chunking\")"
   ]
  }
 ],
 "metadata": {
  "kernelspec": {
   "display_name": "Python 3",
   "language": "python",
   "name": "python3"
  },
  "language_info": {
   "codemirror_mode": {
    "name": "ipython",
    "version": 3
   },
   "file_extension": ".py",
   "mimetype": "text/x-python",
   "name": "python",
   "nbconvert_exporter": "python",
   "pygments_lexer": "ipython3",
   "version": "3.7.4"
  }
 },
 "nbformat": 4,
 "nbformat_minor": 2
}
